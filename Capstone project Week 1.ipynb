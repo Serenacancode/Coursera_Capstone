{
    "cells": [
        {
            "cell_type": "markdown",
            "metadata": {
                "collapsed": true
            },
            "source": "# Capstone Project Week 1"
        },
        {
            "cell_type": "markdown",
            "metadata": {},
            "source": "2020-08-14"
        },
        {
            "cell_type": "markdown",
            "metadata": {},
            "source": "### 1. Introduction/Business Problem\n\n### Discover Which Melbourne Neighborhood Fits You The Best\n\n<br>\n\nMelbourne, one of the most populous cities in Australia, attracted nearly 1 million people to migrate since 2001. Lots of newcomers to Melbourne are highly interested in what the city has to offer, and especially what venues and facilites are in each neighborhood. Without having enough information on each neighborhood, it would be a difficult problem for them to decide on where to live.  \n\nThe project is here for those people who are looking to move into Melbourne and want to find out the neighborhood that fit them the best. The project will help the target audiences by providing the relevant information on each neighborhood visually on the map. The project will analysis each neighborhood on the venues and facilites it has, with main focus on the ease of accessing geocery stores, school, drug stores, cafes, malls, hospitals, etc, all of which is accessible from Foursquare location data. \n"
        },
        {
            "cell_type": "markdown",
            "metadata": {},
            "source": "### 2. Target Audience\n\n     1. Business professional around the world who wants to move into Melbourne. This analysis will be a comprehensive guide to choose where to live in Melbounre\n     \n     2. Traveller, freelancer, blogger, influencer who wants to get to know the City of Melbourne for their next vacation. \n     \n     3. Data scientists, who wish to analyze the neighborhoods of Melbourne using Exploratory Data Analysis and other statistical & machine learning techniques to obtain all the necessary \n        data, perform some operations on it and, tell a story out of it.\n"
        },
        {
            "cell_type": "markdown",
            "metadata": {},
            "source": "### 2. Data\n\nFoursquare API (https://developer.foursquare.com/docs) will be used to obtain information for each venues:  \n    \n    - Name: The name of the venue.\n    - Category: The category type as defined by the API.\n    - Latitude: The latitude value of the venue.\n    - Longitude: The longitude value of the venue.\n\n\nFrom this website (https://www.geonames.org/postal-codes/AU/VIC/victoria.html), I was able to retrieve the following for entire victoria:\n\n    - Place: name of the neighborhood\n    - Code: postal code\n    - Country: country of the postal code\n    - Admin1: province\n    - Admin2: city name\n    - Admin3: additional information\n\nFrom this website (https://en.wikipedia.org/wiki/List_of_Melbourne_suburbs), I was able to extract the list of suburbs with the corresponding city municipalities\n\n    - City municipalition\n    - Suburbs names\n    - Postal code\n    \n "
        },
        {
            "cell_type": "code",
            "execution_count": null,
            "metadata": {},
            "outputs": [],
            "source": ""
        },
        {
            "cell_type": "code",
            "execution_count": null,
            "metadata": {},
            "outputs": [],
            "source": ""
        },
        {
            "cell_type": "code",
            "execution_count": null,
            "metadata": {},
            "outputs": [],
            "source": ""
        },
        {
            "cell_type": "code",
            "execution_count": null,
            "metadata": {},
            "outputs": [],
            "source": ""
        },
        {
            "cell_type": "code",
            "execution_count": null,
            "metadata": {},
            "outputs": [],
            "source": ""
        }
    ],
    "metadata": {
        "kernelspec": {
            "display_name": "Python 3.6",
            "language": "python",
            "name": "python3"
        },
        "language_info": {
            "codemirror_mode": {
                "name": "ipython",
                "version": 3
            },
            "file_extension": ".py",
            "mimetype": "text/x-python",
            "name": "python",
            "nbconvert_exporter": "python",
            "pygments_lexer": "ipython3",
            "version": "3.6.9"
        }
    },
    "nbformat": 4,
    "nbformat_minor": 1
}