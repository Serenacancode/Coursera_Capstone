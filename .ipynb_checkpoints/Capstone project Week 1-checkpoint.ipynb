{
 "cells": [
  {
   "cell_type": "markdown",
   "metadata": {
    "collapsed": true
   },
   "source": [
    "# Capstone Project Week 1"
   ]
  },
  {
   "cell_type": "markdown",
   "metadata": {},
   "source": [
    "2020-08-14"
   ]
  },
  {
   "cell_type": "markdown",
   "metadata": {},
   "source": [
    "## 1. Introduction/Business Problem\n",
    "\n",
    "### 1.1 Discover which neighborhood in Melbourne is the best for young families\n",
    "\n",
    "<br>\n",
    "\n",
    "Melbourne, one of the most populous cities in Australia, attracted nearly 1 million people to move into since 2001. \n",
    "\n",
    "Lots of newcomers to Melbourne are highly interested in what the city has to offer, and especially what venues and facilities are in each neighborhood. \n",
    "Without having enough information on each neighborhood, it would be a difficult problem for them to decide where to live.\n",
    "\n",
    "So this project is here for those people with young family who are looking to move into Melbourne and want to find out the neighborhood that fit them the best. The project will help the target audiences by providing the relevant information on each neighborhood visually on the map. The project will analysis each neighborhood on the venues and facilities it has, with main focus on the ease of accessing grocery stores, school, drug stores, cafes, malls, hospitals, etc, all of which are accessible from Foursquare location data.\n"
   ]
  },
  {
   "cell_type": "markdown",
   "metadata": {},
   "source": [
    "\n",
    "### 1.2  Target Audience\n",
    "\n",
    "1. Business professional around the world who wants to move into Melbourne. This analysis will be a comprehensive guide to choose where to live in Melbourne\n",
    "     \n",
    "2. Local residents in Melbourne who wish to get to know their city better.\n",
    "     \n",
    "3. Travellers, freelancers, bloggers, and influencers who wants to get to know the City of Melbourne for their next vacation. \n",
    "\n",
    "4. Data scientists, who wish to analyze the neighborhoods of Melbourne using Exploratory Data Analysis and other statistical & machine learning techniques to obtain all the necessary data, perform some operations on it and, tell a story out of it.\n"
   ]
  },
  {
   "cell_type": "markdown",
   "metadata": {},
   "source": [
    "## 2. Data\n",
    "\n",
    "### 2.1 Data Sources\n",
    "\n",
    "Foursquare API (https://developer.foursquare.com/docs) will be used to obtain information for each venue:  \n",
    "    \n",
    "    - Name: The name of the venue.\n",
    "    - Category: The category type as defined by the API.\n",
    "    - Latitude: The latitude value of the venue.\n",
    "    - Longitude: The longitude value of the venue.\n",
    "\n",
    "\n",
    "From this website (https://download.geonames.org/export/zip/), I was able to download a tab-delimited text in utf8 encoding, with the following fields : \n",
    "\n",
    "    - country code: AU for Australia.\n",
    "    - postal code: 4 digit postal code\n",
    "    - place name: neighborhood name\n",
    "    - admin name1: province\n",
    "    - admin code1: province code\n",
    "    - admin name2: city\n",
    "    - admin code2: order subdivision (county/province) varchar(20)\n",
    "    - admin name3: order subdivision (community) varchar(100)\n",
    "    - admin code3: order subdivision (community) varchar(20)\n",
    "    - latitude: estimated latitude (wgs84)\n",
    "    - longitude: estimated longitude (wgs84)\n",
    "    - accuracy: accuracy of lat/lng from 1=estimated, 4=geonameid, 6=centroid of addresses or shape\n",
    "\n",
    "\n",
    "From this website (https://www.homely.com.au/find-suburb-by-region/melbourne-greater-victoria), I was able to extract the full list of suburbs within Melbourne\n",
    "\n",
    "From the official website of Australia (https://data.gov.au/dataset/ds-dga-af33dd8c-0534-4e18-9245-fc64440f742e/details), I was able to download the Suburb/Locality Boundaries in a GeoJSON file. Then, using this website (https://mapshaper.org/) I was able to manually select all the suburbs in Melbourne. \n",
    " \n",
    " "
   ]
  }
 ],
 "metadata": {
  "kernelspec": {
   "display_name": "Python 3",
   "language": "python",
   "name": "python3"
  },
  "language_info": {
   "codemirror_mode": {
    "name": "ipython",
    "version": 3
   },
   "file_extension": ".py",
   "mimetype": "text/x-python",
   "name": "python",
   "nbconvert_exporter": "python",
   "pygments_lexer": "ipython3",
   "version": "3.8.3"
  }
 },
 "nbformat": 4,
 "nbformat_minor": 1
}
