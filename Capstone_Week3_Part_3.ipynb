{
<<<<<<< HEAD
 "cells": [
  {
   "cell_type": "markdown",
   "metadata": {
    "collapsed": true
   },
   "source": [
    "# Week 3 assignment \n",
    "# Explore and cluster the neighborhoods in Toronto \n",
    "## Part 1\n",
    "### 1. Import necessary library\n"
   ]
  },
  {
   "cell_type": "code",
   "execution_count": 26,
   "metadata": {},
   "outputs": [],
   "source": [
    "import pandas as pd\n",
    "import numpy as np\n",
    "from bs4 import BeautifulSoup\n",
    "from urllib.request import urlopen"
   ]
  },
  {
   "cell_type": "markdown",
   "metadata": {},
   "source": [
    "### 2. scrap the webpage"
   ]
  },
  {
   "cell_type": "code",
   "execution_count": 11,
   "metadata": {},
   "outputs": [
    {
     "data": {
      "text/html": [
       "<div>\n",
       "<style scoped>\n",
       "    .dataframe tbody tr th:only-of-type {\n",
       "        vertical-align: middle;\n",
       "    }\n",
       "\n",
       "    .dataframe tbody tr th {\n",
       "        vertical-align: top;\n",
       "    }\n",
       "\n",
       "    .dataframe thead th {\n",
       "        text-align: right;\n",
       "    }\n",
       "</style>\n",
       "<table border=\"1\" class=\"dataframe\">\n",
       "  <thead>\n",
       "    <tr style=\"text-align: right;\">\n",
       "      <th></th>\n",
       "      <th>Postal Code</th>\n",
       "      <th>Borough</th>\n",
       "      <th>Neighbourhood</th>\n",
       "    </tr>\n",
       "  </thead>\n",
       "  <tbody>\n",
       "    <tr>\n",
       "      <th>0</th>\n",
       "      <td>M1A</td>\n",
       "      <td>Not assigned</td>\n",
       "      <td>Not assigned</td>\n",
       "    </tr>\n",
       "    <tr>\n",
       "      <th>1</th>\n",
       "      <td>M2A</td>\n",
       "      <td>Not assigned</td>\n",
       "      <td>Not assigned</td>\n",
       "    </tr>\n",
       "    <tr>\n",
       "      <th>2</th>\n",
       "      <td>M3A</td>\n",
       "      <td>North York</td>\n",
       "      <td>Parkwoods</td>\n",
       "    </tr>\n",
       "    <tr>\n",
       "      <th>3</th>\n",
       "      <td>M4A</td>\n",
       "      <td>North York</td>\n",
       "      <td>Victoria Village</td>\n",
       "    </tr>\n",
       "    <tr>\n",
       "      <th>4</th>\n",
       "      <td>M5A</td>\n",
       "      <td>Downtown Toronto</td>\n",
       "      <td>Regent Park, Harbourfront</td>\n",
       "    </tr>\n",
       "  </tbody>\n",
       "</table>\n",
       "</div>"
      ],
      "text/plain": [
       "  Postal Code           Borough              Neighbourhood\n",
       "0         M1A      Not assigned               Not assigned\n",
       "1         M2A      Not assigned               Not assigned\n",
       "2         M3A        North York                  Parkwoods\n",
       "3         M4A        North York           Victoria Village\n",
       "4         M5A  Downtown Toronto  Regent Park, Harbourfront"
      ]
     },
     "execution_count": 11,
     "metadata": {},
     "output_type": "execute_result"
    }
   ],
   "source": [
    "quote_page = 'https://en.wikipedia.org/wiki/List_of_postal_codes_of_Canada:_M' \n",
    "page = urlopen(quote_page).read()  \n",
    "soup = BeautifulSoup(page, 'html.parser')\n",
    "\n",
    "table = soup.find_all('table')\n",
    "df = pd.read_html(str(table))[0]\n",
    "df.head()"
   ]
  },
  {
   "cell_type": "code",
   "execution_count": 12,
   "metadata": {},
   "outputs": [
    {
     "data": {
      "text/plain": [
       "(180, 3)"
      ]
     },
     "execution_count": 12,
     "metadata": {},
     "output_type": "execute_result"
    }
   ],
   "source": [
    "df.shape"
   ]
  },
  {
   "cell_type": "markdown",
   "metadata": {},
   "source": [
    "Initial table has 180 rows."
   ]
  },
  {
   "cell_type": "markdown",
   "metadata": {},
   "source": [
    "### 3. Only process the cells that have an assigned borough. Ignore cells with a borough that is Not assigned.\n"
   ]
  },
  {
   "cell_type": "code",
   "execution_count": 13,
   "metadata": {},
   "outputs": [
    {
     "data": {
      "text/plain": [
       "(103, 3)"
      ]
     },
     "execution_count": 13,
     "metadata": {},
     "output_type": "execute_result"
    }
   ],
   "source": [
    "df=df[df['Borough']!=\"Not assigned\"]\n",
    "df.shape"
   ]
  },
  {
   "cell_type": "markdown",
   "metadata": {},
   "source": [
    "We removed 77 cells that has unassigned borough"
   ]
  },
  {
   "cell_type": "markdown",
   "metadata": {},
   "source": [
    "### 4. More than one neighborhood can exist in one postal code area."
   ]
  },
  {
   "cell_type": "code",
   "execution_count": 14,
   "metadata": {},
   "outputs": [
    {
     "data": {
      "text/plain": [
       "True"
      ]
     },
     "execution_count": 14,
     "metadata": {},
     "output_type": "execute_result"
    }
   ],
   "source": [
    "df['Postal Code'].is_unique"
   ]
  },
  {
   "cell_type": "markdown",
   "metadata": {},
   "source": [
    "We checked that all Postal code is unique, hence the rows with same postal code has already been combined"
   ]
  },
  {
   "cell_type": "markdown",
   "metadata": {},
   "source": [
    "### 5. If a cell has a borough but a Not assigned neighborhood, then the neighborhood will be the same as the borough."
   ]
  },
  {
   "cell_type": "code",
   "execution_count": 15,
   "metadata": {},
   "outputs": [
    {
     "data": {
      "text/plain": [
       "(0, 3)"
      ]
     },
     "execution_count": 15,
     "metadata": {},
     "output_type": "execute_result"
    }
   ],
   "source": [
    "df.loc[df['Neighbourhood'] == 'Not assigned', 'Neighbourhood'] = df['Borough']\n",
    "df[df['Neighbourhood']=='Not assigned\"'].shape"
   ]
  },
  {
   "cell_type": "markdown",
   "metadata": {},
   "source": [
    "We checked that there are no cells with unassigned neighbourhood"
   ]
  },
  {
   "cell_type": "markdown",
   "metadata": {},
   "source": [
    "### 6.Print the number of rows of your dataframe."
   ]
  },
  {
   "cell_type": "code",
   "execution_count": 16,
   "metadata": {},
   "outputs": [
    {
     "data": {
      "text/plain": [
       "(103, 3)"
      ]
     },
     "execution_count": 16,
     "metadata": {},
     "output_type": "execute_result"
    }
   ],
   "source": [
    "df.shape"
   ]
  },
  {
   "cell_type": "markdown",
   "metadata": {},
   "source": [
    "We has 103 rows in the dataframe now"
   ]
  },
  {
   "cell_type": "markdown",
   "metadata": {},
   "source": [
    "# Part 2\n",
    "### 1. Import the geospatial data from csv file"
   ]
  },
  {
   "cell_type": "code",
   "execution_count": 17,
   "metadata": {},
   "outputs": [
    {
     "data": {
      "text/html": [
       "<div>\n",
       "<style scoped>\n",
       "    .dataframe tbody tr th:only-of-type {\n",
       "        vertical-align: middle;\n",
       "    }\n",
       "\n",
       "    .dataframe tbody tr th {\n",
       "        vertical-align: top;\n",
       "    }\n",
       "\n",
       "    .dataframe thead th {\n",
       "        text-align: right;\n",
       "    }\n",
       "</style>\n",
       "<table border=\"1\" class=\"dataframe\">\n",
       "  <thead>\n",
       "    <tr style=\"text-align: right;\">\n",
       "      <th></th>\n",
       "      <th>Postal Code</th>\n",
       "      <th>Latitude</th>\n",
       "      <th>Longitude</th>\n",
       "    </tr>\n",
       "  </thead>\n",
       "  <tbody>\n",
       "    <tr>\n",
       "      <th>0</th>\n",
       "      <td>M1B</td>\n",
       "      <td>43.806686</td>\n",
       "      <td>-79.194353</td>\n",
       "    </tr>\n",
       "    <tr>\n",
       "      <th>1</th>\n",
       "      <td>M1C</td>\n",
       "      <td>43.784535</td>\n",
       "      <td>-79.160497</td>\n",
       "    </tr>\n",
       "    <tr>\n",
       "      <th>2</th>\n",
       "      <td>M1E</td>\n",
       "      <td>43.763573</td>\n",
       "      <td>-79.188711</td>\n",
       "    </tr>\n",
       "    <tr>\n",
       "      <th>3</th>\n",
       "      <td>M1G</td>\n",
       "      <td>43.770992</td>\n",
       "      <td>-79.216917</td>\n",
       "    </tr>\n",
       "    <tr>\n",
       "      <th>4</th>\n",
       "      <td>M1H</td>\n",
       "      <td>43.773136</td>\n",
       "      <td>-79.239476</td>\n",
       "    </tr>\n",
       "  </tbody>\n",
       "</table>\n",
       "</div>"
      ],
      "text/plain": [
       "  Postal Code   Latitude  Longitude\n",
       "0         M1B  43.806686 -79.194353\n",
       "1         M1C  43.784535 -79.160497\n",
       "2         M1E  43.763573 -79.188711\n",
       "3         M1G  43.770992 -79.216917\n",
       "4         M1H  43.773136 -79.239476"
      ]
     },
     "execution_count": 17,
     "metadata": {},
     "output_type": "execute_result"
    }
   ],
   "source": [
    "geodata=pd.read_csv(\"http://cocl.us/Geospatial_data\")\n",
    "geodata.head()"
   ]
  },
  {
   "cell_type": "markdown",
   "metadata": {},
   "source": [
    "### 2. Merge two data frame"
   ]
  },
  {
   "cell_type": "code",
   "execution_count": 18,
   "metadata": {},
   "outputs": [
    {
     "data": {
      "text/html": [
       "<div>\n",
       "<style scoped>\n",
       "    .dataframe tbody tr th:only-of-type {\n",
       "        vertical-align: middle;\n",
       "    }\n",
       "\n",
       "    .dataframe tbody tr th {\n",
       "        vertical-align: top;\n",
       "    }\n",
       "\n",
       "    .dataframe thead th {\n",
       "        text-align: right;\n",
       "    }\n",
       "</style>\n",
       "<table border=\"1\" class=\"dataframe\">\n",
       "  <thead>\n",
       "    <tr style=\"text-align: right;\">\n",
       "      <th></th>\n",
       "      <th>Postal Code</th>\n",
       "      <th>Borough</th>\n",
       "      <th>Neighbourhood</th>\n",
       "      <th>Latitude</th>\n",
       "      <th>Longitude</th>\n",
       "    </tr>\n",
       "  </thead>\n",
       "  <tbody>\n",
       "    <tr>\n",
       "      <th>0</th>\n",
       "      <td>M3A</td>\n",
       "      <td>North York</td>\n",
       "      <td>Parkwoods</td>\n",
       "      <td>43.753259</td>\n",
       "      <td>-79.329656</td>\n",
       "    </tr>\n",
       "    <tr>\n",
       "      <th>1</th>\n",
       "      <td>M4A</td>\n",
       "      <td>North York</td>\n",
       "      <td>Victoria Village</td>\n",
       "      <td>43.725882</td>\n",
       "      <td>-79.315572</td>\n",
       "    </tr>\n",
       "    <tr>\n",
       "      <th>2</th>\n",
       "      <td>M5A</td>\n",
       "      <td>Downtown Toronto</td>\n",
       "      <td>Regent Park, Harbourfront</td>\n",
       "      <td>43.654260</td>\n",
       "      <td>-79.360636</td>\n",
       "    </tr>\n",
       "    <tr>\n",
       "      <th>3</th>\n",
       "      <td>M6A</td>\n",
       "      <td>North York</td>\n",
       "      <td>Lawrence Manor, Lawrence Heights</td>\n",
       "      <td>43.718518</td>\n",
       "      <td>-79.464763</td>\n",
       "    </tr>\n",
       "    <tr>\n",
       "      <th>4</th>\n",
       "      <td>M7A</td>\n",
       "      <td>Downtown Toronto</td>\n",
       "      <td>Queen's Park, Ontario Provincial Government</td>\n",
       "      <td>43.662301</td>\n",
       "      <td>-79.389494</td>\n",
       "    </tr>\n",
       "  </tbody>\n",
       "</table>\n",
       "</div>"
      ],
      "text/plain": [
       "  Postal Code           Borough                                Neighbourhood  \\\n",
       "0         M3A        North York                                    Parkwoods   \n",
       "1         M4A        North York                             Victoria Village   \n",
       "2         M5A  Downtown Toronto                    Regent Park, Harbourfront   \n",
       "3         M6A        North York             Lawrence Manor, Lawrence Heights   \n",
       "4         M7A  Downtown Toronto  Queen's Park, Ontario Provincial Government   \n",
       "\n",
       "    Latitude  Longitude  \n",
       "0  43.753259 -79.329656  \n",
       "1  43.725882 -79.315572  \n",
       "2  43.654260 -79.360636  \n",
       "3  43.718518 -79.464763  \n",
       "4  43.662301 -79.389494  "
      ]
     },
     "execution_count": 18,
     "metadata": {},
     "output_type": "execute_result"
    }
   ],
   "source": [
    "df2=df.merge(geodata, left_on='Postal Code', right_on='Postal Code')\n",
    "df2.head()"
   ]
  },
  {
   "cell_type": "markdown",
   "metadata": {},
   "source": [
    "## Part 3\n",
    "### 1. Set up the environment"
   ]
  },
  {
   "cell_type": "code",
   "execution_count": 8,
   "metadata": {},
   "outputs": [
    {
     "name": "stdout",
     "output_type": "stream",
     "text": [
      "Solving environment: done\n",
      "\n",
      "## Package Plan ##\n",
      "\n",
      "  environment location: /opt/conda/envs/Python36\n",
      "\n",
      "  added / updated specs: \n",
      "    - folium=0.5.0\n",
      "\n",
      "\n",
      "The following packages will be downloaded:\n",
      "\n",
      "    package                    |            build\n",
      "    ---------------------------|-----------------\n",
      "    certifi-2020.6.20          |   py36h9f0ad1d_0         151 KB  conda-forge\n",
      "    folium-0.5.0               |             py_0          45 KB  conda-forge\n",
      "    python_abi-3.6             |          1_cp36m           4 KB  conda-forge\n",
      "    altair-4.1.0               |             py_1         614 KB  conda-forge\n",
      "    ca-certificates-2020.6.20  |       hecda079_0         145 KB  conda-forge\n",
      "    openssl-1.1.1g             |       h516909a_1         2.1 MB  conda-forge\n",
      "    branca-0.4.1               |             py_0          26 KB  conda-forge\n",
      "    vincent-0.4.4              |             py_1          28 KB  conda-forge\n",
      "    ------------------------------------------------------------\n",
      "                                           Total:         3.1 MB\n",
      "\n",
      "The following NEW packages will be INSTALLED:\n",
      "\n",
      "    altair:          4.1.0-py_1        conda-forge\n",
      "    branca:          0.4.1-py_0        conda-forge\n",
      "    folium:          0.5.0-py_0        conda-forge\n",
      "    python_abi:      3.6-1_cp36m       conda-forge\n",
      "    vincent:         0.4.4-py_1        conda-forge\n",
      "\n",
      "The following packages will be UPDATED:\n",
      "\n",
      "    certifi:         2020.6.20-py36_0              --> 2020.6.20-py36h9f0ad1d_0 conda-forge\n",
      "    openssl:         1.1.1g-h7b6447c_0             --> 1.1.1g-h516909a_1        conda-forge\n",
      "\n",
      "The following packages will be DOWNGRADED:\n",
      "\n",
      "    ca-certificates: 2020.6.24-0                   --> 2020.6.20-hecda079_0     conda-forge\n",
      "\n",
      "\n",
      "Downloading and Extracting Packages\n",
      "certifi-2020.6.20    | 151 KB    | ##################################### | 100% \n",
      "folium-0.5.0         | 45 KB     | ##################################### | 100% \n",
      "python_abi-3.6       | 4 KB      | ##################################### | 100% \n",
      "altair-4.1.0         | 614 KB    | ##################################### | 100% \n",
      "ca-certificates-2020 | 145 KB    | ##################################### | 100% \n",
      "openssl-1.1.1g       | 2.1 MB    | ##################################### | 100% \n",
      "branca-0.4.1         | 26 KB     | ##################################### | 100% \n",
      "vincent-0.4.4        | 28 KB     | ##################################### | 100% \n",
      "Preparing transaction: done\n",
      "Verifying transaction: done\n",
      "Executing transaction: done\n",
      "Libraries imported.\n"
     ]
    }
   ],
   "source": [
    "import json # library to handle JSON files \n",
    "\n",
    "#!conda install -c conda-forge geopy --yes\n",
    "from geopy.geocoders import Nominatim\n",
    "\n",
    "from bs4 import BeautifulSoup\n",
    "from urllib.request import urlopen\n",
    "import requests\n",
    "from pandas.io.json import json_normalize\n",
    "\n",
    "import matplotlib.cm as cm\n",
    "import matplotlib.colors as colors\n",
    "\n",
    "from sklearn.cluster import KMeans\n",
    "\n",
    "!conda install -c conda-forge folium=0.5.0 --yes\n",
    "import folium\n",
    "\n",
    "print('Libraries imported.')"
   ]
  },
  {
   "cell_type": "markdown",
   "metadata": {},
   "source": [
    "### 2. Work with only the borough that contains Toronto"
   ]
  },
  {
   "cell_type": "code",
   "execution_count": 22,
   "metadata": {},
   "outputs": [
    {
     "data": {
      "text/html": [
       "<div>\n",
       "<style scoped>\n",
       "    .dataframe tbody tr th:only-of-type {\n",
       "        vertical-align: middle;\n",
       "    }\n",
       "\n",
       "    .dataframe tbody tr th {\n",
       "        vertical-align: top;\n",
       "    }\n",
       "\n",
       "    .dataframe thead th {\n",
       "        text-align: right;\n",
       "    }\n",
       "</style>\n",
       "<table border=\"1\" class=\"dataframe\">\n",
       "  <thead>\n",
       "    <tr style=\"text-align: right;\">\n",
       "      <th></th>\n",
       "      <th>Postal Code</th>\n",
       "      <th>Borough</th>\n",
       "      <th>Neighbourhood</th>\n",
       "      <th>Latitude</th>\n",
       "      <th>Longitude</th>\n",
       "    </tr>\n",
       "  </thead>\n",
       "  <tbody>\n",
       "    <tr>\n",
       "      <th>2</th>\n",
       "      <td>M5A</td>\n",
       "      <td>Downtown Toronto</td>\n",
       "      <td>Regent Park, Harbourfront</td>\n",
       "      <td>43.654260</td>\n",
       "      <td>-79.360636</td>\n",
       "    </tr>\n",
       "    <tr>\n",
       "      <th>4</th>\n",
       "      <td>M7A</td>\n",
       "      <td>Downtown Toronto</td>\n",
       "      <td>Queen's Park, Ontario Provincial Government</td>\n",
       "      <td>43.662301</td>\n",
       "      <td>-79.389494</td>\n",
       "    </tr>\n",
       "    <tr>\n",
       "      <th>9</th>\n",
       "      <td>M5B</td>\n",
       "      <td>Downtown Toronto</td>\n",
       "      <td>Garden District, Ryerson</td>\n",
       "      <td>43.657162</td>\n",
       "      <td>-79.378937</td>\n",
       "    </tr>\n",
       "    <tr>\n",
       "      <th>15</th>\n",
       "      <td>M5C</td>\n",
       "      <td>Downtown Toronto</td>\n",
       "      <td>St. James Town</td>\n",
       "      <td>43.651494</td>\n",
       "      <td>-79.375418</td>\n",
       "    </tr>\n",
       "    <tr>\n",
       "      <th>19</th>\n",
       "      <td>M4E</td>\n",
       "      <td>East Toronto</td>\n",
       "      <td>The Beaches</td>\n",
       "      <td>43.676357</td>\n",
       "      <td>-79.293031</td>\n",
       "    </tr>\n",
       "  </tbody>\n",
       "</table>\n",
       "</div>"
      ],
      "text/plain": [
       "   Postal Code           Borough                                Neighbourhood  \\\n",
       "2          M5A  Downtown Toronto                    Regent Park, Harbourfront   \n",
       "4          M7A  Downtown Toronto  Queen's Park, Ontario Provincial Government   \n",
       "9          M5B  Downtown Toronto                     Garden District, Ryerson   \n",
       "15         M5C  Downtown Toronto                               St. James Town   \n",
       "19         M4E      East Toronto                                  The Beaches   \n",
       "\n",
       "     Latitude  Longitude  \n",
       "2   43.654260 -79.360636  \n",
       "4   43.662301 -79.389494  \n",
       "9   43.657162 -79.378937  \n",
       "15  43.651494 -79.375418  \n",
       "19  43.676357 -79.293031  "
      ]
     },
     "execution_count": 22,
     "metadata": {},
     "output_type": "execute_result"
    }
   ],
   "source": [
    "df3 = df2.copy()\n",
    "df3 = df3[df3['Borough'].str.contains(\"Toronto\")]\n",
    "df3.head()"
   ]
  },
  {
   "cell_type": "markdown",
   "metadata": {},
   "source": [
    "### 3. Analyze Each Neighborhood using Foursquare API "
   ]
  },
  {
   "cell_type": "code",
   "execution_count": 43,
   "metadata": {},
   "outputs": [],
   "source": [
    "CLIENT_ID = 'ST4O01JM33Z0IGCYAXNREQKWZYKF4AD4UMV0NBO4II4AUQ2T' \n",
    "CLIENT_SECRET = 'RZQ3S4HAHXB4VOXWE4GAYKWZ11IAFOHRGGT5QOUSQZO4ZE3K' \n",
    "VERSION = '20180605' # Foursquare API version\n",
    "LIMIT = 100 \n",
    "radius = 500"
   ]
  },
  {
   "cell_type": "code",
   "execution_count": 72,
   "metadata": {},
   "outputs": [],
   "source": [
    "def getNearbyVenues(names, latitudes, longitudes, radius=500):\n",
    "    \n",
    "    venues_list=[]\n",
    "    for name, lat, lng in zip(names, latitudes, longitudes): \n",
    "        url = 'https://api.foursquare.com/v2/venues/explore?&client_id={}&client_secret={}&v={}&ll={},{}&radius={}&limit={}'.format(\n",
    "            CLIENT_ID,CLIENT_SECRET,VERSION,lat,lng,radius,LIMIT)\n",
    "        # make the GET request\n",
    "        results = requests.get(url).json()[\"response\"]['groups'][0]['items'] \n",
    "        # return only relevant information for each nearby venue\n",
    "        venues_list.append([(name,lat,lng, v['venue']['name'], \n",
    "            v['venue']['location']['lat'], \n",
    "            v['venue']['location']['lng'],  \n",
    "            v['venue']['categories'][0]['name']) for v in results]) \n",
    "    nearby_venues = pd.DataFrame([item for venue_list in venues_list for item in venue_list])\n",
    "    nearby_venues.columns = ['Neighborhood', \n",
    "                  'Neighborhood Latitude', \n",
    "                  'Neighborhood Longitude', \n",
    "                  'Venue', \n",
    "                  'Venue Latitude', \n",
    "                  'Venue Longitude', \n",
    "                  'Venue Category'] \n",
    "    return(nearby_venues)"
   ]
  },
  {
   "cell_type": "code",
   "execution_count": 128,
   "metadata": {},
   "outputs": [
    {
     "data": {
      "text/html": [
       "<div>\n",
       "<style scoped>\n",
       "    .dataframe tbody tr th:only-of-type {\n",
       "        vertical-align: middle;\n",
       "    }\n",
       "\n",
       "    .dataframe tbody tr th {\n",
       "        vertical-align: top;\n",
       "    }\n",
       "\n",
       "    .dataframe thead th {\n",
       "        text-align: right;\n",
       "    }\n",
       "</style>\n",
       "<table border=\"1\" class=\"dataframe\">\n",
       "  <thead>\n",
       "    <tr style=\"text-align: right;\">\n",
       "      <th></th>\n",
       "      <th>Neighborhood</th>\n",
       "      <th>Neighborhood Latitude</th>\n",
       "      <th>Neighborhood Longitude</th>\n",
       "      <th>Venue</th>\n",
       "      <th>Venue Latitude</th>\n",
       "      <th>Venue Longitude</th>\n",
       "      <th>Venue Category</th>\n",
       "    </tr>\n",
       "  </thead>\n",
       "  <tbody>\n",
       "    <tr>\n",
       "      <th>0</th>\n",
       "      <td>Regent Park, Harbourfront</td>\n",
       "      <td>43.65426</td>\n",
       "      <td>-79.360636</td>\n",
       "      <td>Roselle Desserts</td>\n",
       "      <td>43.653447</td>\n",
       "      <td>-79.362017</td>\n",
       "      <td>Bakery</td>\n",
       "    </tr>\n",
       "    <tr>\n",
       "      <th>1</th>\n",
       "      <td>Regent Park, Harbourfront</td>\n",
       "      <td>43.65426</td>\n",
       "      <td>-79.360636</td>\n",
       "      <td>Tandem Coffee</td>\n",
       "      <td>43.653559</td>\n",
       "      <td>-79.361809</td>\n",
       "      <td>Coffee Shop</td>\n",
       "    </tr>\n",
       "    <tr>\n",
       "      <th>2</th>\n",
       "      <td>Regent Park, Harbourfront</td>\n",
       "      <td>43.65426</td>\n",
       "      <td>-79.360636</td>\n",
       "      <td>Cooper Koo Family YMCA</td>\n",
       "      <td>43.653249</td>\n",
       "      <td>-79.358008</td>\n",
       "      <td>Distribution Center</td>\n",
       "    </tr>\n",
       "    <tr>\n",
       "      <th>3</th>\n",
       "      <td>Regent Park, Harbourfront</td>\n",
       "      <td>43.65426</td>\n",
       "      <td>-79.360636</td>\n",
       "      <td>Body Blitz Spa East</td>\n",
       "      <td>43.654735</td>\n",
       "      <td>-79.359874</td>\n",
       "      <td>Spa</td>\n",
       "    </tr>\n",
       "    <tr>\n",
       "      <th>4</th>\n",
       "      <td>Regent Park, Harbourfront</td>\n",
       "      <td>43.65426</td>\n",
       "      <td>-79.360636</td>\n",
       "      <td>Impact Kitchen</td>\n",
       "      <td>43.656369</td>\n",
       "      <td>-79.356980</td>\n",
       "      <td>Restaurant</td>\n",
       "    </tr>\n",
       "  </tbody>\n",
       "</table>\n",
       "</div>"
      ],
      "text/plain": [
       "                Neighborhood  Neighborhood Latitude  Neighborhood Longitude  \\\n",
       "0  Regent Park, Harbourfront               43.65426              -79.360636   \n",
       "1  Regent Park, Harbourfront               43.65426              -79.360636   \n",
       "2  Regent Park, Harbourfront               43.65426              -79.360636   \n",
       "3  Regent Park, Harbourfront               43.65426              -79.360636   \n",
       "4  Regent Park, Harbourfront               43.65426              -79.360636   \n",
       "\n",
       "                    Venue  Venue Latitude  Venue Longitude  \\\n",
       "0        Roselle Desserts       43.653447       -79.362017   \n",
       "1           Tandem Coffee       43.653559       -79.361809   \n",
       "2  Cooper Koo Family YMCA       43.653249       -79.358008   \n",
       "3     Body Blitz Spa East       43.654735       -79.359874   \n",
       "4          Impact Kitchen       43.656369       -79.356980   \n",
       "\n",
       "        Venue Category  \n",
       "0               Bakery  \n",
       "1          Coffee Shop  \n",
       "2  Distribution Center  \n",
       "3                  Spa  \n",
       "4           Restaurant  "
      ]
     },
     "execution_count": 128,
     "metadata": {},
     "output_type": "execute_result"
    }
   ],
   "source": [
    "trt_venues = getNearbyVenues(names=df3['Neighbourhood'],latitudes=df3['Latitude'],longitudes=df3['Longitude'])\n",
    "trt_venues.head()"
   ]
  },
  {
   "cell_type": "code",
   "execution_count": null,
   "metadata": {},
   "outputs": [],
   "source": []
  },
  {
   "cell_type": "markdown",
   "metadata": {},
   "source": [
    "#### Let's print each neighborhood along with the top 5 most common venues\n",
    "\n"
   ]
  },
  {
   "cell_type": "code",
   "execution_count": 73,
   "metadata": {},
   "outputs": [
    {
     "name": "stdout",
     "output_type": "stream",
     "text": [
      "----Berczy Park----\n",
      "                venue  freq\n",
      "0         Coffee Shop  0.11\n",
      "1          Restaurant  0.04\n",
      "2                Café  0.04\n",
      "3  Seafood Restaurant  0.04\n",
      "4              Bakery  0.04\n",
      "\n",
      "\n",
      "----Brockton, Parkdale Village, Exhibition Place----\n",
      "            venue  freq\n",
      "0            Café  0.12\n",
      "1          Bakery  0.08\n",
      "2  Breakfast Spot  0.08\n",
      "3     Coffee Shop  0.08\n",
      "4   Grocery Store  0.04\n",
      "\n",
      "\n",
      "----Business reply mail Processing Centre, South Central Letter Processing Plant Toronto----\n",
      "                  venue  freq\n",
      "0    Light Rail Station  0.12\n",
      "1           Yoga Studio  0.06\n",
      "2         Auto Workshop  0.06\n",
      "3  Fast Food Restaurant  0.06\n",
      "4        Farmers Market  0.06\n",
      "\n",
      "\n",
      "----CN Tower, King and Spadina, Railway Lands, Harbourfront West, Bathurst Quay, South Niagara, Island airport----\n",
      "                venue  freq\n",
      "0     Airport Service  0.13\n",
      "1    Airport Terminal  0.13\n",
      "2         Coffee Shop  0.07\n",
      "3    Sculpture Garden  0.07\n",
      "4  Airport Food Court  0.07\n",
      "\n",
      "\n",
      "----Central Bay Street----\n",
      "                 venue  freq\n",
      "0          Coffee Shop  0.17\n",
      "1       Sandwich Place  0.06\n",
      "2                 Café  0.05\n",
      "3  Japanese Restaurant  0.05\n",
      "4   Italian Restaurant  0.05\n",
      "\n",
      "\n",
      "----Christie----\n",
      "                venue  freq\n",
      "0       Grocery Store  0.24\n",
      "1                Café  0.18\n",
      "2                Park  0.12\n",
      "3  Italian Restaurant  0.06\n",
      "4         Candy Store  0.06\n",
      "\n",
      "\n",
      "----Church and Wellesley----\n",
      "                 venue  freq\n",
      "0          Coffee Shop  0.11\n",
      "1  Japanese Restaurant  0.07\n",
      "2     Sushi Restaurant  0.05\n",
      "3           Restaurant  0.04\n",
      "4              Gay Bar  0.04\n",
      "\n",
      "\n",
      "----Commerce Court, Victoria Hotel----\n",
      "         venue  freq\n",
      "0  Coffee Shop  0.13\n",
      "1   Restaurant  0.07\n",
      "2         Café  0.07\n",
      "3        Hotel  0.06\n",
      "4          Gym  0.04\n",
      "\n",
      "\n",
      "----Davisville----\n",
      "              venue  freq\n",
      "0      Dessert Shop  0.09\n",
      "1    Sandwich Place  0.09\n",
      "2  Sushi Restaurant  0.06\n",
      "3               Gym  0.06\n",
      "4              Café  0.06\n",
      "\n",
      "\n",
      "----Davisville North----\n",
      "                  venue  freq\n",
      "0  Gym / Fitness Center   0.1\n",
      "1                 Hotel   0.1\n",
      "2                  Park   0.1\n",
      "3     Food & Drink Shop   0.1\n",
      "4        Sandwich Place   0.1\n",
      "\n",
      "\n",
      "----Dufferin, Dovercourt Village----\n",
      "         venue  freq\n",
      "0     Pharmacy  0.14\n",
      "1       Bakery  0.14\n",
      "2  Pizza Place  0.07\n",
      "3         Park  0.07\n",
      "4  Music Venue  0.07\n",
      "\n",
      "\n",
      "----First Canadian Place, Underground city----\n",
      "                 venue  freq\n",
      "0          Coffee Shop  0.12\n",
      "1                 Café  0.07\n",
      "2                Hotel  0.05\n",
      "3  Japanese Restaurant  0.04\n",
      "4           Restaurant  0.04\n",
      "\n",
      "\n",
      "----Forest Hill North & West, Forest Hill Road Park----\n",
      "                             venue  freq\n",
      "0                             Park  0.25\n",
      "1                    Jewelry Store  0.25\n",
      "2                            Trail  0.25\n",
      "3                 Sushi Restaurant  0.25\n",
      "4  Molecular Gastronomy Restaurant  0.00\n",
      "\n",
      "\n",
      "----Garden District, Ryerson----\n",
      "                venue  freq\n",
      "0      Clothing Store  0.10\n",
      "1         Coffee Shop  0.08\n",
      "2                Café  0.04\n",
      "3  Italian Restaurant  0.03\n",
      "4      Cosmetics Shop  0.03\n",
      "\n",
      "\n",
      "----Harbourfront East, Union Station, Toronto Islands----\n",
      "                 venue  freq\n",
      "0          Coffee Shop  0.12\n",
      "1             Aquarium  0.05\n",
      "2                 Café  0.04\n",
      "3                Hotel  0.04\n",
      "4  Fried Chicken Joint  0.03\n",
      "\n",
      "\n",
      "----High Park, The Junction South----\n",
      "                venue  freq\n",
      "0                Café  0.08\n",
      "1  Mexican Restaurant  0.08\n",
      "2     Thai Restaurant  0.08\n",
      "3       Grocery Store  0.04\n",
      "4  Italian Restaurant  0.04\n",
      "\n",
      "\n",
      "----India Bazaar, The Beaches West----\n",
      "                  venue  freq\n",
      "0                  Park  0.10\n",
      "1     Fish & Chips Shop  0.05\n",
      "2         Movie Theater  0.05\n",
      "3               Brewery  0.05\n",
      "4  Fast Food Restaurant  0.05\n",
      "\n",
      "\n",
      "----Kensington Market, Chinatown, Grange Park----\n",
      "                           venue  freq\n",
      "0                           Café  0.08\n",
      "1  Vegetarian / Vegan Restaurant  0.06\n",
      "2                    Coffee Shop  0.06\n",
      "3             Mexican Restaurant  0.05\n",
      "4                            Bar  0.05\n",
      "\n",
      "\n",
      "----Lawrence Park----\n",
      "                venue  freq\n",
      "0                Park  0.33\n",
      "1            Bus Line  0.33\n",
      "2         Swim School  0.33\n",
      "3  Light Rail Station  0.00\n",
      "4        Liquor Store  0.00\n",
      "\n",
      "\n",
      "----Little Portugal, Trinity----\n",
      "                   venue  freq\n",
      "0                    Bar  0.09\n",
      "1            Coffee Shop  0.06\n",
      "2       Asian Restaurant  0.06\n",
      "3             Restaurant  0.04\n",
      "4  Vietnamese Restaurant  0.04\n",
      "\n",
      "\n",
      "----Moore Park, Summerhill East----\n",
      "                 venue  freq\n",
      "0           Restaurant   1.0\n",
      "1    Afghan Restaurant   0.0\n",
      "2  Monument / Landmark   0.0\n",
      "3         Liquor Store   0.0\n",
      "4               Lounge   0.0\n",
      "\n",
      "\n",
      "----North Toronto West, Lawrence Park----\n",
      "                 venue  freq\n",
      "0          Coffee Shop  0.11\n",
      "1       Clothing Store  0.11\n",
      "2          Yoga Studio  0.06\n",
      "3  Sporting Goods Shop  0.06\n",
      "4                Diner  0.06\n",
      "\n",
      "\n",
      "----Parkdale, Roncesvalles----\n",
      "                         venue  freq\n",
      "0               Breakfast Spot  0.14\n",
      "1                    Gift Shop  0.14\n",
      "2  Eastern European Restaurant  0.07\n",
      "3                          Bar  0.07\n",
      "4                      Dog Run  0.07\n",
      "\n",
      "\n",
      "----Queen's Park, Ontario Provincial Government----\n",
      "           venue  freq\n",
      "0    Coffee Shop  0.27\n",
      "1          Diner  0.06\n",
      "2    Yoga Studio  0.03\n",
      "3  Burrito Place  0.03\n",
      "4            Bar  0.03\n",
      "\n",
      "\n",
      "----Regent Park, Harbourfront----\n",
      "         venue  freq\n",
      "0  Coffee Shop  0.16\n",
      "1         Park  0.07\n",
      "2          Pub  0.07\n",
      "3       Bakery  0.07\n",
      "4      Theater  0.05\n",
      "\n",
      "\n",
      "----Richmond, Adelaide, King----\n",
      "            venue  freq\n",
      "0     Coffee Shop  0.08\n",
      "1            Café  0.05\n",
      "2  Clothing Store  0.04\n",
      "3           Hotel  0.04\n",
      "4      Restaurant  0.04\n",
      "\n",
      "\n",
      "----Rosedale----\n",
      "                 venue  freq\n",
      "0                 Park  0.50\n",
      "1           Playground  0.25\n",
      "2                Trail  0.25\n",
      "3  Monument / Landmark  0.00\n",
      "4         Liquor Store  0.00\n",
      "\n",
      "\n",
      "----Roselawn----\n",
      "                 venue  freq\n",
      "0         Home Service   0.5\n",
      "1               Garden   0.5\n",
      "2    Afghan Restaurant   0.0\n",
      "3  Monument / Landmark   0.0\n",
      "4         Liquor Store   0.0\n",
      "\n",
      "\n",
      "----Runnymede, Swansea----\n",
      "              venue  freq\n",
      "0              Café  0.08\n",
      "1       Coffee Shop  0.08\n",
      "2  Sushi Restaurant  0.06\n",
      "3               Pub  0.06\n",
      "4       Pizza Place  0.06\n",
      "\n",
      "\n",
      "----St. James Town----\n",
      "                 venue  freq\n",
      "0                 Café  0.06\n",
      "1          Coffee Shop  0.06\n",
      "2       Clothing Store  0.05\n",
      "3  American Restaurant  0.04\n",
      "4         Cocktail Bar  0.04\n",
      "\n",
      "\n",
      "----St. James Town, Cabbagetown----\n",
      "         venue  freq\n",
      "0         Café  0.06\n",
      "1  Coffee Shop  0.06\n",
      "2       Bakery  0.06\n",
      "3  Pizza Place  0.06\n",
      "4         Park  0.04\n",
      "\n",
      "\n",
      "----Stn A PO Boxes----\n",
      "                venue  freq\n",
      "0         Coffee Shop  0.12\n",
      "1                Café  0.04\n",
      "2            Beer Bar  0.03\n",
      "3               Hotel  0.03\n",
      "4  Seafood Restaurant  0.03\n",
      "\n",
      "\n",
      "----Studio District----\n",
      "         venue  freq\n",
      "0         Café  0.10\n",
      "1  Coffee Shop  0.08\n",
      "2    Gastropub  0.05\n",
      "3       Bakery  0.05\n",
      "4      Brewery  0.05\n",
      "\n",
      "\n",
      "----Summerhill West, Rathnelly, South Hill, Forest Hill SE, Deer Park----\n",
      "         venue  freq\n",
      "0          Pub  0.12\n",
      "1  Coffee Shop  0.12\n",
      "2   Bagel Shop  0.06\n",
      "3  Supermarket  0.06\n",
      "4   Restaurant  0.06\n",
      "\n",
      "\n",
      "----The Annex, North Midtown, Yorkville----\n",
      "                       venue  freq\n",
      "0                       Café  0.14\n",
      "1             Sandwich Place  0.14\n",
      "2                Coffee Shop  0.10\n",
      "3  Middle Eastern Restaurant  0.05\n",
      "4                  BBQ Joint  0.05\n",
      "\n",
      "\n",
      "----The Beaches----\n",
      "                 venue  freq\n",
      "0    Health Food Store  0.25\n",
      "1                Trail  0.25\n",
      "2                  Pub  0.25\n",
      "3    Afghan Restaurant  0.00\n",
      "4  Monument / Landmark  0.00\n",
      "\n",
      "\n",
      "----The Danforth West, Riverdale----\n",
      "                venue  freq\n",
      "0    Greek Restaurant  0.20\n",
      "1         Coffee Shop  0.07\n",
      "2  Italian Restaurant  0.07\n",
      "3      Ice Cream Shop  0.05\n",
      "4          Restaurant  0.05\n",
      "\n",
      "\n",
      "----Toronto Dominion Centre, Design Exchange----\n",
      "                 venue  freq\n",
      "0          Coffee Shop  0.13\n",
      "1                Hotel  0.07\n",
      "2                 Café  0.06\n",
      "3           Restaurant  0.04\n",
      "4  American Restaurant  0.03\n",
      "\n",
      "\n",
      "----University of Toronto, Harbord----\n",
      "                 venue  freq\n",
      "0                 Café  0.14\n",
      "1            Bookstore  0.08\n",
      "2           Restaurant  0.06\n",
      "3               Bakery  0.06\n",
      "4  Japanese Restaurant  0.06\n",
      "\n",
      "\n"
     ]
    }
   ],
   "source": [
    "trt_onehot = pd.get_dummies(trt_venues[['Venue Category']], prefix=\"\", prefix_sep=\"\") \n",
    "trt_onehot['Neighborhood'] = trt_venues['Neighborhood']   \n",
    "trt_grouped = trt_onehot.groupby('Neighborhood').mean().reset_index()\n",
    "\n",
    "num_top_venues = 5\n",
    "\n",
    "for hood in trt_grouped['Neighborhood']:\n",
    "    print(\"----\"+hood+\"----\")\n",
    "    temp = trt_grouped[trt_grouped['Neighborhood'] == hood].T.reset_index()\n",
    "    temp.columns = ['venue','freq']\n",
    "    temp = temp.iloc[1:]\n",
    "    temp['freq'] = temp['freq'].astype(float)\n",
    "    temp = temp.round({'freq': 2})\n",
    "    print(temp.sort_values('freq', ascending=False).reset_index(drop=True).head(num_top_venues))\n",
    "    print('\\n')"
   ]
  },
  {
   "cell_type": "markdown",
   "metadata": {},
   "source": [
    "#### Let's put that into a pandas dataframe"
   ]
  },
  {
   "cell_type": "code",
   "execution_count": 123,
   "metadata": {},
   "outputs": [
    {
     "data": {
      "text/html": [
       "<div>\n",
       "<style scoped>\n",
       "    .dataframe tbody tr th:only-of-type {\n",
       "        vertical-align: middle;\n",
       "    }\n",
       "\n",
       "    .dataframe tbody tr th {\n",
       "        vertical-align: top;\n",
       "    }\n",
       "\n",
       "    .dataframe thead th {\n",
       "        text-align: right;\n",
       "    }\n",
       "</style>\n",
       "<table border=\"1\" class=\"dataframe\">\n",
       "  <thead>\n",
       "    <tr style=\"text-align: right;\">\n",
       "      <th></th>\n",
       "      <th>Neighborhood</th>\n",
       "      <th>1st Most Common Venue</th>\n",
       "      <th>2nd Most Common Venue</th>\n",
       "      <th>3rd Most Common Venue</th>\n",
       "      <th>4th Most Common Venue</th>\n",
       "      <th>5th Most Common Venue</th>\n",
       "    </tr>\n",
       "  </thead>\n",
       "  <tbody>\n",
       "    <tr>\n",
       "      <th>0</th>\n",
       "      <td>Berczy Park</td>\n",
       "      <td>Coffee Shop</td>\n",
       "      <td>Café</td>\n",
       "      <td>Restaurant</td>\n",
       "      <td>Cocktail Bar</td>\n",
       "      <td>Beer Bar</td>\n",
       "    </tr>\n",
       "    <tr>\n",
       "      <th>1</th>\n",
       "      <td>Brockton, Parkdale Village, Exhibition Place</td>\n",
       "      <td>Café</td>\n",
       "      <td>Bakery</td>\n",
       "      <td>Breakfast Spot</td>\n",
       "      <td>Coffee Shop</td>\n",
       "      <td>Yoga Studio</td>\n",
       "    </tr>\n",
       "    <tr>\n",
       "      <th>2</th>\n",
       "      <td>Business reply mail Processing Centre, South C...</td>\n",
       "      <td>Light Rail Station</td>\n",
       "      <td>Yoga Studio</td>\n",
       "      <td>Auto Workshop</td>\n",
       "      <td>Gym / Fitness Center</td>\n",
       "      <td>Garden Center</td>\n",
       "    </tr>\n",
       "    <tr>\n",
       "      <th>3</th>\n",
       "      <td>CN Tower, King and Spadina, Railway Lands, Har...</td>\n",
       "      <td>Airport Service</td>\n",
       "      <td>Airport Terminal</td>\n",
       "      <td>Coffee Shop</td>\n",
       "      <td>Boutique</td>\n",
       "      <td>Rental Car Location</td>\n",
       "    </tr>\n",
       "    <tr>\n",
       "      <th>4</th>\n",
       "      <td>Central Bay Street</td>\n",
       "      <td>Coffee Shop</td>\n",
       "      <td>Sandwich Place</td>\n",
       "      <td>Japanese Restaurant</td>\n",
       "      <td>Café</td>\n",
       "      <td>Italian Restaurant</td>\n",
       "    </tr>\n",
       "  </tbody>\n",
       "</table>\n",
       "</div>"
      ],
      "text/plain": [
       "                                        Neighborhood 1st Most Common Venue  \\\n",
       "0                                        Berczy Park           Coffee Shop   \n",
       "1       Brockton, Parkdale Village, Exhibition Place                  Café   \n",
       "2  Business reply mail Processing Centre, South C...    Light Rail Station   \n",
       "3  CN Tower, King and Spadina, Railway Lands, Har...       Airport Service   \n",
       "4                                 Central Bay Street           Coffee Shop   \n",
       "\n",
       "  2nd Most Common Venue 3rd Most Common Venue 4th Most Common Venue  \\\n",
       "0                  Café            Restaurant          Cocktail Bar   \n",
       "1                Bakery        Breakfast Spot           Coffee Shop   \n",
       "2           Yoga Studio         Auto Workshop  Gym / Fitness Center   \n",
       "3      Airport Terminal           Coffee Shop              Boutique   \n",
       "4        Sandwich Place   Japanese Restaurant                  Café   \n",
       "\n",
       "  5th Most Common Venue  \n",
       "0              Beer Bar  \n",
       "1           Yoga Studio  \n",
       "2         Garden Center  \n",
       "3   Rental Car Location  \n",
       "4    Italian Restaurant  "
      ]
     },
     "execution_count": 123,
     "metadata": {},
     "output_type": "execute_result"
    }
   ],
   "source": [
    "def return_most_common_venues(row, num_top_venues):\n",
    "    row_categories = row.iloc[1:]\n",
    "    row_categories_sorted = row_categories.sort_values(ascending=False)\n",
    "    \n",
    "    return row_categories_sorted.index.values[0:num_top_venues]\n",
    "\n",
    "num_top_venues = 5\n",
    "\n",
    "indicators = ['st', 'nd', 'rd']\n",
    "\n",
    "# create columns according to number of top venues\n",
    "columns = ['Neighborhood']\n",
    "for ind in np.arange(num_top_venues):\n",
    "    try:\n",
    "        columns.append('{}{} Most Common Venue'.format(ind+1, indicators[ind]))\n",
    "    except:\n",
    "        columns.append('{}th Most Common Venue'.format(ind+1))\n",
    "\n",
    "# create a new dataframe\n",
    "neighborhoods_venues_sorted = pd.DataFrame(columns=columns)\n",
    "neighborhoods_venues_sorted['Neighborhood'] = trt_grouped['Neighborhood']\n",
    "\n",
    "for ind in np.arange(trt_grouped.shape[0]):\n",
    "    neighborhoods_venues_sorted.iloc[ind, 1:] = return_most_common_venues(trt_grouped.iloc[ind, :], num_top_venues)\n",
    "\n",
    "neighborhoods_venues_sorted.head()"
   ]
  },
  {
   "cell_type": "markdown",
   "metadata": {},
   "source": [
    "### 4. Cluster Neighborhoods"
   ]
  },
  {
   "cell_type": "code",
   "execution_count": 146,
   "metadata": {},
   "outputs": [
    {
     "name": "stderr",
     "output_type": "stream",
     "text": [
      "/opt/conda/envs/Python36/lib/python3.6/site-packages/ipykernel/__main__.py:3: SettingWithCopyWarning: \n",
      "A value is trying to be set on a copy of a slice from a DataFrame.\n",
      "Try using .loc[row_indexer,col_indexer] = value instead\n",
      "\n",
      "See the caveats in the documentation: http://pandas.pydata.org/pandas-docs/stable/indexing.html#indexing-view-versus-copy\n",
      "  app.launch_new_instance()\n"
     ]
=======
    "cells": [
        {
            "metadata": {
                "collapsed": true
            },
            "cell_type": "markdown",
            "source": "# Week 3 assignment \n# Explore and cluster the neighborhoods in Toronto \n## Part 1\n### 1. Import necessary library\n"
        },
        {
            "metadata": {},
            "cell_type": "code",
            "source": "import pandas as pd\nimport numpy as np\nfrom bs4 import BeautifulSoup\nfrom urllib.request import urlopen",
            "execution_count": 26,
            "outputs": []
        },
        {
            "metadata": {},
            "cell_type": "markdown",
            "source": "### 2. scrap the webpage"
        },
        {
            "metadata": {},
            "cell_type": "code",
            "source": "quote_page = 'https://en.wikipedia.org/wiki/List_of_postal_codes_of_Canada:_M' \npage = urlopen(quote_page).read()  \nsoup = BeautifulSoup(page, 'html.parser')\n\ntable = soup.find_all('table')\ndf = pd.read_html(str(table))[0]\ndf.head()",
            "execution_count": 11,
            "outputs": [
                {
                    "output_type": "execute_result",
                    "execution_count": 11,
                    "data": {
                        "text/plain": "  Postal Code           Borough              Neighbourhood\n0         M1A      Not assigned               Not assigned\n1         M2A      Not assigned               Not assigned\n2         M3A        North York                  Parkwoods\n3         M4A        North York           Victoria Village\n4         M5A  Downtown Toronto  Regent Park, Harbourfront",
                        "text/html": "<div>\n<style scoped>\n    .dataframe tbody tr th:only-of-type {\n        vertical-align: middle;\n    }\n\n    .dataframe tbody tr th {\n        vertical-align: top;\n    }\n\n    .dataframe thead th {\n        text-align: right;\n    }\n</style>\n<table border=\"1\" class=\"dataframe\">\n  <thead>\n    <tr style=\"text-align: right;\">\n      <th></th>\n      <th>Postal Code</th>\n      <th>Borough</th>\n      <th>Neighbourhood</th>\n    </tr>\n  </thead>\n  <tbody>\n    <tr>\n      <th>0</th>\n      <td>M1A</td>\n      <td>Not assigned</td>\n      <td>Not assigned</td>\n    </tr>\n    <tr>\n      <th>1</th>\n      <td>M2A</td>\n      <td>Not assigned</td>\n      <td>Not assigned</td>\n    </tr>\n    <tr>\n      <th>2</th>\n      <td>M3A</td>\n      <td>North York</td>\n      <td>Parkwoods</td>\n    </tr>\n    <tr>\n      <th>3</th>\n      <td>M4A</td>\n      <td>North York</td>\n      <td>Victoria Village</td>\n    </tr>\n    <tr>\n      <th>4</th>\n      <td>M5A</td>\n      <td>Downtown Toronto</td>\n      <td>Regent Park, Harbourfront</td>\n    </tr>\n  </tbody>\n</table>\n</div>"
                    },
                    "metadata": {}
                }
            ]
        },
        {
            "metadata": {},
            "cell_type": "code",
            "source": "df.shape",
            "execution_count": 12,
            "outputs": [
                {
                    "output_type": "execute_result",
                    "execution_count": 12,
                    "data": {
                        "text/plain": "(180, 3)"
                    },
                    "metadata": {}
                }
            ]
        },
        {
            "metadata": {},
            "cell_type": "markdown",
            "source": "Initial table has 180 rows."
        },
        {
            "metadata": {},
            "cell_type": "markdown",
            "source": "### 3. Only process the cells that have an assigned borough. Ignore cells with a borough that is Not assigned.\n"
        },
        {
            "metadata": {},
            "cell_type": "code",
            "source": "df=df[df['Borough']!=\"Not assigned\"]\ndf.shape",
            "execution_count": 13,
            "outputs": [
                {
                    "output_type": "execute_result",
                    "execution_count": 13,
                    "data": {
                        "text/plain": "(103, 3)"
                    },
                    "metadata": {}
                }
            ]
        },
        {
            "metadata": {},
            "cell_type": "markdown",
            "source": "We removed 77 cells that has unassigned borough"
        },
        {
            "metadata": {},
            "cell_type": "markdown",
            "source": "### 4. More than one neighborhood can exist in one postal code area."
        },
        {
            "metadata": {},
            "cell_type": "code",
            "source": "df['Postal Code'].is_unique",
            "execution_count": 14,
            "outputs": [
                {
                    "output_type": "execute_result",
                    "execution_count": 14,
                    "data": {
                        "text/plain": "True"
                    },
                    "metadata": {}
                }
            ]
        },
        {
            "metadata": {},
            "cell_type": "markdown",
            "source": "We checked that all Postal code is unique, hence the rows with same postal code has already been combined"
        },
        {
            "metadata": {},
            "cell_type": "markdown",
            "source": "### 5. If a cell has a borough but a Not assigned neighborhood, then the neighborhood will be the same as the borough."
        },
        {
            "metadata": {},
            "cell_type": "code",
            "source": "df.loc[df['Neighbourhood'] == 'Not assigned', 'Neighbourhood'] = df['Borough']\ndf[df['Neighbourhood']=='Not assigned\"'].shape",
            "execution_count": 15,
            "outputs": [
                {
                    "output_type": "execute_result",
                    "execution_count": 15,
                    "data": {
                        "text/plain": "(0, 3)"
                    },
                    "metadata": {}
                }
            ]
        },
        {
            "metadata": {},
            "cell_type": "markdown",
            "source": "We checked that there are no cells with unassigned neighbourhood"
        },
        {
            "metadata": {},
            "cell_type": "markdown",
            "source": "### 6.Print the number of rows of your dataframe."
        },
        {
            "metadata": {},
            "cell_type": "code",
            "source": "df.shape",
            "execution_count": 16,
            "outputs": [
                {
                    "output_type": "execute_result",
                    "execution_count": 16,
                    "data": {
                        "text/plain": "(103, 3)"
                    },
                    "metadata": {}
                }
            ]
        },
        {
            "metadata": {},
            "cell_type": "markdown",
            "source": "We has 103 rows in the dataframe now"
        },
        {
            "metadata": {},
            "cell_type": "markdown",
            "source": "# Part 2\n### 1. Import the geospatial data from csv file"
        },
        {
            "metadata": {},
            "cell_type": "code",
            "source": "geodata=pd.read_csv(\"http://cocl.us/Geospatial_data\")\ngeodata.head()",
            "execution_count": 17,
            "outputs": [
                {
                    "output_type": "execute_result",
                    "execution_count": 17,
                    "data": {
                        "text/plain": "  Postal Code   Latitude  Longitude\n0         M1B  43.806686 -79.194353\n1         M1C  43.784535 -79.160497\n2         M1E  43.763573 -79.188711\n3         M1G  43.770992 -79.216917\n4         M1H  43.773136 -79.239476",
                        "text/html": "<div>\n<style scoped>\n    .dataframe tbody tr th:only-of-type {\n        vertical-align: middle;\n    }\n\n    .dataframe tbody tr th {\n        vertical-align: top;\n    }\n\n    .dataframe thead th {\n        text-align: right;\n    }\n</style>\n<table border=\"1\" class=\"dataframe\">\n  <thead>\n    <tr style=\"text-align: right;\">\n      <th></th>\n      <th>Postal Code</th>\n      <th>Latitude</th>\n      <th>Longitude</th>\n    </tr>\n  </thead>\n  <tbody>\n    <tr>\n      <th>0</th>\n      <td>M1B</td>\n      <td>43.806686</td>\n      <td>-79.194353</td>\n    </tr>\n    <tr>\n      <th>1</th>\n      <td>M1C</td>\n      <td>43.784535</td>\n      <td>-79.160497</td>\n    </tr>\n    <tr>\n      <th>2</th>\n      <td>M1E</td>\n      <td>43.763573</td>\n      <td>-79.188711</td>\n    </tr>\n    <tr>\n      <th>3</th>\n      <td>M1G</td>\n      <td>43.770992</td>\n      <td>-79.216917</td>\n    </tr>\n    <tr>\n      <th>4</th>\n      <td>M1H</td>\n      <td>43.773136</td>\n      <td>-79.239476</td>\n    </tr>\n  </tbody>\n</table>\n</div>"
                    },
                    "metadata": {}
                }
            ]
        },
        {
            "metadata": {},
            "cell_type": "markdown",
            "source": "### 2. Merge two data frame"
        },
        {
            "metadata": {},
            "cell_type": "code",
            "source": "df2=df.merge(geodata, left_on='Postal Code', right_on='Postal Code')\ndf2.head()",
            "execution_count": 18,
            "outputs": [
                {
                    "output_type": "execute_result",
                    "execution_count": 18,
                    "data": {
                        "text/plain": "  Postal Code           Borough                                Neighbourhood  \\\n0         M3A        North York                                    Parkwoods   \n1         M4A        North York                             Victoria Village   \n2         M5A  Downtown Toronto                    Regent Park, Harbourfront   \n3         M6A        North York             Lawrence Manor, Lawrence Heights   \n4         M7A  Downtown Toronto  Queen's Park, Ontario Provincial Government   \n\n    Latitude  Longitude  \n0  43.753259 -79.329656  \n1  43.725882 -79.315572  \n2  43.654260 -79.360636  \n3  43.718518 -79.464763  \n4  43.662301 -79.389494  ",
                        "text/html": "<div>\n<style scoped>\n    .dataframe tbody tr th:only-of-type {\n        vertical-align: middle;\n    }\n\n    .dataframe tbody tr th {\n        vertical-align: top;\n    }\n\n    .dataframe thead th {\n        text-align: right;\n    }\n</style>\n<table border=\"1\" class=\"dataframe\">\n  <thead>\n    <tr style=\"text-align: right;\">\n      <th></th>\n      <th>Postal Code</th>\n      <th>Borough</th>\n      <th>Neighbourhood</th>\n      <th>Latitude</th>\n      <th>Longitude</th>\n    </tr>\n  </thead>\n  <tbody>\n    <tr>\n      <th>0</th>\n      <td>M3A</td>\n      <td>North York</td>\n      <td>Parkwoods</td>\n      <td>43.753259</td>\n      <td>-79.329656</td>\n    </tr>\n    <tr>\n      <th>1</th>\n      <td>M4A</td>\n      <td>North York</td>\n      <td>Victoria Village</td>\n      <td>43.725882</td>\n      <td>-79.315572</td>\n    </tr>\n    <tr>\n      <th>2</th>\n      <td>M5A</td>\n      <td>Downtown Toronto</td>\n      <td>Regent Park, Harbourfront</td>\n      <td>43.654260</td>\n      <td>-79.360636</td>\n    </tr>\n    <tr>\n      <th>3</th>\n      <td>M6A</td>\n      <td>North York</td>\n      <td>Lawrence Manor, Lawrence Heights</td>\n      <td>43.718518</td>\n      <td>-79.464763</td>\n    </tr>\n    <tr>\n      <th>4</th>\n      <td>M7A</td>\n      <td>Downtown Toronto</td>\n      <td>Queen's Park, Ontario Provincial Government</td>\n      <td>43.662301</td>\n      <td>-79.389494</td>\n    </tr>\n  </tbody>\n</table>\n</div>"
                    },
                    "metadata": {}
                }
            ]
        },
        {
            "metadata": {},
            "cell_type": "markdown",
            "source": "## Part 3\n### 1. Set up the environment"
        },
        {
            "metadata": {},
            "cell_type": "code",
            "source": "import json # library to handle JSON files \n\n#!conda install -c conda-forge geopy --yes\nfrom geopy.geocoders import Nominatim\n\nfrom bs4 import BeautifulSoup\nfrom urllib.request import urlopen\nimport requests\nfrom pandas.io.json import json_normalize\n\nimport matplotlib.cm as cm\nimport matplotlib.colors as colors\n\nfrom sklearn.cluster import KMeans\n\n!conda install -c conda-forge folium=0.5.0 --yes\nimport folium\n\nprint('Libraries imported.')",
            "execution_count": 8,
            "outputs": [
                {
                    "output_type": "stream",
                    "text": "Solving environment: done\n\n## Package Plan ##\n\n  environment location: /opt/conda/envs/Python36\n\n  added / updated specs: \n    - folium=0.5.0\n\n\nThe following packages will be downloaded:\n\n    package                    |            build\n    ---------------------------|-----------------\n    certifi-2020.6.20          |   py36h9f0ad1d_0         151 KB  conda-forge\n    folium-0.5.0               |             py_0          45 KB  conda-forge\n    python_abi-3.6             |          1_cp36m           4 KB  conda-forge\n    altair-4.1.0               |             py_1         614 KB  conda-forge\n    ca-certificates-2020.6.20  |       hecda079_0         145 KB  conda-forge\n    openssl-1.1.1g             |       h516909a_1         2.1 MB  conda-forge\n    branca-0.4.1               |             py_0          26 KB  conda-forge\n    vincent-0.4.4              |             py_1          28 KB  conda-forge\n    ------------------------------------------------------------\n                                           Total:         3.1 MB\n\nThe following NEW packages will be INSTALLED:\n\n    altair:          4.1.0-py_1        conda-forge\n    branca:          0.4.1-py_0        conda-forge\n    folium:          0.5.0-py_0        conda-forge\n    python_abi:      3.6-1_cp36m       conda-forge\n    vincent:         0.4.4-py_1        conda-forge\n\nThe following packages will be UPDATED:\n\n    certifi:         2020.6.20-py36_0              --> 2020.6.20-py36h9f0ad1d_0 conda-forge\n    openssl:         1.1.1g-h7b6447c_0             --> 1.1.1g-h516909a_1        conda-forge\n\nThe following packages will be DOWNGRADED:\n\n    ca-certificates: 2020.6.24-0                   --> 2020.6.20-hecda079_0     conda-forge\n\n\nDownloading and Extracting Packages\ncertifi-2020.6.20    | 151 KB    | ##################################### | 100% \nfolium-0.5.0         | 45 KB     | ##################################### | 100% \npython_abi-3.6       | 4 KB      | ##################################### | 100% \naltair-4.1.0         | 614 KB    | ##################################### | 100% \nca-certificates-2020 | 145 KB    | ##################################### | 100% \nopenssl-1.1.1g       | 2.1 MB    | ##################################### | 100% \nbranca-0.4.1         | 26 KB     | ##################################### | 100% \nvincent-0.4.4        | 28 KB     | ##################################### | 100% \nPreparing transaction: done\nVerifying transaction: done\nExecuting transaction: done\nLibraries imported.\n",
                    "name": "stdout"
                }
            ]
        },
        {
            "metadata": {},
            "cell_type": "markdown",
            "source": "### 2. Work with only the borough that contains Toronto"
        },
        {
            "metadata": {},
            "cell_type": "code",
            "source": "df3 = df2.copy()\ndf3 = df3[df3['Borough'].str.contains(\"Toronto\")]\ndf3.head()",
            "execution_count": 22,
            "outputs": [
                {
                    "output_type": "execute_result",
                    "execution_count": 22,
                    "data": {
                        "text/plain": "   Postal Code           Borough                                Neighbourhood  \\\n2          M5A  Downtown Toronto                    Regent Park, Harbourfront   \n4          M7A  Downtown Toronto  Queen's Park, Ontario Provincial Government   \n9          M5B  Downtown Toronto                     Garden District, Ryerson   \n15         M5C  Downtown Toronto                               St. James Town   \n19         M4E      East Toronto                                  The Beaches   \n\n     Latitude  Longitude  \n2   43.654260 -79.360636  \n4   43.662301 -79.389494  \n9   43.657162 -79.378937  \n15  43.651494 -79.375418  \n19  43.676357 -79.293031  ",
                        "text/html": "<div>\n<style scoped>\n    .dataframe tbody tr th:only-of-type {\n        vertical-align: middle;\n    }\n\n    .dataframe tbody tr th {\n        vertical-align: top;\n    }\n\n    .dataframe thead th {\n        text-align: right;\n    }\n</style>\n<table border=\"1\" class=\"dataframe\">\n  <thead>\n    <tr style=\"text-align: right;\">\n      <th></th>\n      <th>Postal Code</th>\n      <th>Borough</th>\n      <th>Neighbourhood</th>\n      <th>Latitude</th>\n      <th>Longitude</th>\n    </tr>\n  </thead>\n  <tbody>\n    <tr>\n      <th>2</th>\n      <td>M5A</td>\n      <td>Downtown Toronto</td>\n      <td>Regent Park, Harbourfront</td>\n      <td>43.654260</td>\n      <td>-79.360636</td>\n    </tr>\n    <tr>\n      <th>4</th>\n      <td>M7A</td>\n      <td>Downtown Toronto</td>\n      <td>Queen's Park, Ontario Provincial Government</td>\n      <td>43.662301</td>\n      <td>-79.389494</td>\n    </tr>\n    <tr>\n      <th>9</th>\n      <td>M5B</td>\n      <td>Downtown Toronto</td>\n      <td>Garden District, Ryerson</td>\n      <td>43.657162</td>\n      <td>-79.378937</td>\n    </tr>\n    <tr>\n      <th>15</th>\n      <td>M5C</td>\n      <td>Downtown Toronto</td>\n      <td>St. James Town</td>\n      <td>43.651494</td>\n      <td>-79.375418</td>\n    </tr>\n    <tr>\n      <th>19</th>\n      <td>M4E</td>\n      <td>East Toronto</td>\n      <td>The Beaches</td>\n      <td>43.676357</td>\n      <td>-79.293031</td>\n    </tr>\n  </tbody>\n</table>\n</div>"
                    },
                    "metadata": {}
                }
            ]
        },
        {
            "metadata": {},
            "cell_type": "markdown",
            "source": "### 3. Analyze Each Neighborhood using Foursquare API "
        },
        {
            "metadata": {},
            "cell_type": "code",
            "source": "CLIENT_ID = 'ST4O01JM33Z0IGCYAXNREQKWZYKF4AD4UMV0NBO4II4AUQ2T' \nCLIENT_SECRET = 'RZQ3S4HAHXB4VOXWE4GAYKWZ11IAFOHRGGT5QOUSQZO4ZE3K' \nVERSION = '20180605' # Foursquare API version\nLIMIT = 100 \nradius = 500",
            "execution_count": 43,
            "outputs": []
        },
        {
            "metadata": {},
            "cell_type": "code",
            "source": "def getNearbyVenues(names, latitudes, longitudes, radius=500):\n    \n    venues_list=[]\n    for name, lat, lng in zip(names, latitudes, longitudes): \n        url = 'https://api.foursquare.com/v2/venues/explore?&client_id={}&client_secret={}&v={}&ll={},{}&radius={}&limit={}'.format(\n            CLIENT_ID,CLIENT_SECRET,VERSION,lat,lng,radius,LIMIT)\n        # make the GET request\n        results = requests.get(url).json()[\"response\"]['groups'][0]['items'] \n        # return only relevant information for each nearby venue\n        venues_list.append([(name,lat,lng, v['venue']['name'], \n            v['venue']['location']['lat'], \n            v['venue']['location']['lng'],  \n            v['venue']['categories'][0]['name']) for v in results]) \n    nearby_venues = pd.DataFrame([item for venue_list in venues_list for item in venue_list])\n    nearby_venues.columns = ['Neighborhood', \n                  'Neighborhood Latitude', \n                  'Neighborhood Longitude', \n                  'Venue', \n                  'Venue Latitude', \n                  'Venue Longitude', \n                  'Venue Category'] \n    return(nearby_venues)",
            "execution_count": 72,
            "outputs": []
        },
        {
            "metadata": {},
            "cell_type": "code",
            "source": "trt_venues = getNearbyVenues(names=df3['Neighbourhood'],latitudes=df3['Latitude'],longitudes=df3['Longitude'])\ntrt_venues.head()",
            "execution_count": 128,
            "outputs": [
                {
                    "output_type": "execute_result",
                    "execution_count": 128,
                    "data": {
                        "text/plain": "                Neighborhood  Neighborhood Latitude  Neighborhood Longitude  \\\n0  Regent Park, Harbourfront               43.65426              -79.360636   \n1  Regent Park, Harbourfront               43.65426              -79.360636   \n2  Regent Park, Harbourfront               43.65426              -79.360636   \n3  Regent Park, Harbourfront               43.65426              -79.360636   \n4  Regent Park, Harbourfront               43.65426              -79.360636   \n\n                    Venue  Venue Latitude  Venue Longitude  \\\n0        Roselle Desserts       43.653447       -79.362017   \n1           Tandem Coffee       43.653559       -79.361809   \n2  Cooper Koo Family YMCA       43.653249       -79.358008   \n3     Body Blitz Spa East       43.654735       -79.359874   \n4          Impact Kitchen       43.656369       -79.356980   \n\n        Venue Category  \n0               Bakery  \n1          Coffee Shop  \n2  Distribution Center  \n3                  Spa  \n4           Restaurant  ",
                        "text/html": "<div>\n<style scoped>\n    .dataframe tbody tr th:only-of-type {\n        vertical-align: middle;\n    }\n\n    .dataframe tbody tr th {\n        vertical-align: top;\n    }\n\n    .dataframe thead th {\n        text-align: right;\n    }\n</style>\n<table border=\"1\" class=\"dataframe\">\n  <thead>\n    <tr style=\"text-align: right;\">\n      <th></th>\n      <th>Neighborhood</th>\n      <th>Neighborhood Latitude</th>\n      <th>Neighborhood Longitude</th>\n      <th>Venue</th>\n      <th>Venue Latitude</th>\n      <th>Venue Longitude</th>\n      <th>Venue Category</th>\n    </tr>\n  </thead>\n  <tbody>\n    <tr>\n      <th>0</th>\n      <td>Regent Park, Harbourfront</td>\n      <td>43.65426</td>\n      <td>-79.360636</td>\n      <td>Roselle Desserts</td>\n      <td>43.653447</td>\n      <td>-79.362017</td>\n      <td>Bakery</td>\n    </tr>\n    <tr>\n      <th>1</th>\n      <td>Regent Park, Harbourfront</td>\n      <td>43.65426</td>\n      <td>-79.360636</td>\n      <td>Tandem Coffee</td>\n      <td>43.653559</td>\n      <td>-79.361809</td>\n      <td>Coffee Shop</td>\n    </tr>\n    <tr>\n      <th>2</th>\n      <td>Regent Park, Harbourfront</td>\n      <td>43.65426</td>\n      <td>-79.360636</td>\n      <td>Cooper Koo Family YMCA</td>\n      <td>43.653249</td>\n      <td>-79.358008</td>\n      <td>Distribution Center</td>\n    </tr>\n    <tr>\n      <th>3</th>\n      <td>Regent Park, Harbourfront</td>\n      <td>43.65426</td>\n      <td>-79.360636</td>\n      <td>Body Blitz Spa East</td>\n      <td>43.654735</td>\n      <td>-79.359874</td>\n      <td>Spa</td>\n    </tr>\n    <tr>\n      <th>4</th>\n      <td>Regent Park, Harbourfront</td>\n      <td>43.65426</td>\n      <td>-79.360636</td>\n      <td>Impact Kitchen</td>\n      <td>43.656369</td>\n      <td>-79.356980</td>\n      <td>Restaurant</td>\n    </tr>\n  </tbody>\n</table>\n</div>"
                    },
                    "metadata": {}
                }
            ]
        },
        {
            "metadata": {},
            "cell_type": "code",
            "source": "",
            "execution_count": null,
            "outputs": []
        },
        {
            "metadata": {},
            "cell_type": "markdown",
            "source": "#### Let's print each neighborhood along with the top 5 most common venues\n\n"
        },
        {
            "metadata": {},
            "cell_type": "code",
            "source": "trt_onehot = pd.get_dummies(trt_venues[['Venue Category']], prefix=\"\", prefix_sep=\"\") \ntrt_onehot['Neighborhood'] = trt_venues['Neighborhood']   \ntrt_grouped = trt_onehot.groupby('Neighborhood').mean().reset_index()\n\nnum_top_venues = 5\n\nfor hood in trt_grouped['Neighborhood']:\n    print(\"----\"+hood+\"----\")\n    temp = trt_grouped[trt_grouped['Neighborhood'] == hood].T.reset_index()\n    temp.columns = ['venue','freq']\n    temp = temp.iloc[1:]\n    temp['freq'] = temp['freq'].astype(float)\n    temp = temp.round({'freq': 2})\n    print(temp.sort_values('freq', ascending=False).reset_index(drop=True).head(num_top_venues))\n    print('\\n')",
            "execution_count": 73,
            "outputs": [
                {
                    "output_type": "stream",
                    "text": "----Berczy Park----\n                venue  freq\n0         Coffee Shop  0.11\n1          Restaurant  0.04\n2                Caf\u00e9  0.04\n3  Seafood Restaurant  0.04\n4              Bakery  0.04\n\n\n----Brockton, Parkdale Village, Exhibition Place----\n            venue  freq\n0            Caf\u00e9  0.12\n1          Bakery  0.08\n2  Breakfast Spot  0.08\n3     Coffee Shop  0.08\n4   Grocery Store  0.04\n\n\n----Business reply mail Processing Centre, South Central Letter Processing Plant Toronto----\n                  venue  freq\n0    Light Rail Station  0.12\n1           Yoga Studio  0.06\n2         Auto Workshop  0.06\n3  Fast Food Restaurant  0.06\n4        Farmers Market  0.06\n\n\n----CN Tower, King and Spadina, Railway Lands, Harbourfront West, Bathurst Quay, South Niagara, Island airport----\n                venue  freq\n0     Airport Service  0.13\n1    Airport Terminal  0.13\n2         Coffee Shop  0.07\n3    Sculpture Garden  0.07\n4  Airport Food Court  0.07\n\n\n----Central Bay Street----\n                 venue  freq\n0          Coffee Shop  0.17\n1       Sandwich Place  0.06\n2                 Caf\u00e9  0.05\n3  Japanese Restaurant  0.05\n4   Italian Restaurant  0.05\n\n\n----Christie----\n                venue  freq\n0       Grocery Store  0.24\n1                Caf\u00e9  0.18\n2                Park  0.12\n3  Italian Restaurant  0.06\n4         Candy Store  0.06\n\n\n----Church and Wellesley----\n                 venue  freq\n0          Coffee Shop  0.11\n1  Japanese Restaurant  0.07\n2     Sushi Restaurant  0.05\n3           Restaurant  0.04\n4              Gay Bar  0.04\n\n\n----Commerce Court, Victoria Hotel----\n         venue  freq\n0  Coffee Shop  0.13\n1   Restaurant  0.07\n2         Caf\u00e9  0.07\n3        Hotel  0.06\n4          Gym  0.04\n\n\n----Davisville----\n              venue  freq\n0      Dessert Shop  0.09\n1    Sandwich Place  0.09\n2  Sushi Restaurant  0.06\n3               Gym  0.06\n4              Caf\u00e9  0.06\n\n\n----Davisville North----\n                  venue  freq\n0  Gym / Fitness Center   0.1\n1                 Hotel   0.1\n2                  Park   0.1\n3     Food & Drink Shop   0.1\n4        Sandwich Place   0.1\n\n\n----Dufferin, Dovercourt Village----\n         venue  freq\n0     Pharmacy  0.14\n1       Bakery  0.14\n2  Pizza Place  0.07\n3         Park  0.07\n4  Music Venue  0.07\n\n\n----First Canadian Place, Underground city----\n                 venue  freq\n0          Coffee Shop  0.12\n1                 Caf\u00e9  0.07\n2                Hotel  0.05\n3  Japanese Restaurant  0.04\n4           Restaurant  0.04\n\n\n----Forest Hill North & West, Forest Hill Road Park----\n                             venue  freq\n0                             Park  0.25\n1                    Jewelry Store  0.25\n2                            Trail  0.25\n3                 Sushi Restaurant  0.25\n4  Molecular Gastronomy Restaurant  0.00\n\n\n----Garden District, Ryerson----\n                venue  freq\n0      Clothing Store  0.10\n1         Coffee Shop  0.08\n2                Caf\u00e9  0.04\n3  Italian Restaurant  0.03\n4      Cosmetics Shop  0.03\n\n\n----Harbourfront East, Union Station, Toronto Islands----\n                 venue  freq\n0          Coffee Shop  0.12\n1             Aquarium  0.05\n2                 Caf\u00e9  0.04\n3                Hotel  0.04\n4  Fried Chicken Joint  0.03\n\n\n----High Park, The Junction South----\n                venue  freq\n0                Caf\u00e9  0.08\n1  Mexican Restaurant  0.08\n2     Thai Restaurant  0.08\n3       Grocery Store  0.04\n4  Italian Restaurant  0.04\n\n\n----India Bazaar, The Beaches West----\n                  venue  freq\n0                  Park  0.10\n1     Fish & Chips Shop  0.05\n2         Movie Theater  0.05\n3               Brewery  0.05\n4  Fast Food Restaurant  0.05\n\n\n----Kensington Market, Chinatown, Grange Park----\n                           venue  freq\n0                           Caf\u00e9  0.08\n1  Vegetarian / Vegan Restaurant  0.06\n2                    Coffee Shop  0.06\n3             Mexican Restaurant  0.05\n4                            Bar  0.05\n\n\n----Lawrence Park----\n                venue  freq\n0                Park  0.33\n1            Bus Line  0.33\n2         Swim School  0.33\n3  Light Rail Station  0.00\n4        Liquor Store  0.00\n\n\n----Little Portugal, Trinity----\n                   venue  freq\n0                    Bar  0.09\n1            Coffee Shop  0.06\n2       Asian Restaurant  0.06\n3             Restaurant  0.04\n4  Vietnamese Restaurant  0.04\n\n\n----Moore Park, Summerhill East----\n                 venue  freq\n0           Restaurant   1.0\n1    Afghan Restaurant   0.0\n2  Monument / Landmark   0.0\n3         Liquor Store   0.0\n4               Lounge   0.0\n\n\n----North Toronto West, Lawrence Park----\n                 venue  freq\n0          Coffee Shop  0.11\n1       Clothing Store  0.11\n2          Yoga Studio  0.06\n3  Sporting Goods Shop  0.06\n4                Diner  0.06\n\n\n----Parkdale, Roncesvalles----\n                         venue  freq\n0               Breakfast Spot  0.14\n1                    Gift Shop  0.14\n2  Eastern European Restaurant  0.07\n3                          Bar  0.07\n4                      Dog Run  0.07\n\n\n----Queen's Park, Ontario Provincial Government----\n           venue  freq\n0    Coffee Shop  0.27\n1          Diner  0.06\n2    Yoga Studio  0.03\n3  Burrito Place  0.03\n4            Bar  0.03\n\n\n----Regent Park, Harbourfront----\n         venue  freq\n0  Coffee Shop  0.16\n1         Park  0.07\n2          Pub  0.07\n3       Bakery  0.07\n4      Theater  0.05\n\n\n----Richmond, Adelaide, King----\n            venue  freq\n0     Coffee Shop  0.08\n1            Caf\u00e9  0.05\n2  Clothing Store  0.04\n3           Hotel  0.04\n4      Restaurant  0.04\n\n\n----Rosedale----\n                 venue  freq\n0                 Park  0.50\n1           Playground  0.25\n2                Trail  0.25\n3  Monument / Landmark  0.00\n4         Liquor Store  0.00\n\n\n----Roselawn----\n                 venue  freq\n0         Home Service   0.5\n1               Garden   0.5\n2    Afghan Restaurant   0.0\n3  Monument / Landmark   0.0\n4         Liquor Store   0.0\n\n\n----Runnymede, Swansea----\n              venue  freq\n0              Caf\u00e9  0.08\n1       Coffee Shop  0.08\n2  Sushi Restaurant  0.06\n3               Pub  0.06\n4       Pizza Place  0.06\n\n\n----St. James Town----\n                 venue  freq\n0                 Caf\u00e9  0.06\n1          Coffee Shop  0.06\n2       Clothing Store  0.05\n3  American Restaurant  0.04\n4         Cocktail Bar  0.04\n\n\n----St. James Town, Cabbagetown----\n         venue  freq\n0         Caf\u00e9  0.06\n1  Coffee Shop  0.06\n2       Bakery  0.06\n3  Pizza Place  0.06\n4         Park  0.04\n\n\n----Stn A PO Boxes----\n                venue  freq\n0         Coffee Shop  0.12\n1                Caf\u00e9  0.04\n2            Beer Bar  0.03\n3               Hotel  0.03\n4  Seafood Restaurant  0.03\n\n\n----Studio District----\n         venue  freq\n0         Caf\u00e9  0.10\n1  Coffee Shop  0.08\n2    Gastropub  0.05\n3       Bakery  0.05\n4      Brewery  0.05\n\n\n----Summerhill West, Rathnelly, South Hill, Forest Hill SE, Deer Park----\n         venue  freq\n0          Pub  0.12\n1  Coffee Shop  0.12\n2   Bagel Shop  0.06\n3  Supermarket  0.06\n4   Restaurant  0.06\n\n\n----The Annex, North Midtown, Yorkville----\n                       venue  freq\n0                       Caf\u00e9  0.14\n1             Sandwich Place  0.14\n2                Coffee Shop  0.10\n3  Middle Eastern Restaurant  0.05\n4                  BBQ Joint  0.05\n\n\n----The Beaches----\n                 venue  freq\n0    Health Food Store  0.25\n1                Trail  0.25\n2                  Pub  0.25\n3    Afghan Restaurant  0.00\n4  Monument / Landmark  0.00\n\n\n----The Danforth West, Riverdale----\n                venue  freq\n0    Greek Restaurant  0.20\n1         Coffee Shop  0.07\n2  Italian Restaurant  0.07\n3      Ice Cream Shop  0.05\n4          Restaurant  0.05\n\n\n----Toronto Dominion Centre, Design Exchange----\n                 venue  freq\n0          Coffee Shop  0.13\n1                Hotel  0.07\n2                 Caf\u00e9  0.06\n3           Restaurant  0.04\n4  American Restaurant  0.03\n\n\n----University of Toronto, Harbord----\n                 venue  freq\n0                 Caf\u00e9  0.14\n1            Bookstore  0.08\n2           Restaurant  0.06\n3               Bakery  0.06\n4  Japanese Restaurant  0.06\n\n\n",
                    "name": "stdout"
                }
            ]
        },
        {
            "metadata": {},
            "cell_type": "markdown",
            "source": "#### Let's put that into a pandas dataframe"
        },
        {
            "metadata": {},
            "cell_type": "code",
            "source": "def return_most_common_venues(row, num_top_venues):\n    row_categories = row.iloc[1:]\n    row_categories_sorted = row_categories.sort_values(ascending=False)\n    \n    return row_categories_sorted.index.values[0:num_top_venues]\n\nnum_top_venues = 5\n\nindicators = ['st', 'nd', 'rd']\n\n# create columns according to number of top venues\ncolumns = ['Neighborhood']\nfor ind in np.arange(num_top_venues):\n    try:\n        columns.append('{}{} Most Common Venue'.format(ind+1, indicators[ind]))\n    except:\n        columns.append('{}th Most Common Venue'.format(ind+1))\n\n# create a new dataframe\nneighborhoods_venues_sorted = pd.DataFrame(columns=columns)\nneighborhoods_venues_sorted['Neighborhood'] = trt_grouped['Neighborhood']\n\nfor ind in np.arange(trt_grouped.shape[0]):\n    neighborhoods_venues_sorted.iloc[ind, 1:] = return_most_common_venues(trt_grouped.iloc[ind, :], num_top_venues)\n\nneighborhoods_venues_sorted.head()",
            "execution_count": 123,
            "outputs": [
                {
                    "output_type": "execute_result",
                    "execution_count": 123,
                    "data": {
                        "text/plain": "                                        Neighborhood 1st Most Common Venue  \\\n0                                        Berczy Park           Coffee Shop   \n1       Brockton, Parkdale Village, Exhibition Place                  Caf\u00e9   \n2  Business reply mail Processing Centre, South C...    Light Rail Station   \n3  CN Tower, King and Spadina, Railway Lands, Har...       Airport Service   \n4                                 Central Bay Street           Coffee Shop   \n\n  2nd Most Common Venue 3rd Most Common Venue 4th Most Common Venue  \\\n0                  Caf\u00e9            Restaurant          Cocktail Bar   \n1                Bakery        Breakfast Spot           Coffee Shop   \n2           Yoga Studio         Auto Workshop  Gym / Fitness Center   \n3      Airport Terminal           Coffee Shop              Boutique   \n4        Sandwich Place   Japanese Restaurant                  Caf\u00e9   \n\n  5th Most Common Venue  \n0              Beer Bar  \n1           Yoga Studio  \n2         Garden Center  \n3   Rental Car Location  \n4    Italian Restaurant  ",
                        "text/html": "<div>\n<style scoped>\n    .dataframe tbody tr th:only-of-type {\n        vertical-align: middle;\n    }\n\n    .dataframe tbody tr th {\n        vertical-align: top;\n    }\n\n    .dataframe thead th {\n        text-align: right;\n    }\n</style>\n<table border=\"1\" class=\"dataframe\">\n  <thead>\n    <tr style=\"text-align: right;\">\n      <th></th>\n      <th>Neighborhood</th>\n      <th>1st Most Common Venue</th>\n      <th>2nd Most Common Venue</th>\n      <th>3rd Most Common Venue</th>\n      <th>4th Most Common Venue</th>\n      <th>5th Most Common Venue</th>\n    </tr>\n  </thead>\n  <tbody>\n    <tr>\n      <th>0</th>\n      <td>Berczy Park</td>\n      <td>Coffee Shop</td>\n      <td>Caf\u00e9</td>\n      <td>Restaurant</td>\n      <td>Cocktail Bar</td>\n      <td>Beer Bar</td>\n    </tr>\n    <tr>\n      <th>1</th>\n      <td>Brockton, Parkdale Village, Exhibition Place</td>\n      <td>Caf\u00e9</td>\n      <td>Bakery</td>\n      <td>Breakfast Spot</td>\n      <td>Coffee Shop</td>\n      <td>Yoga Studio</td>\n    </tr>\n    <tr>\n      <th>2</th>\n      <td>Business reply mail Processing Centre, South C...</td>\n      <td>Light Rail Station</td>\n      <td>Yoga Studio</td>\n      <td>Auto Workshop</td>\n      <td>Gym / Fitness Center</td>\n      <td>Garden Center</td>\n    </tr>\n    <tr>\n      <th>3</th>\n      <td>CN Tower, King and Spadina, Railway Lands, Har...</td>\n      <td>Airport Service</td>\n      <td>Airport Terminal</td>\n      <td>Coffee Shop</td>\n      <td>Boutique</td>\n      <td>Rental Car Location</td>\n    </tr>\n    <tr>\n      <th>4</th>\n      <td>Central Bay Street</td>\n      <td>Coffee Shop</td>\n      <td>Sandwich Place</td>\n      <td>Japanese Restaurant</td>\n      <td>Caf\u00e9</td>\n      <td>Italian Restaurant</td>\n    </tr>\n  </tbody>\n</table>\n</div>"
                    },
                    "metadata": {}
                }
            ]
        },
        {
            "metadata": {},
            "cell_type": "markdown",
            "source": "### 4. Cluster Neighborhoods"
        },
        {
            "metadata": {},
            "cell_type": "code",
            "source": "# to prepare the dataframe for Kmean, we need to change the key fields into numeric \ntop_venues = neighborhoods_venues_sorted[['Neighborhood','1st Most Common Venue']]\ntop_venues['count'] = 1\ntop_venues=top_venues.pivot(index='Neighborhood', columns='1st Most Common Venue',values='count')\ntop_venues=top_venues.fillna(0)\ntop_venues.head()",
            "execution_count": 146,
            "outputs": [
                {
                    "output_type": "stream",
                    "text": "/opt/conda/envs/Python36/lib/python3.6/site-packages/ipykernel/__main__.py:3: SettingWithCopyWarning: \nA value is trying to be set on a copy of a slice from a DataFrame.\nTry using .loc[row_indexer,col_indexer] = value instead\n\nSee the caveats in the documentation: http://pandas.pydata.org/pandas-docs/stable/indexing.html#indexing-view-versus-copy\n  app.launch_new_instance()\n",
                    "name": "stderr"
                },
                {
                    "output_type": "execute_result",
                    "execution_count": 146,
                    "data": {
                        "text/plain": "1st Most Common Venue                               Airport Service  Bakery  \\\nNeighborhood                                                                  \nBerczy Park                                                     0.0     0.0   \nBrockton, Parkdale Village, Exhibition Place                    0.0     0.0   \nBusiness reply mail Processing Centre, South Ce...              0.0     0.0   \nCN Tower, King and Spadina, Railway Lands, Harb...              1.0     0.0   \nCentral Bay Street                                              0.0     0.0   \n\n1st Most Common Venue                               Bar  Caf\u00e9  Clothing Store  \\\nNeighborhood                                                                    \nBerczy Park                                         0.0   0.0             0.0   \nBrockton, Parkdale Village, Exhibition Place        0.0   1.0             0.0   \nBusiness reply mail Processing Centre, South Ce...  0.0   0.0             0.0   \nCN Tower, King and Spadina, Railway Lands, Harb...  0.0   0.0             0.0   \nCentral Bay Street                                  0.0   0.0             0.0   \n\n1st Most Common Venue                               Coffee Shop  Gift Shop  \\\nNeighborhood                                                                 \nBerczy Park                                                 1.0        0.0   \nBrockton, Parkdale Village, Exhibition Place                0.0        0.0   \nBusiness reply mail Processing Centre, South Ce...          0.0        0.0   \nCN Tower, King and Spadina, Railway Lands, Harb...          0.0        0.0   \nCentral Bay Street                                          1.0        0.0   \n\n1st Most Common Venue                               Greek Restaurant  \\\nNeighborhood                                                           \nBerczy Park                                                      0.0   \nBrockton, Parkdale Village, Exhibition Place                     0.0   \nBusiness reply mail Processing Centre, South Ce...               0.0   \nCN Tower, King and Spadina, Railway Lands, Harb...               0.0   \nCentral Bay Street                                               0.0   \n\n1st Most Common Venue                               Grocery Store  \\\nNeighborhood                                                        \nBerczy Park                                                   0.0   \nBrockton, Parkdale Village, Exhibition Place                  0.0   \nBusiness reply mail Processing Centre, South Ce...            0.0   \nCN Tower, King and Spadina, Railway Lands, Harb...            0.0   \nCentral Bay Street                                            0.0   \n\n1st Most Common Venue                               Health Food Store  \\\nNeighborhood                                                            \nBerczy Park                                                       0.0   \nBrockton, Parkdale Village, Exhibition Place                      0.0   \nBusiness reply mail Processing Centre, South Ce...                0.0   \nCN Tower, King and Spadina, Railway Lands, Harb...                0.0   \nCentral Bay Street                                                0.0   \n\n1st Most Common Venue                               Home Service  \\\nNeighborhood                                                       \nBerczy Park                                                  0.0   \nBrockton, Parkdale Village, Exhibition Place                 0.0   \nBusiness reply mail Processing Centre, South Ce...           0.0   \nCN Tower, King and Spadina, Railway Lands, Harb...           0.0   \nCentral Bay Street                                           0.0   \n\n1st Most Common Venue                               Light Rail Station  \\\nNeighborhood                                                             \nBerczy Park                                                        0.0   \nBrockton, Parkdale Village, Exhibition Place                       0.0   \nBusiness reply mail Processing Centre, South Ce...                 1.0   \nCN Tower, King and Spadina, Railway Lands, Harb...                 0.0   \nCentral Bay Street                                                 0.0   \n\n1st Most Common Venue                               Mexican Restaurant  Park  \\\nNeighborhood                                                                   \nBerczy Park                                                        0.0   0.0   \nBrockton, Parkdale Village, Exhibition Place                       0.0   0.0   \nBusiness reply mail Processing Centre, South Ce...                 0.0   0.0   \nCN Tower, King and Spadina, Railway Lands, Harb...                 0.0   0.0   \nCentral Bay Street                                                 0.0   0.0   \n\n1st Most Common Venue                               Pharmacy  Restaurant  \\\nNeighborhood                                                               \nBerczy Park                                              0.0         0.0   \nBrockton, Parkdale Village, Exhibition Place             0.0         0.0   \nBusiness reply mail Processing Centre, South Ce...       0.0         0.0   \nCN Tower, King and Spadina, Railway Lands, Harb...       0.0         0.0   \nCentral Bay Street                                       0.0         0.0   \n\n1st Most Common Venue                               Sandwich Place  \nNeighborhood                                                        \nBerczy Park                                                    0.0  \nBrockton, Parkdale Village, Exhibition Place                   0.0  \nBusiness reply mail Processing Centre, South Ce...             0.0  \nCN Tower, King and Spadina, Railway Lands, Harb...             0.0  \nCentral Bay Street                                             0.0  ",
                        "text/html": "<div>\n<style scoped>\n    .dataframe tbody tr th:only-of-type {\n        vertical-align: middle;\n    }\n\n    .dataframe tbody tr th {\n        vertical-align: top;\n    }\n\n    .dataframe thead th {\n        text-align: right;\n    }\n</style>\n<table border=\"1\" class=\"dataframe\">\n  <thead>\n    <tr style=\"text-align: right;\">\n      <th>1st Most Common Venue</th>\n      <th>Airport Service</th>\n      <th>Bakery</th>\n      <th>Bar</th>\n      <th>Caf\u00e9</th>\n      <th>Clothing Store</th>\n      <th>Coffee Shop</th>\n      <th>Gift Shop</th>\n      <th>Greek Restaurant</th>\n      <th>Grocery Store</th>\n      <th>Health Food Store</th>\n      <th>Home Service</th>\n      <th>Light Rail Station</th>\n      <th>Mexican Restaurant</th>\n      <th>Park</th>\n      <th>Pharmacy</th>\n      <th>Restaurant</th>\n      <th>Sandwich Place</th>\n    </tr>\n    <tr>\n      <th>Neighborhood</th>\n      <th></th>\n      <th></th>\n      <th></th>\n      <th></th>\n      <th></th>\n      <th></th>\n      <th></th>\n      <th></th>\n      <th></th>\n      <th></th>\n      <th></th>\n      <th></th>\n      <th></th>\n      <th></th>\n      <th></th>\n      <th></th>\n      <th></th>\n    </tr>\n  </thead>\n  <tbody>\n    <tr>\n      <th>Berczy Park</th>\n      <td>0.0</td>\n      <td>0.0</td>\n      <td>0.0</td>\n      <td>0.0</td>\n      <td>0.0</td>\n      <td>1.0</td>\n      <td>0.0</td>\n      <td>0.0</td>\n      <td>0.0</td>\n      <td>0.0</td>\n      <td>0.0</td>\n      <td>0.0</td>\n      <td>0.0</td>\n      <td>0.0</td>\n      <td>0.0</td>\n      <td>0.0</td>\n      <td>0.0</td>\n    </tr>\n    <tr>\n      <th>Brockton, Parkdale Village, Exhibition Place</th>\n      <td>0.0</td>\n      <td>0.0</td>\n      <td>0.0</td>\n      <td>1.0</td>\n      <td>0.0</td>\n      <td>0.0</td>\n      <td>0.0</td>\n      <td>0.0</td>\n      <td>0.0</td>\n      <td>0.0</td>\n      <td>0.0</td>\n      <td>0.0</td>\n      <td>0.0</td>\n      <td>0.0</td>\n      <td>0.0</td>\n      <td>0.0</td>\n      <td>0.0</td>\n    </tr>\n    <tr>\n      <th>Business reply mail Processing Centre, South Central Letter Processing Plant Toronto</th>\n      <td>0.0</td>\n      <td>0.0</td>\n      <td>0.0</td>\n      <td>0.0</td>\n      <td>0.0</td>\n      <td>0.0</td>\n      <td>0.0</td>\n      <td>0.0</td>\n      <td>0.0</td>\n      <td>0.0</td>\n      <td>0.0</td>\n      <td>1.0</td>\n      <td>0.0</td>\n      <td>0.0</td>\n      <td>0.0</td>\n      <td>0.0</td>\n      <td>0.0</td>\n    </tr>\n    <tr>\n      <th>CN Tower, King and Spadina, Railway Lands, Harbourfront West, Bathurst Quay, South Niagara, Island airport</th>\n      <td>1.0</td>\n      <td>0.0</td>\n      <td>0.0</td>\n      <td>0.0</td>\n      <td>0.0</td>\n      <td>0.0</td>\n      <td>0.0</td>\n      <td>0.0</td>\n      <td>0.0</td>\n      <td>0.0</td>\n      <td>0.0</td>\n      <td>0.0</td>\n      <td>0.0</td>\n      <td>0.0</td>\n      <td>0.0</td>\n      <td>0.0</td>\n      <td>0.0</td>\n    </tr>\n    <tr>\n      <th>Central Bay Street</th>\n      <td>0.0</td>\n      <td>0.0</td>\n      <td>0.0</td>\n      <td>0.0</td>\n      <td>0.0</td>\n      <td>1.0</td>\n      <td>0.0</td>\n      <td>0.0</td>\n      <td>0.0</td>\n      <td>0.0</td>\n      <td>0.0</td>\n      <td>0.0</td>\n      <td>0.0</td>\n      <td>0.0</td>\n      <td>0.0</td>\n      <td>0.0</td>\n      <td>0.0</td>\n    </tr>\n  </tbody>\n</table>\n</div>"
                    },
                    "metadata": {}
                }
            ]
        },
        {
            "metadata": {},
            "cell_type": "markdown",
            "source": "#### Run k-means to cluster the neighborhood into 4 clusters based on the top venues in the neighborhood"
        },
        {
            "metadata": {},
            "cell_type": "code",
            "source": "# set number of clusters\nkclusters = 4\n\ntrt_grouped_clustering = top_venues.drop(top_venues.columns[0], axis=1)\n\n# run k-means clustering\nkmeans = KMeans(n_clusters=kclusters, random_state=0).fit(trt_grouped_clustering)\n\n# check cluster labels generated for each row in the dataframe\nkmeans.labels_[0:10] \n\n# add clustering labels\nneighborhoods_venues_sorted.insert(0, 'Cluster Labels', kmeans.labels_)",
            "execution_count": 148,
            "outputs": []
        },
        {
            "metadata": {},
            "cell_type": "markdown",
            "source": "#### Combine the top venues with the latitude/longitude for each neighborhood "
        },
        {
            "metadata": {
                "scrolled": true
            },
            "cell_type": "code",
            "source": "merged = df3.merge(neighborhoods_venues_sorted, left_on='Neighbourhood', right_on='Neighborhood')\nmerged.head()",
            "execution_count": 149,
            "outputs": [
                {
                    "output_type": "execute_result",
                    "execution_count": 149,
                    "data": {
                        "text/plain": "  Postal Code           Borough                                Neighbourhood  \\\n0         M5A  Downtown Toronto                    Regent Park, Harbourfront   \n1         M7A  Downtown Toronto  Queen's Park, Ontario Provincial Government   \n2         M5B  Downtown Toronto                     Garden District, Ryerson   \n3         M5C  Downtown Toronto                               St. James Town   \n4         M4E      East Toronto                                  The Beaches   \n\n    Latitude  Longitude  Cluster  Cluster Labels  \\\n0  43.654260 -79.360636        1               2   \n1  43.662301 -79.389494        1               2   \n2  43.657162 -79.378937        1               0   \n3  43.651494 -79.375418        1               1   \n4  43.676357 -79.293031        3               0   \n\n                                  Neighborhood 1st Most Common Venue  \\\n0                    Regent Park, Harbourfront           Coffee Shop   \n1  Queen's Park, Ontario Provincial Government           Coffee Shop   \n2                     Garden District, Ryerson        Clothing Store   \n3                               St. James Town                  Caf\u00e9   \n4                                  The Beaches     Health Food Store   \n\n  2nd Most Common Venue 3rd Most Common Venue 4th Most Common Venue  \\\n0                Bakery                  Park                   Pub   \n1                 Diner           Yoga Studio            Hobby Shop   \n2           Coffee Shop                  Caf\u00e9    Italian Restaurant   \n3           Coffee Shop        Clothing Store            Restaurant   \n4                   Pub                 Trail               Dog Run   \n\n  5th Most Common Venue  \n0        Breakfast Spot  \n1   Japanese Restaurant  \n2        Cosmetics Shop  \n3          Cocktail Bar  \n4      Department Store  ",
                        "text/html": "<div>\n<style scoped>\n    .dataframe tbody tr th:only-of-type {\n        vertical-align: middle;\n    }\n\n    .dataframe tbody tr th {\n        vertical-align: top;\n    }\n\n    .dataframe thead th {\n        text-align: right;\n    }\n</style>\n<table border=\"1\" class=\"dataframe\">\n  <thead>\n    <tr style=\"text-align: right;\">\n      <th></th>\n      <th>Postal Code</th>\n      <th>Borough</th>\n      <th>Neighbourhood</th>\n      <th>Latitude</th>\n      <th>Longitude</th>\n      <th>Cluster</th>\n      <th>Cluster Labels</th>\n      <th>Neighborhood</th>\n      <th>1st Most Common Venue</th>\n      <th>2nd Most Common Venue</th>\n      <th>3rd Most Common Venue</th>\n      <th>4th Most Common Venue</th>\n      <th>5th Most Common Venue</th>\n    </tr>\n  </thead>\n  <tbody>\n    <tr>\n      <th>0</th>\n      <td>M5A</td>\n      <td>Downtown Toronto</td>\n      <td>Regent Park, Harbourfront</td>\n      <td>43.654260</td>\n      <td>-79.360636</td>\n      <td>1</td>\n      <td>2</td>\n      <td>Regent Park, Harbourfront</td>\n      <td>Coffee Shop</td>\n      <td>Bakery</td>\n      <td>Park</td>\n      <td>Pub</td>\n      <td>Breakfast Spot</td>\n    </tr>\n    <tr>\n      <th>1</th>\n      <td>M7A</td>\n      <td>Downtown Toronto</td>\n      <td>Queen's Park, Ontario Provincial Government</td>\n      <td>43.662301</td>\n      <td>-79.389494</td>\n      <td>1</td>\n      <td>2</td>\n      <td>Queen's Park, Ontario Provincial Government</td>\n      <td>Coffee Shop</td>\n      <td>Diner</td>\n      <td>Yoga Studio</td>\n      <td>Hobby Shop</td>\n      <td>Japanese Restaurant</td>\n    </tr>\n    <tr>\n      <th>2</th>\n      <td>M5B</td>\n      <td>Downtown Toronto</td>\n      <td>Garden District, Ryerson</td>\n      <td>43.657162</td>\n      <td>-79.378937</td>\n      <td>1</td>\n      <td>0</td>\n      <td>Garden District, Ryerson</td>\n      <td>Clothing Store</td>\n      <td>Coffee Shop</td>\n      <td>Caf\u00e9</td>\n      <td>Italian Restaurant</td>\n      <td>Cosmetics Shop</td>\n    </tr>\n    <tr>\n      <th>3</th>\n      <td>M5C</td>\n      <td>Downtown Toronto</td>\n      <td>St. James Town</td>\n      <td>43.651494</td>\n      <td>-79.375418</td>\n      <td>1</td>\n      <td>1</td>\n      <td>St. James Town</td>\n      <td>Caf\u00e9</td>\n      <td>Coffee Shop</td>\n      <td>Clothing Store</td>\n      <td>Restaurant</td>\n      <td>Cocktail Bar</td>\n    </tr>\n    <tr>\n      <th>4</th>\n      <td>M4E</td>\n      <td>East Toronto</td>\n      <td>The Beaches</td>\n      <td>43.676357</td>\n      <td>-79.293031</td>\n      <td>3</td>\n      <td>0</td>\n      <td>The Beaches</td>\n      <td>Health Food Store</td>\n      <td>Pub</td>\n      <td>Trail</td>\n      <td>Dog Run</td>\n      <td>Department Store</td>\n    </tr>\n  </tbody>\n</table>\n</div>"
                    },
                    "metadata": {}
                }
            ]
        },
        {
            "metadata": {},
            "cell_type": "markdown",
            "source": "### 5. Visualize the result"
        },
        {
            "metadata": {},
            "cell_type": "code",
            "source": "address = 'Toronto, ON'\ngeolocator = Nominatim(user_agent=\"ny_explorer\")\nlocation = geolocator.geocode(address)\nlatitude = location.latitude\nlongitude = location.longitude\n\ntoronto_map = folium.Map(location=[latitude, longitude], zoom_start=12)\n# add markers to map on each neighborhood\nfor lat, lng, Neighbourhood in zip(df3['Latitude'], df3['Longitude'], df3['Neighbourhood']):\n    label = Neighbourhood\n    label = folium.Popup(label, parse_html=True)\n    folium.CircleMarker(\n        [lat, lng],\n        radius=5,\n        popup=label,\n        color='blue',\n        fill=True,\n        fill_color='#3186cc',\n        fill_opacity=0.7,\n        parse_html=False).add_to(toronto_map)  \n    \n#toronto_map",
            "execution_count": 151,
            "outputs": []
        },
        {
            "metadata": {},
            "cell_type": "code",
            "source": "# create map\nmap_clusters = folium.Map(location=[latitude, longitude], zoom_start=12)\n\n# set color scheme for the clusters\nx = np.arange(kclusters)\nys = [i + x + (i*x)**2 for i in range(kclusters)]\ncolors_array = ['red', 'green', 'blue', 'black'] \n\n# add markers to the map\nmarkers_colors = []\nfor lat, lon, poi, cluster in zip(merged['Latitude'], merged['Longitude'], merged['Neighborhood'], merged['Cluster Labels']):\n    label = folium.Popup(str(poi) + ' Cluster ' + str(cluster), parse_html=True)\n    folium.CircleMarker(\n        [lat, lon],\n        radius=5,\n        popup=label,\n        color=colors_array[cluster-1]).add_to(map_clusters)\n       \nmap_clusters",
            "execution_count": 158,
            "outputs": [
                {
                    "output_type": "execute_result",
                    "execution_count": 158,
                    "data": {
                        "text/plain": "<folium.folium.Map at 0x7fd856042b70>",
                        "text/html": "<div style=\"width:100%;\"><div style=\"position:relative;width:100%;height:0;padding-bottom:60%;\"><span style=\"color:#565656\">Make this Notebook Trusted to load map: File -> Trust Notebook</span><iframe src=\"about:blank\" style=\"position:absolute;width:100%;height:100%;left:0;top:0;border:none !important;\" data-html=PCFET0NUWVBFIGh0bWw+CjxoZWFkPiAgICAKICAgIDxtZXRhIGh0dHAtZXF1aXY9ImNvbnRlbnQtdHlwZSIgY29udGVudD0idGV4dC9odG1sOyBjaGFyc2V0PVVURi04IiAvPgogICAgPHNjcmlwdD5MX1BSRUZFUl9DQU5WQVMgPSBmYWxzZTsgTF9OT19UT1VDSCA9IGZhbHNlOyBMX0RJU0FCTEVfM0QgPSBmYWxzZTs8L3NjcmlwdD4KICAgIDxzY3JpcHQgc3JjPSJodHRwczovL2Nkbi5qc2RlbGl2ci5uZXQvbnBtL2xlYWZsZXRAMS4yLjAvZGlzdC9sZWFmbGV0LmpzIj48L3NjcmlwdD4KICAgIDxzY3JpcHQgc3JjPSJodHRwczovL2FqYXguZ29vZ2xlYXBpcy5jb20vYWpheC9saWJzL2pxdWVyeS8xLjExLjEvanF1ZXJ5Lm1pbi5qcyI+PC9zY3JpcHQ+CiAgICA8c2NyaXB0IHNyYz0iaHR0cHM6Ly9tYXhjZG4uYm9vdHN0cmFwY2RuLmNvbS9ib290c3RyYXAvMy4yLjAvanMvYm9vdHN0cmFwLm1pbi5qcyI+PC9zY3JpcHQ+CiAgICA8c2NyaXB0IHNyYz0iaHR0cHM6Ly9jZG5qcy5jbG91ZGZsYXJlLmNvbS9hamF4L2xpYnMvTGVhZmxldC5hd2Vzb21lLW1hcmtlcnMvMi4wLjIvbGVhZmxldC5hd2Vzb21lLW1hcmtlcnMuanMiPjwvc2NyaXB0PgogICAgPGxpbmsgcmVsPSJzdHlsZXNoZWV0IiBocmVmPSJodHRwczovL2Nkbi5qc2RlbGl2ci5uZXQvbnBtL2xlYWZsZXRAMS4yLjAvZGlzdC9sZWFmbGV0LmNzcyIvPgogICAgPGxpbmsgcmVsPSJzdHlsZXNoZWV0IiBocmVmPSJodHRwczovL21heGNkbi5ib290c3RyYXBjZG4uY29tL2Jvb3RzdHJhcC8zLjIuMC9jc3MvYm9vdHN0cmFwLm1pbi5jc3MiLz4KICAgIDxsaW5rIHJlbD0ic3R5bGVzaGVldCIgaHJlZj0iaHR0cHM6Ly9tYXhjZG4uYm9vdHN0cmFwY2RuLmNvbS9ib290c3RyYXAvMy4yLjAvY3NzL2Jvb3RzdHJhcC10aGVtZS5taW4uY3NzIi8+CiAgICA8bGluayByZWw9InN0eWxlc2hlZXQiIGhyZWY9Imh0dHBzOi8vbWF4Y2RuLmJvb3RzdHJhcGNkbi5jb20vZm9udC1hd2Vzb21lLzQuNi4zL2Nzcy9mb250LWF3ZXNvbWUubWluLmNzcyIvPgogICAgPGxpbmsgcmVsPSJzdHlsZXNoZWV0IiBocmVmPSJodHRwczovL2NkbmpzLmNsb3VkZmxhcmUuY29tL2FqYXgvbGlicy9MZWFmbGV0LmF3ZXNvbWUtbWFya2Vycy8yLjAuMi9sZWFmbGV0LmF3ZXNvbWUtbWFya2Vycy5jc3MiLz4KICAgIDxsaW5rIHJlbD0ic3R5bGVzaGVldCIgaHJlZj0iaHR0cHM6Ly9yYXdnaXQuY29tL3B5dGhvbi12aXN1YWxpemF0aW9uL2ZvbGl1bS9tYXN0ZXIvZm9saXVtL3RlbXBsYXRlcy9sZWFmbGV0LmF3ZXNvbWUucm90YXRlLmNzcyIvPgogICAgPHN0eWxlPmh0bWwsIGJvZHkge3dpZHRoOiAxMDAlO2hlaWdodDogMTAwJTttYXJnaW46IDA7cGFkZGluZzogMDt9PC9zdHlsZT4KICAgIDxzdHlsZT4jbWFwIHtwb3NpdGlvbjphYnNvbHV0ZTt0b3A6MDtib3R0b206MDtyaWdodDowO2xlZnQ6MDt9PC9zdHlsZT4KICAgIAogICAgICAgICAgICA8c3R5bGU+ICNtYXBfYjRhNGFhMGMyYjhiNGRlNWE4M2NiMWYyZThhNTUwN2UgewogICAgICAgICAgICAgICAgcG9zaXRpb24gOiByZWxhdGl2ZTsKICAgICAgICAgICAgICAgIHdpZHRoIDogMTAwLjAlOwogICAgICAgICAgICAgICAgaGVpZ2h0OiAxMDAuMCU7CiAgICAgICAgICAgICAgICBsZWZ0OiAwLjAlOwogICAgICAgICAgICAgICAgdG9wOiAwLjAlOwogICAgICAgICAgICAgICAgfQogICAgICAgICAgICA8L3N0eWxlPgogICAgICAgIAo8L2hlYWQ+Cjxib2R5PiAgICAKICAgIAogICAgICAgICAgICA8ZGl2IGNsYXNzPSJmb2xpdW0tbWFwIiBpZD0ibWFwX2I0YTRhYTBjMmI4YjRkZTVhODNjYjFmMmU4YTU1MDdlIiA+PC9kaXY+CiAgICAgICAgCjwvYm9keT4KPHNjcmlwdD4gICAgCiAgICAKCiAgICAgICAgICAgIAogICAgICAgICAgICAgICAgdmFyIGJvdW5kcyA9IG51bGw7CiAgICAgICAgICAgIAoKICAgICAgICAgICAgdmFyIG1hcF9iNGE0YWEwYzJiOGI0ZGU1YTgzY2IxZjJlOGE1NTA3ZSA9IEwubWFwKAogICAgICAgICAgICAgICAgICAgICAgICAgICAgICAgICAgJ21hcF9iNGE0YWEwYzJiOGI0ZGU1YTgzY2IxZjJlOGE1NTA3ZScsCiAgICAgICAgICAgICAgICAgICAgICAgICAgICAgICAgICB7Y2VudGVyOiBbNDMuNjUzNDgxNywtNzkuMzgzOTM0N10sCiAgICAgICAgICAgICAgICAgICAgICAgICAgICAgICAgICB6b29tOiAxMiwKICAgICAgICAgICAgICAgICAgICAgICAgICAgICAgICAgIG1heEJvdW5kczogYm91bmRzLAogICAgICAgICAgICAgICAgICAgICAgICAgICAgICAgICAgbGF5ZXJzOiBbXSwKICAgICAgICAgICAgICAgICAgICAgICAgICAgICAgICAgIHdvcmxkQ29weUp1bXA6IGZhbHNlLAogICAgICAgICAgICAgICAgICAgICAgICAgICAgICAgICAgY3JzOiBMLkNSUy5FUFNHMzg1NwogICAgICAgICAgICAgICAgICAgICAgICAgICAgICAgICB9KTsKICAgICAgICAgICAgCiAgICAgICAgCiAgICAKICAgICAgICAgICAgdmFyIHRpbGVfbGF5ZXJfODE3MWNlMmUzYzQxNDA4NjllOGE0NDM2YWU0ZDU5ZjAgPSBMLnRpbGVMYXllcigKICAgICAgICAgICAgICAgICdodHRwczovL3tzfS50aWxlLm9wZW5zdHJlZXRtYXAub3JnL3t6fS97eH0ve3l9LnBuZycsCiAgICAgICAgICAgICAgICB7CiAgImF0dHJpYnV0aW9uIjogbnVsbCwKICAiZGV0ZWN0UmV0aW5hIjogZmFsc2UsCiAgIm1heFpvb20iOiAxOCwKICAibWluWm9vbSI6IDEsCiAgIm5vV3JhcCI6IGZhbHNlLAogICJzdWJkb21haW5zIjogImFiYyIKfQogICAgICAgICAgICAgICAgKS5hZGRUbyhtYXBfYjRhNGFhMGMyYjhiNGRlNWE4M2NiMWYyZThhNTUwN2UpOwogICAgICAgIAogICAgCiAgICAgICAgICAgIHZhciBjaXJjbGVfbWFya2VyXzNhNWZmNmFhMDk5MjQ3ODJiN2FkOGJkZWJkNmUxZjgxID0gTC5jaXJjbGVNYXJrZXIoCiAgICAgICAgICAgICAgICBbNDMuNjU0MjU5OSwtNzkuMzYwNjM1OV0sCiAgICAgICAgICAgICAgICB7CiAgImJ1YmJsaW5nTW91c2VFdmVudHMiOiB0cnVlLAogICJjb2xvciI6ICJncmVlbiIsCiAgImRhc2hBcnJheSI6IG51bGwsCiAgImRhc2hPZmZzZXQiOiBudWxsLAogICJmaWxsIjogZmFsc2UsCiAgImZpbGxDb2xvciI6ICJncmVlbiIsCiAgImZpbGxPcGFjaXR5IjogMC4yLAogICJmaWxsUnVsZSI6ICJldmVub2RkIiwKICAibGluZUNhcCI6ICJyb3VuZCIsCiAgImxpbmVKb2luIjogInJvdW5kIiwKICAib3BhY2l0eSI6IDEuMCwKICAicmFkaXVzIjogNSwKICAic3Ryb2tlIjogdHJ1ZSwKICAid2VpZ2h0IjogMwp9CiAgICAgICAgICAgICAgICApLmFkZFRvKG1hcF9iNGE0YWEwYzJiOGI0ZGU1YTgzY2IxZjJlOGE1NTA3ZSk7CiAgICAgICAgICAgIAogICAgCiAgICAgICAgICAgIHZhciBwb3B1cF81ZDc3YWI1MDNhYjI0NGJhYWM2ZjRlMWQ1MzBjNWUyNCA9IEwucG9wdXAoe21heFdpZHRoOiAnMzAwJ30pOwoKICAgICAgICAgICAgCiAgICAgICAgICAgICAgICB2YXIgaHRtbF8yZjUzNDkxMjZhNzY0ZTQzYThhZTczYjAwMGIwNGYyYiA9ICQoJzxkaXYgaWQ9Imh0bWxfMmY1MzQ5MTI2YTc2NGU0M2E4YWU3M2IwMDBiMDRmMmIiIHN0eWxlPSJ3aWR0aDogMTAwLjAlOyBoZWlnaHQ6IDEwMC4wJTsiPlJlZ2VudCBQYXJrLCBIYXJib3VyZnJvbnQgQ2x1c3RlciAyPC9kaXY+JylbMF07CiAgICAgICAgICAgICAgICBwb3B1cF81ZDc3YWI1MDNhYjI0NGJhYWM2ZjRlMWQ1MzBjNWUyNC5zZXRDb250ZW50KGh0bWxfMmY1MzQ5MTI2YTc2NGU0M2E4YWU3M2IwMDBiMDRmMmIpOwogICAgICAgICAgICAKCiAgICAgICAgICAgIGNpcmNsZV9tYXJrZXJfM2E1ZmY2YWEwOTkyNDc4MmI3YWQ4YmRlYmQ2ZTFmODEuYmluZFBvcHVwKHBvcHVwXzVkNzdhYjUwM2FiMjQ0YmFhYzZmNGUxZDUzMGM1ZTI0KTsKCiAgICAgICAgICAgIAogICAgICAgIAogICAgCiAgICAgICAgICAgIHZhciBjaXJjbGVfbWFya2VyXzk5OWU2NjQxMGJlNTQ4MjM4Njc2ZDRkNmJiZmQwNDU0ID0gTC5jaXJjbGVNYXJrZXIoCiAgICAgICAgICAgICAgICBbNDMuNjYyMzAxNSwtNzkuMzg5NDkzOF0sCiAgICAgICAgICAgICAgICB7CiAgImJ1YmJsaW5nTW91c2VFdmVudHMiOiB0cnVlLAogICJjb2xvciI6ICJncmVlbiIsCiAgImRhc2hBcnJheSI6IG51bGwsCiAgImRhc2hPZmZzZXQiOiBudWxsLAogICJmaWxsIjogZmFsc2UsCiAgImZpbGxDb2xvciI6ICJncmVlbiIsCiAgImZpbGxPcGFjaXR5IjogMC4yLAogICJmaWxsUnVsZSI6ICJldmVub2RkIiwKICAibGluZUNhcCI6ICJyb3VuZCIsCiAgImxpbmVKb2luIjogInJvdW5kIiwKICAib3BhY2l0eSI6IDEuMCwKICAicmFkaXVzIjogNSwKICAic3Ryb2tlIjogdHJ1ZSwKICAid2VpZ2h0IjogMwp9CiAgICAgICAgICAgICAgICApLmFkZFRvKG1hcF9iNGE0YWEwYzJiOGI0ZGU1YTgzY2IxZjJlOGE1NTA3ZSk7CiAgICAgICAgICAgIAogICAgCiAgICAgICAgICAgIHZhciBwb3B1cF9hMGU0OWUxYTk1NjA0NTViOWFhZjJhYmM5OGMwZjMxYyA9IEwucG9wdXAoe21heFdpZHRoOiAnMzAwJ30pOwoKICAgICAgICAgICAgCiAgICAgICAgICAgICAgICB2YXIgaHRtbF9jYTE0Y2U0M2RiODA0YTg3YmFjMDM4NjlmOWRmNmZiYyA9ICQoJzxkaXYgaWQ9Imh0bWxfY2ExNGNlNDNkYjgwNGE4N2JhYzAzODY5ZjlkZjZmYmMiIHN0eWxlPSJ3aWR0aDogMTAwLjAlOyBoZWlnaHQ6IDEwMC4wJTsiPlF1ZWVuJiMzOTtzIFBhcmssIE9udGFyaW8gUHJvdmluY2lhbCBHb3Zlcm5tZW50IENsdXN0ZXIgMjwvZGl2PicpWzBdOwogICAgICAgICAgICAgICAgcG9wdXBfYTBlNDllMWE5NTYwNDU1YjlhYWYyYWJjOThjMGYzMWMuc2V0Q29udGVudChodG1sX2NhMTRjZTQzZGI4MDRhODdiYWMwMzg2OWY5ZGY2ZmJjKTsKICAgICAgICAgICAgCgogICAgICAgICAgICBjaXJjbGVfbWFya2VyXzk5OWU2NjQxMGJlNTQ4MjM4Njc2ZDRkNmJiZmQwNDU0LmJpbmRQb3B1cChwb3B1cF9hMGU0OWUxYTk1NjA0NTViOWFhZjJhYmM5OGMwZjMxYyk7CgogICAgICAgICAgICAKICAgICAgICAKICAgIAogICAgICAgICAgICB2YXIgY2lyY2xlX21hcmtlcl9iNGMzYzdjMGY1ZDA0OGY4ODY4NDIzZjcwY2MzMDQwMCA9IEwuY2lyY2xlTWFya2VyKAogICAgICAgICAgICAgICAgWzQzLjY1NzE2MTgsLTc5LjM3ODkzNzA5OTk5OTk5XSwKICAgICAgICAgICAgICAgIHsKICAiYnViYmxpbmdNb3VzZUV2ZW50cyI6IHRydWUsCiAgImNvbG9yIjogImJsYWNrIiwKICAiZGFzaEFycmF5IjogbnVsbCwKICAiZGFzaE9mZnNldCI6IG51bGwsCiAgImZpbGwiOiBmYWxzZSwKICAiZmlsbENvbG9yIjogImJsYWNrIiwKICAiZmlsbE9wYWNpdHkiOiAwLjIsCiAgImZpbGxSdWxlIjogImV2ZW5vZGQiLAogICJsaW5lQ2FwIjogInJvdW5kIiwKICAibGluZUpvaW4iOiAicm91bmQiLAogICJvcGFjaXR5IjogMS4wLAogICJyYWRpdXMiOiA1LAogICJzdHJva2UiOiB0cnVlLAogICJ3ZWlnaHQiOiAzCn0KICAgICAgICAgICAgICAgICkuYWRkVG8obWFwX2I0YTRhYTBjMmI4YjRkZTVhODNjYjFmMmU4YTU1MDdlKTsKICAgICAgICAgICAgCiAgICAKICAgICAgICAgICAgdmFyIHBvcHVwX2I5YmQ0NzdmMTczZjRiMmZhY2NjYzNlNzA5NDdmNWE1ID0gTC5wb3B1cCh7bWF4V2lkdGg6ICczMDAnfSk7CgogICAgICAgICAgICAKICAgICAgICAgICAgICAgIHZhciBodG1sX2U3OTFmMTlhMzc3NzQyODhhMjEzNThmNDc5OTkwMmNlID0gJCgnPGRpdiBpZD0iaHRtbF9lNzkxZjE5YTM3Nzc0Mjg4YTIxMzU4ZjQ3OTk5MDJjZSIgc3R5bGU9IndpZHRoOiAxMDAuMCU7IGhlaWdodDogMTAwLjAlOyI+R2FyZGVuIERpc3RyaWN0LCBSeWVyc29uIENsdXN0ZXIgMDwvZGl2PicpWzBdOwogICAgICAgICAgICAgICAgcG9wdXBfYjliZDQ3N2YxNzNmNGIyZmFjY2NjM2U3MDk0N2Y1YTUuc2V0Q29udGVudChodG1sX2U3OTFmMTlhMzc3NzQyODhhMjEzNThmNDc5OTkwMmNlKTsKICAgICAgICAgICAgCgogICAgICAgICAgICBjaXJjbGVfbWFya2VyX2I0YzNjN2MwZjVkMDQ4Zjg4Njg0MjNmNzBjYzMwNDAwLmJpbmRQb3B1cChwb3B1cF9iOWJkNDc3ZjE3M2Y0YjJmYWNjY2MzZTcwOTQ3ZjVhNSk7CgogICAgICAgICAgICAKICAgICAgICAKICAgIAogICAgICAgICAgICB2YXIgY2lyY2xlX21hcmtlcl8xMTY0YWVjZDhkZjM0OTJkOTUxZGJlOWFmOTJkZmNmOCA9IEwuY2lyY2xlTWFya2VyKAogICAgICAgICAgICAgICAgWzQzLjY1MTQ5MzksLTc5LjM3NTQxNzldLAogICAgICAgICAgICAgICAgewogICJidWJibGluZ01vdXNlRXZlbnRzIjogdHJ1ZSwKICAiY29sb3IiOiAicmVkIiwKICAiZGFzaEFycmF5IjogbnVsbCwKICAiZGFzaE9mZnNldCI6IG51bGwsCiAgImZpbGwiOiBmYWxzZSwKICAiZmlsbENvbG9yIjogInJlZCIsCiAgImZpbGxPcGFjaXR5IjogMC4yLAogICJmaWxsUnVsZSI6ICJldmVub2RkIiwKICAibGluZUNhcCI6ICJyb3VuZCIsCiAgImxpbmVKb2luIjogInJvdW5kIiwKICAib3BhY2l0eSI6IDEuMCwKICAicmFkaXVzIjogNSwKICAic3Ryb2tlIjogdHJ1ZSwKICAid2VpZ2h0IjogMwp9CiAgICAgICAgICAgICAgICApLmFkZFRvKG1hcF9iNGE0YWEwYzJiOGI0ZGU1YTgzY2IxZjJlOGE1NTA3ZSk7CiAgICAgICAgICAgIAogICAgCiAgICAgICAgICAgIHZhciBwb3B1cF82Y2ZjNmRiZTUxZmI0Y2ZkYmMyOGFhYWVlMTEzMzg5MSA9IEwucG9wdXAoe21heFdpZHRoOiAnMzAwJ30pOwoKICAgICAgICAgICAgCiAgICAgICAgICAgICAgICB2YXIgaHRtbF8yZGUxYzQxYTI4ZTM0NTQwOTlmMDBhMmQ5ZmFiZWQ3MSA9ICQoJzxkaXYgaWQ9Imh0bWxfMmRlMWM0MWEyOGUzNDU0MDk5ZjAwYTJkOWZhYmVkNzEiIHN0eWxlPSJ3aWR0aDogMTAwLjAlOyBoZWlnaHQ6IDEwMC4wJTsiPlN0LiBKYW1lcyBUb3duIENsdXN0ZXIgMTwvZGl2PicpWzBdOwogICAgICAgICAgICAgICAgcG9wdXBfNmNmYzZkYmU1MWZiNGNmZGJjMjhhYWFlZTExMzM4OTEuc2V0Q29udGVudChodG1sXzJkZTFjNDFhMjhlMzQ1NDA5OWYwMGEyZDlmYWJlZDcxKTsKICAgICAgICAgICAgCgogICAgICAgICAgICBjaXJjbGVfbWFya2VyXzExNjRhZWNkOGRmMzQ5MmQ5NTFkYmU5YWY5MmRmY2Y4LmJpbmRQb3B1cChwb3B1cF82Y2ZjNmRiZTUxZmI0Y2ZkYmMyOGFhYWVlMTEzMzg5MSk7CgogICAgICAgICAgICAKICAgICAgICAKICAgIAogICAgICAgICAgICB2YXIgY2lyY2xlX21hcmtlcl9kZDAwOGI5NDkwOWE0ODg5YjkyMjA4MzBiZDE2OTNlMiA9IEwuY2lyY2xlTWFya2VyKAogICAgICAgICAgICAgICAgWzQzLjY3NjM1NzM5OTk5OTk5LC03OS4yOTMwMzEyXSwKICAgICAgICAgICAgICAgIHsKICAiYnViYmxpbmdNb3VzZUV2ZW50cyI6IHRydWUsCiAgImNvbG9yIjogImJsYWNrIiwKICAiZGFzaEFycmF5IjogbnVsbCwKICAiZGFzaE9mZnNldCI6IG51bGwsCiAgImZpbGwiOiBmYWxzZSwKICAiZmlsbENvbG9yIjogImJsYWNrIiwKICAiZmlsbE9wYWNpdHkiOiAwLjIsCiAgImZpbGxSdWxlIjogImV2ZW5vZGQiLAogICJsaW5lQ2FwIjogInJvdW5kIiwKICAibGluZUpvaW4iOiAicm91bmQiLAogICJvcGFjaXR5IjogMS4wLAogICJyYWRpdXMiOiA1LAogICJzdHJva2UiOiB0cnVlLAogICJ3ZWlnaHQiOiAzCn0KICAgICAgICAgICAgICAgICkuYWRkVG8obWFwX2I0YTRhYTBjMmI4YjRkZTVhODNjYjFmMmU4YTU1MDdlKTsKICAgICAgICAgICAgCiAgICAKICAgICAgICAgICAgdmFyIHBvcHVwX2RkZWYyYjNiMThiYjQwZWI4MGIxMjk3ZGY0MzI2YWVjID0gTC5wb3B1cCh7bWF4V2lkdGg6ICczMDAnfSk7CgogICAgICAgICAgICAKICAgICAgICAgICAgICAgIHZhciBodG1sXzI2NGY0NWUzMDlkYjRiYzY4ZGNlZTQ3ZTQ2MzJlNjg4ID0gJCgnPGRpdiBpZD0iaHRtbF8yNjRmNDVlMzA5ZGI0YmM2OGRjZWU0N2U0NjMyZTY4OCIgc3R5bGU9IndpZHRoOiAxMDAuMCU7IGhlaWdodDogMTAwLjAlOyI+VGhlIEJlYWNoZXMgQ2x1c3RlciAwPC9kaXY+JylbMF07CiAgICAgICAgICAgICAgICBwb3B1cF9kZGVmMmIzYjE4YmI0MGViODBiMTI5N2RmNDMyNmFlYy5zZXRDb250ZW50KGh0bWxfMjY0ZjQ1ZTMwOWRiNGJjNjhkY2VlNDdlNDYzMmU2ODgpOwogICAgICAgICAgICAKCiAgICAgICAgICAgIGNpcmNsZV9tYXJrZXJfZGQwMDhiOTQ5MDlhNDg4OWI5MjIwODMwYmQxNjkzZTIuYmluZFBvcHVwKHBvcHVwX2RkZWYyYjNiMThiYjQwZWI4MGIxMjk3ZGY0MzI2YWVjKTsKCiAgICAgICAgICAgIAogICAgICAgIAogICAgCiAgICAgICAgICAgIHZhciBjaXJjbGVfbWFya2VyX2M1OTIwYmNkMmY0MzRiZmJhYTEyMmFmOWUzYjU1YzdlID0gTC5jaXJjbGVNYXJrZXIoCiAgICAgICAgICAgICAgICBbNDMuNjQ0NzcwNzk5OTk5OTk2LC03OS4zNzMzMDY0XSwKICAgICAgICAgICAgICAgIHsKICAiYnViYmxpbmdNb3VzZUV2ZW50cyI6IHRydWUsCiAgImNvbG9yIjogImdyZWVuIiwKICAiZGFzaEFycmF5IjogbnVsbCwKICAiZGFzaE9mZnNldCI6IG51bGwsCiAgImZpbGwiOiBmYWxzZSwKICAiZmlsbENvbG9yIjogImdyZWVuIiwKICAiZmlsbE9wYWNpdHkiOiAwLjIsCiAgImZpbGxSdWxlIjogImV2ZW5vZGQiLAogICJsaW5lQ2FwIjogInJvdW5kIiwKICAibGluZUpvaW4iOiAicm91bmQiLAogICJvcGFjaXR5IjogMS4wLAogICJyYWRpdXMiOiA1LAogICJzdHJva2UiOiB0cnVlLAogICJ3ZWlnaHQiOiAzCn0KICAgICAgICAgICAgICAgICkuYWRkVG8obWFwX2I0YTRhYTBjMmI4YjRkZTVhODNjYjFmMmU4YTU1MDdlKTsKICAgICAgICAgICAgCiAgICAKICAgICAgICAgICAgdmFyIHBvcHVwXzE0YTI1OWY3N2ViNzQ1NWZhYzRhNjkyN2UzZjY4NmU4ID0gTC5wb3B1cCh7bWF4V2lkdGg6ICczMDAnfSk7CgogICAgICAgICAgICAKICAgICAgICAgICAgICAgIHZhciBodG1sXzVmMjBjMDU0YTBhNzQ3N2JiOTJlYzY0NTBmODE2ZmU3ID0gJCgnPGRpdiBpZD0iaHRtbF81ZjIwYzA1NGEwYTc0NzdiYjkyZWM2NDUwZjgxNmZlNyIgc3R5bGU9IndpZHRoOiAxMDAuMCU7IGhlaWdodDogMTAwLjAlOyI+QmVyY3p5IFBhcmsgQ2x1c3RlciAyPC9kaXY+JylbMF07CiAgICAgICAgICAgICAgICBwb3B1cF8xNGEyNTlmNzdlYjc0NTVmYWM0YTY5MjdlM2Y2ODZlOC5zZXRDb250ZW50KGh0bWxfNWYyMGMwNTRhMGE3NDc3YmI5MmVjNjQ1MGY4MTZmZTcpOwogICAgICAgICAgICAKCiAgICAgICAgICAgIGNpcmNsZV9tYXJrZXJfYzU5MjBiY2QyZjQzNGJmYmFhMTIyYWY5ZTNiNTVjN2UuYmluZFBvcHVwKHBvcHVwXzE0YTI1OWY3N2ViNzQ1NWZhYzRhNjkyN2UzZjY4NmU4KTsKCiAgICAgICAgICAgIAogICAgICAgIAogICAgCiAgICAgICAgICAgIHZhciBjaXJjbGVfbWFya2VyXzNhYTI0ZjdhNTI0YjQ0NmVhYWU4Njk3NDk3MjRiM2JkID0gTC5jaXJjbGVNYXJrZXIoCiAgICAgICAgICAgICAgICBbNDMuNjU3OTUyNCwtNzkuMzg3MzgyNl0sCiAgICAgICAgICAgICAgICB7CiAgImJ1YmJsaW5nTW91c2VFdmVudHMiOiB0cnVlLAogICJjb2xvciI6ICJncmVlbiIsCiAgImRhc2hBcnJheSI6IG51bGwsCiAgImRhc2hPZmZzZXQiOiBudWxsLAogICJmaWxsIjogZmFsc2UsCiAgImZpbGxDb2xvciI6ICJncmVlbiIsCiAgImZpbGxPcGFjaXR5IjogMC4yLAogICJmaWxsUnVsZSI6ICJldmVub2RkIiwKICAibGluZUNhcCI6ICJyb3VuZCIsCiAgImxpbmVKb2luIjogInJvdW5kIiwKICAib3BhY2l0eSI6IDEuMCwKICAicmFkaXVzIjogNSwKICAic3Ryb2tlIjogdHJ1ZSwKICAid2VpZ2h0IjogMwp9CiAgICAgICAgICAgICAgICApLmFkZFRvKG1hcF9iNGE0YWEwYzJiOGI0ZGU1YTgzY2IxZjJlOGE1NTA3ZSk7CiAgICAgICAgICAgIAogICAgCiAgICAgICAgICAgIHZhciBwb3B1cF80OGJhNWY2ZjA5NjY0NWM2OGZkMTkxYmYyMjdiMjZjZiA9IEwucG9wdXAoe21heFdpZHRoOiAnMzAwJ30pOwoKICAgICAgICAgICAgCiAgICAgICAgICAgICAgICB2YXIgaHRtbF9jMTZiNjA2ODAxYmE0NzcxYWJiNzU0OGVjYmQ0YTI4NiA9ICQoJzxkaXYgaWQ9Imh0bWxfYzE2YjYwNjgwMWJhNDc3MWFiYjc1NDhlY2JkNGEyODYiIHN0eWxlPSJ3aWR0aDogMTAwLjAlOyBoZWlnaHQ6IDEwMC4wJTsiPkNlbnRyYWwgQmF5IFN0cmVldCBDbHVzdGVyIDI8L2Rpdj4nKVswXTsKICAgICAgICAgICAgICAgIHBvcHVwXzQ4YmE1ZjZmMDk2NjQ1YzY4ZmQxOTFiZjIyN2IyNmNmLnNldENvbnRlbnQoaHRtbF9jMTZiNjA2ODAxYmE0NzcxYWJiNzU0OGVjYmQ0YTI4Nik7CiAgICAgICAgICAgIAoKICAgICAgICAgICAgY2lyY2xlX21hcmtlcl8zYWEyNGY3YTUyNGI0NDZlYWFlODY5NzQ5NzI0YjNiZC5iaW5kUG9wdXAocG9wdXBfNDhiYTVmNmYwOTY2NDVjNjhmZDE5MWJmMjI3YjI2Y2YpOwoKICAgICAgICAgICAgCiAgICAgICAgCiAgICAKICAgICAgICAgICAgdmFyIGNpcmNsZV9tYXJrZXJfNDUyMmZjMWVlMTAyNDU4NTk2MTBhOTFkNjM2ZTE3YTcgPSBMLmNpcmNsZU1hcmtlcigKICAgICAgICAgICAgICAgIFs0My42Njk1NDIsLTc5LjQyMjU2MzddLAogICAgICAgICAgICAgICAgewogICJidWJibGluZ01vdXNlRXZlbnRzIjogdHJ1ZSwKICAiY29sb3IiOiAiYmxhY2siLAogICJkYXNoQXJyYXkiOiBudWxsLAogICJkYXNoT2Zmc2V0IjogbnVsbCwKICAiZmlsbCI6IGZhbHNlLAogICJmaWxsQ29sb3IiOiAiYmxhY2siLAogICJmaWxsT3BhY2l0eSI6IDAuMiwKICAiZmlsbFJ1bGUiOiAiZXZlbm9kZCIsCiAgImxpbmVDYXAiOiAicm91bmQiLAogICJsaW5lSm9pbiI6ICJyb3VuZCIsCiAgIm9wYWNpdHkiOiAxLjAsCiAgInJhZGl1cyI6IDUsCiAgInN0cm9rZSI6IHRydWUsCiAgIndlaWdodCI6IDMKfQogICAgICAgICAgICAgICAgKS5hZGRUbyhtYXBfYjRhNGFhMGMyYjhiNGRlNWE4M2NiMWYyZThhNTUwN2UpOwogICAgICAgICAgICAKICAgIAogICAgICAgICAgICB2YXIgcG9wdXBfMTE1ZDljY2NlMDQ1NDY5ZGE3YWZiNTExOTRiZmIyNDggPSBMLnBvcHVwKHttYXhXaWR0aDogJzMwMCd9KTsKCiAgICAgICAgICAgIAogICAgICAgICAgICAgICAgdmFyIGh0bWxfZTU5NDdlY2JhNjBjNDM4NWExNDkyYzY5YWMxZmZjZWYgPSAkKCc8ZGl2IGlkPSJodG1sX2U1OTQ3ZWNiYTYwYzQzODVhMTQ5MmM2OWFjMWZmY2VmIiBzdHlsZT0id2lkdGg6IDEwMC4wJTsgaGVpZ2h0OiAxMDAuMCU7Ij5DaHJpc3RpZSBDbHVzdGVyIDA8L2Rpdj4nKVswXTsKICAgICAgICAgICAgICAgIHBvcHVwXzExNWQ5Y2NjZTA0NTQ2OWRhN2FmYjUxMTk0YmZiMjQ4LnNldENvbnRlbnQoaHRtbF9lNTk0N2VjYmE2MGM0Mzg1YTE0OTJjNjlhYzFmZmNlZik7CiAgICAgICAgICAgIAoKICAgICAgICAgICAgY2lyY2xlX21hcmtlcl80NTIyZmMxZWUxMDI0NTg1OTYxMGE5MWQ2MzZlMTdhNy5iaW5kUG9wdXAocG9wdXBfMTE1ZDljY2NlMDQ1NDY5ZGE3YWZiNTExOTRiZmIyNDgpOwoKICAgICAgICAgICAgCiAgICAgICAgCiAgICAKICAgICAgICAgICAgdmFyIGNpcmNsZV9tYXJrZXJfZWU0N2M5NjhjNjlhNDllZWE1M2M4ODhmNzBjOTJlZWYgPSBMLmNpcmNsZU1hcmtlcigKICAgICAgICAgICAgICAgIFs0My42NTA1NzEyMDAwMDAwMSwtNzkuMzg0NTY3NV0sCiAgICAgICAgICAgICAgICB7CiAgImJ1YmJsaW5nTW91c2VFdmVudHMiOiB0cnVlLAogICJjb2xvciI6ICJncmVlbiIsCiAgImRhc2hBcnJheSI6IG51bGwsCiAgImRhc2hPZmZzZXQiOiBudWxsLAogICJmaWxsIjogZmFsc2UsCiAgImZpbGxDb2xvciI6ICJncmVlbiIsCiAgImZpbGxPcGFjaXR5IjogMC4yLAogICJmaWxsUnVsZSI6ICJldmVub2RkIiwKICAibGluZUNhcCI6ICJyb3VuZCIsCiAgImxpbmVKb2luIjogInJvdW5kIiwKICAib3BhY2l0eSI6IDEuMCwKICAicmFkaXVzIjogNSwKICAic3Ryb2tlIjogdHJ1ZSwKICAid2VpZ2h0IjogMwp9CiAgICAgICAgICAgICAgICApLmFkZFRvKG1hcF9iNGE0YWEwYzJiOGI0ZGU1YTgzY2IxZjJlOGE1NTA3ZSk7CiAgICAgICAgICAgIAogICAgCiAgICAgICAgICAgIHZhciBwb3B1cF8yNjQ4M2U2MmNjZjY0NGRmYmM0Mjc1MjhiNjg2NTY0MyA9IEwucG9wdXAoe21heFdpZHRoOiAnMzAwJ30pOwoKICAgICAgICAgICAgCiAgICAgICAgICAgICAgICB2YXIgaHRtbF82ZjMxZTQ4MGQ0NDA0MDdiOWViOTg0MDcwN2JjZDRhNyA9ICQoJzxkaXYgaWQ9Imh0bWxfNmYzMWU0ODBkNDQwNDA3YjllYjk4NDA3MDdiY2Q0YTciIHN0eWxlPSJ3aWR0aDogMTAwLjAlOyBoZWlnaHQ6IDEwMC4wJTsiPlJpY2htb25kLCBBZGVsYWlkZSwgS2luZyBDbHVzdGVyIDI8L2Rpdj4nKVswXTsKICAgICAgICAgICAgICAgIHBvcHVwXzI2NDgzZTYyY2NmNjQ0ZGZiYzQyNzUyOGI2ODY1NjQzLnNldENvbnRlbnQoaHRtbF82ZjMxZTQ4MGQ0NDA0MDdiOWViOTg0MDcwN2JjZDRhNyk7CiAgICAgICAgICAgIAoKICAgICAgICAgICAgY2lyY2xlX21hcmtlcl9lZTQ3Yzk2OGM2OWE0OWVlYTUzYzg4OGY3MGM5MmVlZi5iaW5kUG9wdXAocG9wdXBfMjY0ODNlNjJjY2Y2NDRkZmJjNDI3NTI4YjY4NjU2NDMpOwoKICAgICAgICAgICAgCiAgICAgICAgCiAgICAKICAgICAgICAgICAgdmFyIGNpcmNsZV9tYXJrZXJfY2IwOGQ3YTY4NDlmNGExOGFhZWU0ZDdiNjJjMjVhYzUgPSBMLmNpcmNsZU1hcmtlcigKICAgICAgICAgICAgICAgIFs0My42NjkwMDUxMDAwMDAwMSwtNzkuNDQyMjU5M10sCiAgICAgICAgICAgICAgICB7CiAgImJ1YmJsaW5nTW91c2VFdmVudHMiOiB0cnVlLAogICJjb2xvciI6ICJibGFjayIsCiAgImRhc2hBcnJheSI6IG51bGwsCiAgImRhc2hPZmZzZXQiOiBudWxsLAogICJmaWxsIjogZmFsc2UsCiAgImZpbGxDb2xvciI6ICJibGFjayIsCiAgImZpbGxPcGFjaXR5IjogMC4yLAogICJmaWxsUnVsZSI6ICJldmVub2RkIiwKICAibGluZUNhcCI6ICJyb3VuZCIsCiAgImxpbmVKb2luIjogInJvdW5kIiwKICAib3BhY2l0eSI6IDEuMCwKICAicmFkaXVzIjogNSwKICAic3Ryb2tlIjogdHJ1ZSwKICAid2VpZ2h0IjogMwp9CiAgICAgICAgICAgICAgICApLmFkZFRvKG1hcF9iNGE0YWEwYzJiOGI0ZGU1YTgzY2IxZjJlOGE1NTA3ZSk7CiAgICAgICAgICAgIAogICAgCiAgICAgICAgICAgIHZhciBwb3B1cF80MDM0NjhhMThjMGQ0ZGY4OWZhYTI4NTY0NmZhNDY3MiA9IEwucG9wdXAoe21heFdpZHRoOiAnMzAwJ30pOwoKICAgICAgICAgICAgCiAgICAgICAgICAgICAgICB2YXIgaHRtbF9mNjBjMmJmMWFkYTk0MDM1YmU2ZGI5NjUyZDZiMWM2MCA9ICQoJzxkaXYgaWQ9Imh0bWxfZjYwYzJiZjFhZGE5NDAzNWJlNmRiOTY1MmQ2YjFjNjAiIHN0eWxlPSJ3aWR0aDogMTAwLjAlOyBoZWlnaHQ6IDEwMC4wJTsiPkR1ZmZlcmluLCBEb3ZlcmNvdXJ0IFZpbGxhZ2UgQ2x1c3RlciAwPC9kaXY+JylbMF07CiAgICAgICAgICAgICAgICBwb3B1cF80MDM0NjhhMThjMGQ0ZGY4OWZhYTI4NTY0NmZhNDY3Mi5zZXRDb250ZW50KGh0bWxfZjYwYzJiZjFhZGE5NDAzNWJlNmRiOTY1MmQ2YjFjNjApOwogICAgICAgICAgICAKCiAgICAgICAgICAgIGNpcmNsZV9tYXJrZXJfY2IwOGQ3YTY4NDlmNGExOGFhZWU0ZDdiNjJjMjVhYzUuYmluZFBvcHVwKHBvcHVwXzQwMzQ2OGExOGMwZDRkZjg5ZmFhMjg1NjQ2ZmE0NjcyKTsKCiAgICAgICAgICAgIAogICAgICAgIAogICAgCiAgICAgICAgICAgIHZhciBjaXJjbGVfbWFya2VyX2ExMDZhNGRmYWY0ZTRmZmY5ZTJjNWY1NDY3Mzc1MDQ1ID0gTC5jaXJjbGVNYXJrZXIoCiAgICAgICAgICAgICAgICBbNDMuNjQwODE1NywtNzkuMzgxNzUyMjk5OTk5OTldLAogICAgICAgICAgICAgICAgewogICJidWJibGluZ01vdXNlRXZlbnRzIjogdHJ1ZSwKICAiY29sb3IiOiAiZ3JlZW4iLAogICJkYXNoQXJyYXkiOiBudWxsLAogICJkYXNoT2Zmc2V0IjogbnVsbCwKICAiZmlsbCI6IGZhbHNlLAogICJmaWxsQ29sb3IiOiAiZ3JlZW4iLAogICJmaWxsT3BhY2l0eSI6IDAuMiwKICAiZmlsbFJ1bGUiOiAiZXZlbm9kZCIsCiAgImxpbmVDYXAiOiAicm91bmQiLAogICJsaW5lSm9pbiI6ICJyb3VuZCIsCiAgIm9wYWNpdHkiOiAxLjAsCiAgInJhZGl1cyI6IDUsCiAgInN0cm9rZSI6IHRydWUsCiAgIndlaWdodCI6IDMKfQogICAgICAgICAgICAgICAgKS5hZGRUbyhtYXBfYjRhNGFhMGMyYjhiNGRlNWE4M2NiMWYyZThhNTUwN2UpOwogICAgICAgICAgICAKICAgIAogICAgICAgICAgICB2YXIgcG9wdXBfZGYwMTFjOTAyZjNmNDkzM2JhZTg0Nzc0OWE4ZTM2M2MgPSBMLnBvcHVwKHttYXhXaWR0aDogJzMwMCd9KTsKCiAgICAgICAgICAgIAogICAgICAgICAgICAgICAgdmFyIGh0bWxfODgyMTJmYmIzOTlmNGNmOWEzODRjMTY4MzgzMzY2N2MgPSAkKCc8ZGl2IGlkPSJodG1sXzg4MjEyZmJiMzk5ZjRjZjlhMzg0YzE2ODM4MzM2NjdjIiBzdHlsZT0id2lkdGg6IDEwMC4wJTsgaGVpZ2h0OiAxMDAuMCU7Ij5IYXJib3VyZnJvbnQgRWFzdCwgVW5pb24gU3RhdGlvbiwgVG9yb250byBJc2xhbmRzIENsdXN0ZXIgMjwvZGl2PicpWzBdOwogICAgICAgICAgICAgICAgcG9wdXBfZGYwMTFjOTAyZjNmNDkzM2JhZTg0Nzc0OWE4ZTM2M2Muc2V0Q29udGVudChodG1sXzg4MjEyZmJiMzk5ZjRjZjlhMzg0YzE2ODM4MzM2NjdjKTsKICAgICAgICAgICAgCgogICAgICAgICAgICBjaXJjbGVfbWFya2VyX2ExMDZhNGRmYWY0ZTRmZmY5ZTJjNWY1NDY3Mzc1MDQ1LmJpbmRQb3B1cChwb3B1cF9kZjAxMWM5MDJmM2Y0OTMzYmFlODQ3NzQ5YThlMzYzYyk7CgogICAgICAgICAgICAKICAgICAgICAKICAgIAogICAgICAgICAgICB2YXIgY2lyY2xlX21hcmtlcl85ODdkMDU5YjYwODM0Yzg5YWYwOWI0ZTM3ZmI3YmUyZCA9IEwuY2lyY2xlTWFya2VyKAogICAgICAgICAgICAgICAgWzQzLjY0NzkyNjcwMDAwMDAwNiwtNzkuNDE5NzQ5N10sCiAgICAgICAgICAgICAgICB7CiAgImJ1YmJsaW5nTW91c2VFdmVudHMiOiB0cnVlLAogICJjb2xvciI6ICJibGFjayIsCiAgImRhc2hBcnJheSI6IG51bGwsCiAgImRhc2hPZmZzZXQiOiBudWxsLAogICJmaWxsIjogZmFsc2UsCiAgImZpbGxDb2xvciI6ICJibGFjayIsCiAgImZpbGxPcGFjaXR5IjogMC4yLAogICJmaWxsUnVsZSI6ICJldmVub2RkIiwKICAibGluZUNhcCI6ICJyb3VuZCIsCiAgImxpbmVKb2luIjogInJvdW5kIiwKICAib3BhY2l0eSI6IDEuMCwKICAicmFkaXVzIjogNSwKICAic3Ryb2tlIjogdHJ1ZSwKICAid2VpZ2h0IjogMwp9CiAgICAgICAgICAgICAgICApLmFkZFRvKG1hcF9iNGE0YWEwYzJiOGI0ZGU1YTgzY2IxZjJlOGE1NTA3ZSk7CiAgICAgICAgICAgIAogICAgCiAgICAgICAgICAgIHZhciBwb3B1cF83ZDFlZmRiYzc1YTI0YjlhYjRkMjg0YzUxYjEwNjU4NyA9IEwucG9wdXAoe21heFdpZHRoOiAnMzAwJ30pOwoKICAgICAgICAgICAgCiAgICAgICAgICAgICAgICB2YXIgaHRtbF8xOTNlNjZlMzE0ZTU0MjlhOWU0YWFiYmZlYWRkYTI0OCA9ICQoJzxkaXYgaWQ9Imh0bWxfMTkzZTY2ZTMxNGU1NDI5YTllNGFhYmJmZWFkZGEyNDgiIHN0eWxlPSJ3aWR0aDogMTAwLjAlOyBoZWlnaHQ6IDEwMC4wJTsiPkxpdHRsZSBQb3J0dWdhbCwgVHJpbml0eSBDbHVzdGVyIDA8L2Rpdj4nKVswXTsKICAgICAgICAgICAgICAgIHBvcHVwXzdkMWVmZGJjNzVhMjRiOWFiNGQyODRjNTFiMTA2NTg3LnNldENvbnRlbnQoaHRtbF8xOTNlNjZlMzE0ZTU0MjlhOWU0YWFiYmZlYWRkYTI0OCk7CiAgICAgICAgICAgIAoKICAgICAgICAgICAgY2lyY2xlX21hcmtlcl85ODdkMDU5YjYwODM0Yzg5YWYwOWI0ZTM3ZmI3YmUyZC5iaW5kUG9wdXAocG9wdXBfN2QxZWZkYmM3NWEyNGI5YWI0ZDI4NGM1MWIxMDY1ODcpOwoKICAgICAgICAgICAgCiAgICAgICAgCiAgICAKICAgICAgICAgICAgdmFyIGNpcmNsZV9tYXJrZXJfMzdiYTFhZjA1YTRlNDgzYTllNmJlYTcyNTI1ZGQ0NmUgPSBMLmNpcmNsZU1hcmtlcigKICAgICAgICAgICAgICAgIFs0My42Nzk1NTcxLC03OS4zNTIxODhdLAogICAgICAgICAgICAgICAgewogICJidWJibGluZ01vdXNlRXZlbnRzIjogdHJ1ZSwKICAiY29sb3IiOiAiYmxhY2siLAogICJkYXNoQXJyYXkiOiBudWxsLAogICJkYXNoT2Zmc2V0IjogbnVsbCwKICAiZmlsbCI6IGZhbHNlLAogICJmaWxsQ29sb3IiOiAiYmxhY2siLAogICJmaWxsT3BhY2l0eSI6IDAuMiwKICAiZmlsbFJ1bGUiOiAiZXZlbm9kZCIsCiAgImxpbmVDYXAiOiAicm91bmQiLAogICJsaW5lSm9pbiI6ICJyb3VuZCIsCiAgIm9wYWNpdHkiOiAxLjAsCiAgInJhZGl1cyI6IDUsCiAgInN0cm9rZSI6IHRydWUsCiAgIndlaWdodCI6IDMKfQogICAgICAgICAgICAgICAgKS5hZGRUbyhtYXBfYjRhNGFhMGMyYjhiNGRlNWE4M2NiMWYyZThhNTUwN2UpOwogICAgICAgICAgICAKICAgIAogICAgICAgICAgICB2YXIgcG9wdXBfNDRhYTM0ZmVlMDljNGY3YTg4OGY3NGIxMjRkZmI4ZjYgPSBMLnBvcHVwKHttYXhXaWR0aDogJzMwMCd9KTsKCiAgICAgICAgICAgIAogICAgICAgICAgICAgICAgdmFyIGh0bWxfYmU5OWMyNDRiZTc2NGEzY2E4NTE4ODVkNWZmZjA4ODIgPSAkKCc8ZGl2IGlkPSJodG1sX2JlOTljMjQ0YmU3NjRhM2NhODUxODg1ZDVmZmYwODgyIiBzdHlsZT0id2lkdGg6IDEwMC4wJTsgaGVpZ2h0OiAxMDAuMCU7Ij5UaGUgRGFuZm9ydGggV2VzdCwgUml2ZXJkYWxlIENsdXN0ZXIgMDwvZGl2PicpWzBdOwogICAgICAgICAgICAgICAgcG9wdXBfNDRhYTM0ZmVlMDljNGY3YTg4OGY3NGIxMjRkZmI4ZjYuc2V0Q29udGVudChodG1sX2JlOTljMjQ0YmU3NjRhM2NhODUxODg1ZDVmZmYwODgyKTsKICAgICAgICAgICAgCgogICAgICAgICAgICBjaXJjbGVfbWFya2VyXzM3YmExYWYwNWE0ZTQ4M2E5ZTZiZWE3MjUyNWRkNDZlLmJpbmRQb3B1cChwb3B1cF80NGFhMzRmZWUwOWM0ZjdhODg4Zjc0YjEyNGRmYjhmNik7CgogICAgICAgICAgICAKICAgICAgICAKICAgIAogICAgICAgICAgICB2YXIgY2lyY2xlX21hcmtlcl9jYjliMjkxMTYxNjA0Mjg5YWM2OTIwZTBjY2Q0ZmRmZSA9IEwuY2lyY2xlTWFya2VyKAogICAgICAgICAgICAgICAgWzQzLjY0NzE3NjgsLTc5LjM4MTU3NjQwMDAwMDAxXSwKICAgICAgICAgICAgICAgIHsKICAiYnViYmxpbmdNb3VzZUV2ZW50cyI6IHRydWUsCiAgImNvbG9yIjogImdyZWVuIiwKICAiZGFzaEFycmF5IjogbnVsbCwKICAiZGFzaE9mZnNldCI6IG51bGwsCiAgImZpbGwiOiBmYWxzZSwKICAiZmlsbENvbG9yIjogImdyZWVuIiwKICAiZmlsbE9wYWNpdHkiOiAwLjIsCiAgImZpbGxSdWxlIjogImV2ZW5vZGQiLAogICJsaW5lQ2FwIjogInJvdW5kIiwKICAibGluZUpvaW4iOiAicm91bmQiLAogICJvcGFjaXR5IjogMS4wLAogICJyYWRpdXMiOiA1LAogICJzdHJva2UiOiB0cnVlLAogICJ3ZWlnaHQiOiAzCn0KICAgICAgICAgICAgICAgICkuYWRkVG8obWFwX2I0YTRhYTBjMmI4YjRkZTVhODNjYjFmMmU4YTU1MDdlKTsKICAgICAgICAgICAgCiAgICAKICAgICAgICAgICAgdmFyIHBvcHVwX2JmYTczYjI3MjhmNTQ5YjZhNGJlYTZiYjRiNDgxOTc4ID0gTC5wb3B1cCh7bWF4V2lkdGg6ICczMDAnfSk7CgogICAgICAgICAgICAKICAgICAgICAgICAgICAgIHZhciBodG1sXzNmMTBkNjg3YjJkZjRkNmNiMmY5MTVjMjU0NWI4MzRhID0gJCgnPGRpdiBpZD0iaHRtbF8zZjEwZDY4N2IyZGY0ZDZjYjJmOTE1YzI1NDViODM0YSIgc3R5bGU9IndpZHRoOiAxMDAuMCU7IGhlaWdodDogMTAwLjAlOyI+VG9yb250byBEb21pbmlvbiBDZW50cmUsIERlc2lnbiBFeGNoYW5nZSBDbHVzdGVyIDI8L2Rpdj4nKVswXTsKICAgICAgICAgICAgICAgIHBvcHVwX2JmYTczYjI3MjhmNTQ5YjZhNGJlYTZiYjRiNDgxOTc4LnNldENvbnRlbnQoaHRtbF8zZjEwZDY4N2IyZGY0ZDZjYjJmOTE1YzI1NDViODM0YSk7CiAgICAgICAgICAgIAoKICAgICAgICAgICAgY2lyY2xlX21hcmtlcl9jYjliMjkxMTYxNjA0Mjg5YWM2OTIwZTBjY2Q0ZmRmZS5iaW5kUG9wdXAocG9wdXBfYmZhNzNiMjcyOGY1NDliNmE0YmVhNmJiNGI0ODE5NzgpOwoKICAgICAgICAgICAgCiAgICAgICAgCiAgICAKICAgICAgICAgICAgdmFyIGNpcmNsZV9tYXJrZXJfYTY5MGNlYzUwY2MzNDlmNzhkNjhkYmVjYmMzZTYyZjEgPSBMLmNpcmNsZU1hcmtlcigKICAgICAgICAgICAgICAgIFs0My42MzY4NDcyLC03OS40MjgxOTE0MDAwMDAwMl0sCiAgICAgICAgICAgICAgICB7CiAgImJ1YmJsaW5nTW91c2VFdmVudHMiOiB0cnVlLAogICJjb2xvciI6ICJyZWQiLAogICJkYXNoQXJyYXkiOiBudWxsLAogICJkYXNoT2Zmc2V0IjogbnVsbCwKICAiZmlsbCI6IGZhbHNlLAogICJmaWxsQ29sb3IiOiAicmVkIiwKICAiZmlsbE9wYWNpdHkiOiAwLjIsCiAgImZpbGxSdWxlIjogImV2ZW5vZGQiLAogICJsaW5lQ2FwIjogInJvdW5kIiwKICAibGluZUpvaW4iOiAicm91bmQiLAogICJvcGFjaXR5IjogMS4wLAogICJyYWRpdXMiOiA1LAogICJzdHJva2UiOiB0cnVlLAogICJ3ZWlnaHQiOiAzCn0KICAgICAgICAgICAgICAgICkuYWRkVG8obWFwX2I0YTRhYTBjMmI4YjRkZTVhODNjYjFmMmU4YTU1MDdlKTsKICAgICAgICAgICAgCiAgICAKICAgICAgICAgICAgdmFyIHBvcHVwX2JiMWM4NzQ1MDM4NjRmYzNiZjgzODNkZTgwNjkyZjFmID0gTC5wb3B1cCh7bWF4V2lkdGg6ICczMDAnfSk7CgogICAgICAgICAgICAKICAgICAgICAgICAgICAgIHZhciBodG1sX2FmOGY0YzdmZTYxODRjY2M4OTQwN2Y5NmVjOWU3ZTkyID0gJCgnPGRpdiBpZD0iaHRtbF9hZjhmNGM3ZmU2MTg0Y2NjODk0MDdmOTZlYzllN2U5MiIgc3R5bGU9IndpZHRoOiAxMDAuMCU7IGhlaWdodDogMTAwLjAlOyI+QnJvY2t0b24sIFBhcmtkYWxlIFZpbGxhZ2UsIEV4aGliaXRpb24gUGxhY2UgQ2x1c3RlciAxPC9kaXY+JylbMF07CiAgICAgICAgICAgICAgICBwb3B1cF9iYjFjODc0NTAzODY0ZmMzYmY4MzgzZGU4MDY5MmYxZi5zZXRDb250ZW50KGh0bWxfYWY4ZjRjN2ZlNjE4NGNjYzg5NDA3Zjk2ZWM5ZTdlOTIpOwogICAgICAgICAgICAKCiAgICAgICAgICAgIGNpcmNsZV9tYXJrZXJfYTY5MGNlYzUwY2MzNDlmNzhkNjhkYmVjYmMzZTYyZjEuYmluZFBvcHVwKHBvcHVwX2JiMWM4NzQ1MDM4NjRmYzNiZjgzODNkZTgwNjkyZjFmKTsKCiAgICAgICAgICAgIAogICAgICAgIAogICAgCiAgICAgICAgICAgIHZhciBjaXJjbGVfbWFya2VyXzczZGJkNzhmNzBlYzQwNjFhYzE1ZWFlNTJlYWI3ZTExID0gTC5jaXJjbGVNYXJrZXIoCiAgICAgICAgICAgICAgICBbNDMuNjY4OTk4NSwtNzkuMzE1NTcxNTk5OTk5OThdLAogICAgICAgICAgICAgICAgewogICJidWJibGluZ01vdXNlRXZlbnRzIjogdHJ1ZSwKICAiY29sb3IiOiAiYmx1ZSIsCiAgImRhc2hBcnJheSI6IG51bGwsCiAgImRhc2hPZmZzZXQiOiBudWxsLAogICJmaWxsIjogZmFsc2UsCiAgImZpbGxDb2xvciI6ICJibHVlIiwKICAiZmlsbE9wYWNpdHkiOiAwLjIsCiAgImZpbGxSdWxlIjogImV2ZW5vZGQiLAogICJsaW5lQ2FwIjogInJvdW5kIiwKICAibGluZUpvaW4iOiAicm91bmQiLAogICJvcGFjaXR5IjogMS4wLAogICJyYWRpdXMiOiA1LAogICJzdHJva2UiOiB0cnVlLAogICJ3ZWlnaHQiOiAzCn0KICAgICAgICAgICAgICAgICkuYWRkVG8obWFwX2I0YTRhYTBjMmI4YjRkZTVhODNjYjFmMmU4YTU1MDdlKTsKICAgICAgICAgICAgCiAgICAKICAgICAgICAgICAgdmFyIHBvcHVwXzRmMjc2NDViZDIzOTRkYTg4YmJiN2FlZGYzMzNiYzczID0gTC5wb3B1cCh7bWF4V2lkdGg6ICczMDAnfSk7CgogICAgICAgICAgICAKICAgICAgICAgICAgICAgIHZhciBodG1sXzNjYmI5YjIxNjdmYzQxMzU5OGIxMTUzNmQ1ODM4NWVlID0gJCgnPGRpdiBpZD0iaHRtbF8zY2JiOWIyMTY3ZmM0MTM1OThiMTE1MzZkNTgzODVlZSIgc3R5bGU9IndpZHRoOiAxMDAuMCU7IGhlaWdodDogMTAwLjAlOyI+SW5kaWEgQmF6YWFyLCBUaGUgQmVhY2hlcyBXZXN0IENsdXN0ZXIgMzwvZGl2PicpWzBdOwogICAgICAgICAgICAgICAgcG9wdXBfNGYyNzY0NWJkMjM5NGRhODhiYmI3YWVkZjMzM2JjNzMuc2V0Q29udGVudChodG1sXzNjYmI5YjIxNjdmYzQxMzU5OGIxMTUzNmQ1ODM4NWVlKTsKICAgICAgICAgICAgCgogICAgICAgICAgICBjaXJjbGVfbWFya2VyXzczZGJkNzhmNzBlYzQwNjFhYzE1ZWFlNTJlYWI3ZTExLmJpbmRQb3B1cChwb3B1cF80ZjI3NjQ1YmQyMzk0ZGE4OGJiYjdhZWRmMzMzYmM3Myk7CgogICAgICAgICAgICAKICAgICAgICAKICAgIAogICAgICAgICAgICB2YXIgY2lyY2xlX21hcmtlcl83NDQzMGJhZjU1MWE0N2NkYjIyODg4ZWRlNjIyNWYxMiA9IEwuY2lyY2xlTWFya2VyKAogICAgICAgICAgICAgICAgWzQzLjY0ODE5ODUsLTc5LjM3OTgxNjkwMDAwMDAxXSwKICAgICAgICAgICAgICAgIHsKICAiYnViYmxpbmdNb3VzZUV2ZW50cyI6IHRydWUsCiAgImNvbG9yIjogImdyZWVuIiwKICAiZGFzaEFycmF5IjogbnVsbCwKICAiZGFzaE9mZnNldCI6IG51bGwsCiAgImZpbGwiOiBmYWxzZSwKICAiZmlsbENvbG9yIjogImdyZWVuIiwKICAiZmlsbE9wYWNpdHkiOiAwLjIsCiAgImZpbGxSdWxlIjogImV2ZW5vZGQiLAogICJsaW5lQ2FwIjogInJvdW5kIiwKICAibGluZUpvaW4iOiAicm91bmQiLAogICJvcGFjaXR5IjogMS4wLAogICJyYWRpdXMiOiA1LAogICJzdHJva2UiOiB0cnVlLAogICJ3ZWlnaHQiOiAzCn0KICAgICAgICAgICAgICAgICkuYWRkVG8obWFwX2I0YTRhYTBjMmI4YjRkZTVhODNjYjFmMmU4YTU1MDdlKTsKICAgICAgICAgICAgCiAgICAKICAgICAgICAgICAgdmFyIHBvcHVwXzliNGQzOWE1ODk3NjRjYjVhNzRkMDFiMDU2YTk0ZDc3ID0gTC5wb3B1cCh7bWF4V2lkdGg6ICczMDAnfSk7CgogICAgICAgICAgICAKICAgICAgICAgICAgICAgIHZhciBodG1sXzMyZTA3NDgyMDBlYzQ1MDc5NDJmMTNmODNlODNmYWVkID0gJCgnPGRpdiBpZD0iaHRtbF8zMmUwNzQ4MjAwZWM0NTA3OTQyZjEzZjgzZTgzZmFlZCIgc3R5bGU9IndpZHRoOiAxMDAuMCU7IGhlaWdodDogMTAwLjAlOyI+Q29tbWVyY2UgQ291cnQsIFZpY3RvcmlhIEhvdGVsIENsdXN0ZXIgMjwvZGl2PicpWzBdOwogICAgICAgICAgICAgICAgcG9wdXBfOWI0ZDM5YTU4OTc2NGNiNWE3NGQwMWIwNTZhOTRkNzcuc2V0Q29udGVudChodG1sXzMyZTA3NDgyMDBlYzQ1MDc5NDJmMTNmODNlODNmYWVkKTsKICAgICAgICAgICAgCgogICAgICAgICAgICBjaXJjbGVfbWFya2VyXzc0NDMwYmFmNTUxYTQ3Y2RiMjI4ODhlZGU2MjI1ZjEyLmJpbmRQb3B1cChwb3B1cF85YjRkMzlhNTg5NzY0Y2I1YTc0ZDAxYjA1NmE5NGQ3Nyk7CgogICAgICAgICAgICAKICAgICAgICAKICAgIAogICAgICAgICAgICB2YXIgY2lyY2xlX21hcmtlcl9iOTUzZDkzYjhkOTg0NTU4OTlkMmRjZTg0YmQzMGJjZSA9IEwuY2lyY2xlTWFya2VyKAogICAgICAgICAgICAgICAgWzQzLjY1OTUyNTUsLTc5LjM0MDkyM10sCiAgICAgICAgICAgICAgICB7CiAgImJ1YmJsaW5nTW91c2VFdmVudHMiOiB0cnVlLAogICJjb2xvciI6ICJyZWQiLAogICJkYXNoQXJyYXkiOiBudWxsLAogICJkYXNoT2Zmc2V0IjogbnVsbCwKICAiZmlsbCI6IGZhbHNlLAogICJmaWxsQ29sb3IiOiAicmVkIiwKICAiZmlsbE9wYWNpdHkiOiAwLjIsCiAgImZpbGxSdWxlIjogImV2ZW5vZGQiLAogICJsaW5lQ2FwIjogInJvdW5kIiwKICAibGluZUpvaW4iOiAicm91bmQiLAogICJvcGFjaXR5IjogMS4wLAogICJyYWRpdXMiOiA1LAogICJzdHJva2UiOiB0cnVlLAogICJ3ZWlnaHQiOiAzCn0KICAgICAgICAgICAgICAgICkuYWRkVG8obWFwX2I0YTRhYTBjMmI4YjRkZTVhODNjYjFmMmU4YTU1MDdlKTsKICAgICAgICAgICAgCiAgICAKICAgICAgICAgICAgdmFyIHBvcHVwXzdmOTg0MzE4ODRjZTQ5YTQ5YTVjYzc4NzE5MjhkNDRjID0gTC5wb3B1cCh7bWF4V2lkdGg6ICczMDAnfSk7CgogICAgICAgICAgICAKICAgICAgICAgICAgICAgIHZhciBodG1sX2Q5MjllMzc1OWM2ZjRjYWU5NDBjZDk3OThlZWFjMzJmID0gJCgnPGRpdiBpZD0iaHRtbF9kOTI5ZTM3NTljNmY0Y2FlOTQwY2Q5Nzk4ZWVhYzMyZiIgc3R5bGU9IndpZHRoOiAxMDAuMCU7IGhlaWdodDogMTAwLjAlOyI+U3R1ZGlvIERpc3RyaWN0IENsdXN0ZXIgMTwvZGl2PicpWzBdOwogICAgICAgICAgICAgICAgcG9wdXBfN2Y5ODQzMTg4NGNlNDlhNDlhNWNjNzg3MTkyOGQ0NGMuc2V0Q29udGVudChodG1sX2Q5MjllMzc1OWM2ZjRjYWU5NDBjZDk3OThlZWFjMzJmKTsKICAgICAgICAgICAgCgogICAgICAgICAgICBjaXJjbGVfbWFya2VyX2I5NTNkOTNiOGQ5ODQ1NTg5OWQyZGNlODRiZDMwYmNlLmJpbmRQb3B1cChwb3B1cF83Zjk4NDMxODg0Y2U0OWE0OWE1Y2M3ODcxOTI4ZDQ0Yyk7CgogICAgICAgICAgICAKICAgICAgICAKICAgIAogICAgICAgICAgICB2YXIgY2lyY2xlX21hcmtlcl8xYjZhZTE4NmNlNGI0ZjA4YmNlNmQ1YzcwNDQ2M2E4MyA9IEwuY2lyY2xlTWFya2VyKAogICAgICAgICAgICAgICAgWzQzLjcyODAyMDUsLTc5LjM4ODc5MDFdLAogICAgICAgICAgICAgICAgewogICJidWJibGluZ01vdXNlRXZlbnRzIjogdHJ1ZSwKICAiY29sb3IiOiAiYmx1ZSIsCiAgImRhc2hBcnJheSI6IG51bGwsCiAgImRhc2hPZmZzZXQiOiBudWxsLAogICJmaWxsIjogZmFsc2UsCiAgImZpbGxDb2xvciI6ICJibHVlIiwKICAiZmlsbE9wYWNpdHkiOiAwLjIsCiAgImZpbGxSdWxlIjogImV2ZW5vZGQiLAogICJsaW5lQ2FwIjogInJvdW5kIiwKICAibGluZUpvaW4iOiAicm91bmQiLAogICJvcGFjaXR5IjogMS4wLAogICJyYWRpdXMiOiA1LAogICJzdHJva2UiOiB0cnVlLAogICJ3ZWlnaHQiOiAzCn0KICAgICAgICAgICAgICAgICkuYWRkVG8obWFwX2I0YTRhYTBjMmI4YjRkZTVhODNjYjFmMmU4YTU1MDdlKTsKICAgICAgICAgICAgCiAgICAKICAgICAgICAgICAgdmFyIHBvcHVwXzU2OWNiNzhiNzBiNzQxZjZhNDAzNzJmMDFlMjU3YmI0ID0gTC5wb3B1cCh7bWF4V2lkdGg6ICczMDAnfSk7CgogICAgICAgICAgICAKICAgICAgICAgICAgICAgIHZhciBodG1sXzdjOTM3MDQzNzEyYjRmMjU4ZmQ2ZmFiNmVmOTM3YWE5ID0gJCgnPGRpdiBpZD0iaHRtbF83YzkzNzA0MzcxMmI0ZjI1OGZkNmZhYjZlZjkzN2FhOSIgc3R5bGU9IndpZHRoOiAxMDAuMCU7IGhlaWdodDogMTAwLjAlOyI+TGF3cmVuY2UgUGFyayBDbHVzdGVyIDM8L2Rpdj4nKVswXTsKICAgICAgICAgICAgICAgIHBvcHVwXzU2OWNiNzhiNzBiNzQxZjZhNDAzNzJmMDFlMjU3YmI0LnNldENvbnRlbnQoaHRtbF83YzkzNzA0MzcxMmI0ZjI1OGZkNmZhYjZlZjkzN2FhOSk7CiAgICAgICAgICAgIAoKICAgICAgICAgICAgY2lyY2xlX21hcmtlcl8xYjZhZTE4NmNlNGI0ZjA4YmNlNmQ1YzcwNDQ2M2E4My5iaW5kUG9wdXAocG9wdXBfNTY5Y2I3OGI3MGI3NDFmNmE0MDM3MmYwMWUyNTdiYjQpOwoKICAgICAgICAgICAgCiAgICAgICAgCiAgICAKICAgICAgICAgICAgdmFyIGNpcmNsZV9tYXJrZXJfMmE4NWY4YTg0MDY4NDZhODllYTczMTJiNjY1NDZjOTIgPSBMLmNpcmNsZU1hcmtlcigKICAgICAgICAgICAgICAgIFs0My43MTE2OTQ4LC03OS40MTY5MzU1OTk5OTk5OV0sCiAgICAgICAgICAgICAgICB7CiAgImJ1YmJsaW5nTW91c2VFdmVudHMiOiB0cnVlLAogICJjb2xvciI6ICJibGFjayIsCiAgImRhc2hBcnJheSI6IG51bGwsCiAgImRhc2hPZmZzZXQiOiBudWxsLAogICJmaWxsIjogZmFsc2UsCiAgImZpbGxDb2xvciI6ICJibGFjayIsCiAgImZpbGxPcGFjaXR5IjogMC4yLAogICJmaWxsUnVsZSI6ICJldmVub2RkIiwKICAibGluZUNhcCI6ICJyb3VuZCIsCiAgImxpbmVKb2luIjogInJvdW5kIiwKICAib3BhY2l0eSI6IDEuMCwKICAicmFkaXVzIjogNSwKICAic3Ryb2tlIjogdHJ1ZSwKICAid2VpZ2h0IjogMwp9CiAgICAgICAgICAgICAgICApLmFkZFRvKG1hcF9iNGE0YWEwYzJiOGI0ZGU1YTgzY2IxZjJlOGE1NTA3ZSk7CiAgICAgICAgICAgIAogICAgCiAgICAgICAgICAgIHZhciBwb3B1cF9mZWFjMjdlMmZhMjk0OGZiODg4YjUyNzkxZTg3NTgzZSA9IEwucG9wdXAoe21heFdpZHRoOiAnMzAwJ30pOwoKICAgICAgICAgICAgCiAgICAgICAgICAgICAgICB2YXIgaHRtbF83NTBhNDdjYzc4YjA0ZTYwYTkyMjc4ODZmMmY4YTVkNiA9ICQoJzxkaXYgaWQ9Imh0bWxfNzUwYTQ3Y2M3OGIwNGU2MGE5MjI3ODg2ZjJmOGE1ZDYiIHN0eWxlPSJ3aWR0aDogMTAwLjAlOyBoZWlnaHQ6IDEwMC4wJTsiPlJvc2VsYXduIENsdXN0ZXIgMDwvZGl2PicpWzBdOwogICAgICAgICAgICAgICAgcG9wdXBfZmVhYzI3ZTJmYTI5NDhmYjg4OGI1Mjc5MWU4NzU4M2Uuc2V0Q29udGVudChodG1sXzc1MGE0N2NjNzhiMDRlNjBhOTIyNzg4NmYyZjhhNWQ2KTsKICAgICAgICAgICAgCgogICAgICAgICAgICBjaXJjbGVfbWFya2VyXzJhODVmOGE4NDA2ODQ2YTg5ZWE3MzEyYjY2NTQ2YzkyLmJpbmRQb3B1cChwb3B1cF9mZWFjMjdlMmZhMjk0OGZiODg4YjUyNzkxZTg3NTgzZSk7CgogICAgICAgICAgICAKICAgICAgICAKICAgIAogICAgICAgICAgICB2YXIgY2lyY2xlX21hcmtlcl8zNDMwY2Y3ZmNjMjI0MWU2YWYzZTVjZWVkODAyNDQ5OCA9IEwuY2lyY2xlTWFya2VyKAogICAgICAgICAgICAgICAgWzQzLjcxMjc1MTEsLTc5LjM5MDE5NzVdLAogICAgICAgICAgICAgICAgewogICJidWJibGluZ01vdXNlRXZlbnRzIjogdHJ1ZSwKICAiY29sb3IiOiAiYmx1ZSIsCiAgImRhc2hBcnJheSI6IG51bGwsCiAgImRhc2hPZmZzZXQiOiBudWxsLAogICJmaWxsIjogZmFsc2UsCiAgImZpbGxDb2xvciI6ICJibHVlIiwKICAiZmlsbE9wYWNpdHkiOiAwLjIsCiAgImZpbGxSdWxlIjogImV2ZW5vZGQiLAogICJsaW5lQ2FwIjogInJvdW5kIiwKICAibGluZUpvaW4iOiAicm91bmQiLAogICJvcGFjaXR5IjogMS4wLAogICJyYWRpdXMiOiA1LAogICJzdHJva2UiOiB0cnVlLAogICJ3ZWlnaHQiOiAzCn0KICAgICAgICAgICAgICAgICkuYWRkVG8obWFwX2I0YTRhYTBjMmI4YjRkZTVhODNjYjFmMmU4YTU1MDdlKTsKICAgICAgICAgICAgCiAgICAKICAgICAgICAgICAgdmFyIHBvcHVwXzcwOGE5NzliNWRkYTQxZTJiYmQzYzBiYjEzMmYzZDFkID0gTC5wb3B1cCh7bWF4V2lkdGg6ICczMDAnfSk7CgogICAgICAgICAgICAKICAgICAgICAgICAgICAgIHZhciBodG1sX2QzZDY5NGE3NjVmODQ0MTBhNmFmZjhiYTU5NWE4M2E2ID0gJCgnPGRpdiBpZD0iaHRtbF9kM2Q2OTRhNzY1Zjg0NDEwYTZhZmY4YmE1OTVhODNhNiIgc3R5bGU9IndpZHRoOiAxMDAuMCU7IGhlaWdodDogMTAwLjAlOyI+RGF2aXN2aWxsZSBOb3J0aCBDbHVzdGVyIDM8L2Rpdj4nKVswXTsKICAgICAgICAgICAgICAgIHBvcHVwXzcwOGE5NzliNWRkYTQxZTJiYmQzYzBiYjEzMmYzZDFkLnNldENvbnRlbnQoaHRtbF9kM2Q2OTRhNzY1Zjg0NDEwYTZhZmY4YmE1OTVhODNhNik7CiAgICAgICAgICAgIAoKICAgICAgICAgICAgY2lyY2xlX21hcmtlcl8zNDMwY2Y3ZmNjMjI0MWU2YWYzZTVjZWVkODAyNDQ5OC5iaW5kUG9wdXAocG9wdXBfNzA4YTk3OWI1ZGRhNDFlMmJiZDNjMGJiMTMyZjNkMWQpOwoKICAgICAgICAgICAgCiAgICAgICAgCiAgICAKICAgICAgICAgICAgdmFyIGNpcmNsZV9tYXJrZXJfZmFjYTUzOWU4ZjA5NGNkMGIxMjhmYzc4NGJlMWI3ZjYgPSBMLmNpcmNsZU1hcmtlcigKICAgICAgICAgICAgICAgIFs0My42OTY5NDc2LC03OS40MTEzMDcyMDAwMDAwMV0sCiAgICAgICAgICAgICAgICB7CiAgImJ1YmJsaW5nTW91c2VFdmVudHMiOiB0cnVlLAogICJjb2xvciI6ICJibHVlIiwKICAiZGFzaEFycmF5IjogbnVsbCwKICAiZGFzaE9mZnNldCI6IG51bGwsCiAgImZpbGwiOiBmYWxzZSwKICAiZmlsbENvbG9yIjogImJsdWUiLAogICJmaWxsT3BhY2l0eSI6IDAuMiwKICAiZmlsbFJ1bGUiOiAiZXZlbm9kZCIsCiAgImxpbmVDYXAiOiAicm91bmQiLAogICJsaW5lSm9pbiI6ICJyb3VuZCIsCiAgIm9wYWNpdHkiOiAxLjAsCiAgInJhZGl1cyI6IDUsCiAgInN0cm9rZSI6IHRydWUsCiAgIndlaWdodCI6IDMKfQogICAgICAgICAgICAgICAgKS5hZGRUbyhtYXBfYjRhNGFhMGMyYjhiNGRlNWE4M2NiMWYyZThhNTUwN2UpOwogICAgICAgICAgICAKICAgIAogICAgICAgICAgICB2YXIgcG9wdXBfMmI2YWM3ZjNhY2Y1NDU0MmEzN2M1MGZlMzI4Mzc3ZjQgPSBMLnBvcHVwKHttYXhXaWR0aDogJzMwMCd9KTsKCiAgICAgICAgICAgIAogICAgICAgICAgICAgICAgdmFyIGh0bWxfODRiMGVkZDU3NzA1NGMzZTgzNTdhNDYyYzdiMmQyZjggPSAkKCc8ZGl2IGlkPSJodG1sXzg0YjBlZGQ1NzcwNTRjM2U4MzU3YTQ2MmM3YjJkMmY4IiBzdHlsZT0id2lkdGg6IDEwMC4wJTsgaGVpZ2h0OiAxMDAuMCU7Ij5Gb3Jlc3QgSGlsbCBOb3J0aCAmYW1wOyBXZXN0LCBGb3Jlc3QgSGlsbCBSb2FkIFBhcmsgQ2x1c3RlciAzPC9kaXY+JylbMF07CiAgICAgICAgICAgICAgICBwb3B1cF8yYjZhYzdmM2FjZjU0NTQyYTM3YzUwZmUzMjgzNzdmNC5zZXRDb250ZW50KGh0bWxfODRiMGVkZDU3NzA1NGMzZTgzNTdhNDYyYzdiMmQyZjgpOwogICAgICAgICAgICAKCiAgICAgICAgICAgIGNpcmNsZV9tYXJrZXJfZmFjYTUzOWU4ZjA5NGNkMGIxMjhmYzc4NGJlMWI3ZjYuYmluZFBvcHVwKHBvcHVwXzJiNmFjN2YzYWNmNTQ1NDJhMzdjNTBmZTMyODM3N2Y0KTsKCiAgICAgICAgICAgIAogICAgICAgIAogICAgCiAgICAgICAgICAgIHZhciBjaXJjbGVfbWFya2VyXzlmYjA0ZjkwY2YwMjQyNDhiNTgyMjI3OGQ4MTEwYmRjID0gTC5jaXJjbGVNYXJrZXIoCiAgICAgICAgICAgICAgICBbNDMuNjYxNjA4MywtNzkuNDY0NzYzMjk5OTk5OTldLAogICAgICAgICAgICAgICAgewogICJidWJibGluZ01vdXNlRXZlbnRzIjogdHJ1ZSwKICAiY29sb3IiOiAiYmxhY2siLAogICJkYXNoQXJyYXkiOiBudWxsLAogICJkYXNoT2Zmc2V0IjogbnVsbCwKICAiZmlsbCI6IGZhbHNlLAogICJmaWxsQ29sb3IiOiAiYmxhY2siLAogICJmaWxsT3BhY2l0eSI6IDAuMiwKICAiZmlsbFJ1bGUiOiAiZXZlbm9kZCIsCiAgImxpbmVDYXAiOiAicm91bmQiLAogICJsaW5lSm9pbiI6ICJyb3VuZCIsCiAgIm9wYWNpdHkiOiAxLjAsCiAgInJhZGl1cyI6IDUsCiAgInN0cm9rZSI6IHRydWUsCiAgIndlaWdodCI6IDMKfQogICAgICAgICAgICAgICAgKS5hZGRUbyhtYXBfYjRhNGFhMGMyYjhiNGRlNWE4M2NiMWYyZThhNTUwN2UpOwogICAgICAgICAgICAKICAgIAogICAgICAgICAgICB2YXIgcG9wdXBfNzM2ODc1NDljMTE2NDZiZWIxMTU0ZGM2YWY4MzZjNTggPSBMLnBvcHVwKHttYXhXaWR0aDogJzMwMCd9KTsKCiAgICAgICAgICAgIAogICAgICAgICAgICAgICAgdmFyIGh0bWxfZDM5NzczZmFhMGE4NDE3ZGFjZDVlMWIzZmIxMGU0NzkgPSAkKCc8ZGl2IGlkPSJodG1sX2QzOTc3M2ZhYTBhODQxN2RhY2Q1ZTFiM2ZiMTBlNDc5IiBzdHlsZT0id2lkdGg6IDEwMC4wJTsgaGVpZ2h0OiAxMDAuMCU7Ij5IaWdoIFBhcmssIFRoZSBKdW5jdGlvbiBTb3V0aCBDbHVzdGVyIDA8L2Rpdj4nKVswXTsKICAgICAgICAgICAgICAgIHBvcHVwXzczNjg3NTQ5YzExNjQ2YmViMTE1NGRjNmFmODM2YzU4LnNldENvbnRlbnQoaHRtbF9kMzk3NzNmYWEwYTg0MTdkYWNkNWUxYjNmYjEwZTQ3OSk7CiAgICAgICAgICAgIAoKICAgICAgICAgICAgY2lyY2xlX21hcmtlcl85ZmIwNGY5MGNmMDI0MjQ4YjU4MjIyNzhkODExMGJkYy5iaW5kUG9wdXAocG9wdXBfNzM2ODc1NDljMTE2NDZiZWIxMTU0ZGM2YWY4MzZjNTgpOwoKICAgICAgICAgICAgCiAgICAgICAgCiAgICAKICAgICAgICAgICAgdmFyIGNpcmNsZV9tYXJrZXJfNDAwOTkwZGE5ZWQ3NDRhY2EyMWFlODQwYWYzYjQzNzIgPSBMLmNpcmNsZU1hcmtlcigKICAgICAgICAgICAgICAgIFs0My43MTUzODM0LC03OS40MDU2Nzg0MDAwMDAwMV0sCiAgICAgICAgICAgICAgICB7CiAgImJ1YmJsaW5nTW91c2VFdmVudHMiOiB0cnVlLAogICJjb2xvciI6ICJibGFjayIsCiAgImRhc2hBcnJheSI6IG51bGwsCiAgImRhc2hPZmZzZXQiOiBudWxsLAogICJmaWxsIjogZmFsc2UsCiAgImZpbGxDb2xvciI6ICJibGFjayIsCiAgImZpbGxPcGFjaXR5IjogMC4yLAogICJmaWxsUnVsZSI6ICJldmVub2RkIiwKICAibGluZUNhcCI6ICJyb3VuZCIsCiAgImxpbmVKb2luIjogInJvdW5kIiwKICAib3BhY2l0eSI6IDEuMCwKICAicmFkaXVzIjogNSwKICAic3Ryb2tlIjogdHJ1ZSwKICAid2VpZ2h0IjogMwp9CiAgICAgICAgICAgICAgICApLmFkZFRvKG1hcF9iNGE0YWEwYzJiOGI0ZGU1YTgzY2IxZjJlOGE1NTA3ZSk7CiAgICAgICAgICAgIAogICAgCiAgICAgICAgICAgIHZhciBwb3B1cF82MmY4NjQ2YTRiMjI0YjQ1OGZmODIxYjFlOGVkOGYwZCA9IEwucG9wdXAoe21heFdpZHRoOiAnMzAwJ30pOwoKICAgICAgICAgICAgCiAgICAgICAgICAgICAgICB2YXIgaHRtbF9mYjRjZjJmMzNmZDI0NTM2OGY1Yjc5YWZjMmYzYjI4NiA9ICQoJzxkaXYgaWQ9Imh0bWxfZmI0Y2YyZjMzZmQyNDUzNjhmNWI3OWFmYzJmM2IyODYiIHN0eWxlPSJ3aWR0aDogMTAwLjAlOyBoZWlnaHQ6IDEwMC4wJTsiPk5vcnRoIFRvcm9udG8gV2VzdCwgTGF3cmVuY2UgUGFyayBDbHVzdGVyIDA8L2Rpdj4nKVswXTsKICAgICAgICAgICAgICAgIHBvcHVwXzYyZjg2NDZhNGIyMjRiNDU4ZmY4MjFiMWU4ZWQ4ZjBkLnNldENvbnRlbnQoaHRtbF9mYjRjZjJmMzNmZDI0NTM2OGY1Yjc5YWZjMmYzYjI4Nik7CiAgICAgICAgICAgIAoKICAgICAgICAgICAgY2lyY2xlX21hcmtlcl80MDA5OTBkYTllZDc0NGFjYTIxYWU4NDBhZjNiNDM3Mi5iaW5kUG9wdXAocG9wdXBfNjJmODY0NmE0YjIyNGI0NThmZjgyMWIxZThlZDhmMGQpOwoKICAgICAgICAgICAgCiAgICAgICAgCiAgICAKICAgICAgICAgICAgdmFyIGNpcmNsZV9tYXJrZXJfMDg1YWI3Mjk1YTg1NDhhYjliMTc0Mjg2OGJiMDM3OGUgPSBMLmNpcmNsZU1hcmtlcigKICAgICAgICAgICAgICAgIFs0My42NzI3MDk3LC03OS40MDU2Nzg0MDAwMDAwMV0sCiAgICAgICAgICAgICAgICB7CiAgImJ1YmJsaW5nTW91c2VFdmVudHMiOiB0cnVlLAogICJjb2xvciI6ICJibGFjayIsCiAgImRhc2hBcnJheSI6IG51bGwsCiAgImRhc2hPZmZzZXQiOiBudWxsLAogICJmaWxsIjogZmFsc2UsCiAgImZpbGxDb2xvciI6ICJibGFjayIsCiAgImZpbGxPcGFjaXR5IjogMC4yLAogICJmaWxsUnVsZSI6ICJldmVub2RkIiwKICAibGluZUNhcCI6ICJyb3VuZCIsCiAgImxpbmVKb2luIjogInJvdW5kIiwKICAib3BhY2l0eSI6IDEuMCwKICAicmFkaXVzIjogNSwKICAic3Ryb2tlIjogdHJ1ZSwKICAid2VpZ2h0IjogMwp9CiAgICAgICAgICAgICAgICApLmFkZFRvKG1hcF9iNGE0YWEwYzJiOGI0ZGU1YTgzY2IxZjJlOGE1NTA3ZSk7CiAgICAgICAgICAgIAogICAgCiAgICAgICAgICAgIHZhciBwb3B1cF8wZDhjYmY3N2E3NGI0ZTRkYTE2ZDIwZTliN2ZjMGY2NiA9IEwucG9wdXAoe21heFdpZHRoOiAnMzAwJ30pOwoKICAgICAgICAgICAgCiAgICAgICAgICAgICAgICB2YXIgaHRtbF9iODgxNDBiMzMyODg0ZmQ2YTI0MTAyZDM1MDc4ZjY3OSA9ICQoJzxkaXYgaWQ9Imh0bWxfYjg4MTQwYjMzMjg4NGZkNmEyNDEwMmQzNTA3OGY2NzkiIHN0eWxlPSJ3aWR0aDogMTAwLjAlOyBoZWlnaHQ6IDEwMC4wJTsiPlRoZSBBbm5leCwgTm9ydGggTWlkdG93biwgWW9ya3ZpbGxlIENsdXN0ZXIgMDwvZGl2PicpWzBdOwogICAgICAgICAgICAgICAgcG9wdXBfMGQ4Y2JmNzdhNzRiNGU0ZGExNmQyMGU5YjdmYzBmNjYuc2V0Q29udGVudChodG1sX2I4ODE0MGIzMzI4ODRmZDZhMjQxMDJkMzUwNzhmNjc5KTsKICAgICAgICAgICAgCgogICAgICAgICAgICBjaXJjbGVfbWFya2VyXzA4NWFiNzI5NWE4NTQ4YWI5YjE3NDI4NjhiYjAzNzhlLmJpbmRQb3B1cChwb3B1cF8wZDhjYmY3N2E3NGI0ZTRkYTE2ZDIwZTliN2ZjMGY2Nik7CgogICAgICAgICAgICAKICAgICAgICAKICAgIAogICAgICAgICAgICB2YXIgY2lyY2xlX21hcmtlcl82MDQ3MzYxMWYwZGY0ZWQ5YmFhOGRlMDg2MDg5ZjBjNyA9IEwuY2lyY2xlTWFya2VyKAogICAgICAgICAgICAgICAgWzQzLjY0ODk1OTcsLTc5LjQ1NjMyNV0sCiAgICAgICAgICAgICAgICB7CiAgImJ1YmJsaW5nTW91c2VFdmVudHMiOiB0cnVlLAogICJjb2xvciI6ICJibGFjayIsCiAgImRhc2hBcnJheSI6IG51bGwsCiAgImRhc2hPZmZzZXQiOiBudWxsLAogICJmaWxsIjogZmFsc2UsCiAgImZpbGxDb2xvciI6ICJibGFjayIsCiAgImZpbGxPcGFjaXR5IjogMC4yLAogICJmaWxsUnVsZSI6ICJldmVub2RkIiwKICAibGluZUNhcCI6ICJyb3VuZCIsCiAgImxpbmVKb2luIjogInJvdW5kIiwKICAib3BhY2l0eSI6IDEuMCwKICAicmFkaXVzIjogNSwKICAic3Ryb2tlIjogdHJ1ZSwKICAid2VpZ2h0IjogMwp9CiAgICAgICAgICAgICAgICApLmFkZFRvKG1hcF9iNGE0YWEwYzJiOGI0ZGU1YTgzY2IxZjJlOGE1NTA3ZSk7CiAgICAgICAgICAgIAogICAgCiAgICAgICAgICAgIHZhciBwb3B1cF82MWFkMWJhNjQ2ZDY0MWVkYWQxMmU2M2ZjZTM3NWVmMiA9IEwucG9wdXAoe21heFdpZHRoOiAnMzAwJ30pOwoKICAgICAgICAgICAgCiAgICAgICAgICAgICAgICB2YXIgaHRtbF9kNTJjOGZhOWJlYWQ0NzMzODVmNGE3ODI1ZjhlMWEzMiA9ICQoJzxkaXYgaWQ9Imh0bWxfZDUyYzhmYTliZWFkNDczMzg1ZjRhNzgyNWY4ZTFhMzIiIHN0eWxlPSJ3aWR0aDogMTAwLjAlOyBoZWlnaHQ6IDEwMC4wJTsiPlBhcmtkYWxlLCBSb25jZXN2YWxsZXMgQ2x1c3RlciAwPC9kaXY+JylbMF07CiAgICAgICAgICAgICAgICBwb3B1cF82MWFkMWJhNjQ2ZDY0MWVkYWQxMmU2M2ZjZTM3NWVmMi5zZXRDb250ZW50KGh0bWxfZDUyYzhmYTliZWFkNDczMzg1ZjRhNzgyNWY4ZTFhMzIpOwogICAgICAgICAgICAKCiAgICAgICAgICAgIGNpcmNsZV9tYXJrZXJfNjA0NzM2MTFmMGRmNGVkOWJhYThkZTA4NjA4OWYwYzcuYmluZFBvcHVwKHBvcHVwXzYxYWQxYmE2NDZkNjQxZWRhZDEyZTYzZmNlMzc1ZWYyKTsKCiAgICAgICAgICAgIAogICAgICAgIAogICAgCiAgICAgICAgICAgIHZhciBjaXJjbGVfbWFya2VyXzAyYjI4NDZkYjJmNDRiYzk5NWE5MjM1ZTZlMGI0ZmQyID0gTC5jaXJjbGVNYXJrZXIoCiAgICAgICAgICAgICAgICBbNDMuNzA0MzI0NCwtNzkuMzg4NzkwMV0sCiAgICAgICAgICAgICAgICB7CiAgImJ1YmJsaW5nTW91c2VFdmVudHMiOiB0cnVlLAogICJjb2xvciI6ICJibGFjayIsCiAgImRhc2hBcnJheSI6IG51bGwsCiAgImRhc2hPZmZzZXQiOiBudWxsLAogICJmaWxsIjogZmFsc2UsCiAgImZpbGxDb2xvciI6ICJibGFjayIsCiAgImZpbGxPcGFjaXR5IjogMC4yLAogICJmaWxsUnVsZSI6ICJldmVub2RkIiwKICAibGluZUNhcCI6ICJyb3VuZCIsCiAgImxpbmVKb2luIjogInJvdW5kIiwKICAib3BhY2l0eSI6IDEuMCwKICAicmFkaXVzIjogNSwKICAic3Ryb2tlIjogdHJ1ZSwKICAid2VpZ2h0IjogMwp9CiAgICAgICAgICAgICAgICApLmFkZFRvKG1hcF9iNGE0YWEwYzJiOGI0ZGU1YTgzY2IxZjJlOGE1NTA3ZSk7CiAgICAgICAgICAgIAogICAgCiAgICAgICAgICAgIHZhciBwb3B1cF9hODlkZDUzYjhjMTg0ZmJmODkzODM5MGJkMTYxYjY2ZCA9IEwucG9wdXAoe21heFdpZHRoOiAnMzAwJ30pOwoKICAgICAgICAgICAgCiAgICAgICAgICAgICAgICB2YXIgaHRtbF80MzNhYjViMGNlYWU0MzRjYmNmOGM2NTE0NzkzNDJmOSA9ICQoJzxkaXYgaWQ9Imh0bWxfNDMzYWI1YjBjZWFlNDM0Y2JjZjhjNjUxNDc5MzQyZjkiIHN0eWxlPSJ3aWR0aDogMTAwLjAlOyBoZWlnaHQ6IDEwMC4wJTsiPkRhdmlzdmlsbGUgQ2x1c3RlciAwPC9kaXY+JylbMF07CiAgICAgICAgICAgICAgICBwb3B1cF9hODlkZDUzYjhjMTg0ZmJmODkzODM5MGJkMTYxYjY2ZC5zZXRDb250ZW50KGh0bWxfNDMzYWI1YjBjZWFlNDM0Y2JjZjhjNjUxNDc5MzQyZjkpOwogICAgICAgICAgICAKCiAgICAgICAgICAgIGNpcmNsZV9tYXJrZXJfMDJiMjg0NmRiMmY0NGJjOTk1YTkyMzVlNmUwYjRmZDIuYmluZFBvcHVwKHBvcHVwX2E4OWRkNTNiOGMxODRmYmY4OTM4MzkwYmQxNjFiNjZkKTsKCiAgICAgICAgICAgIAogICAgICAgIAogICAgCiAgICAgICAgICAgIHZhciBjaXJjbGVfbWFya2VyXzU0ZjEzMzQ3NmU5YjQ1MzM4MjkwNzRmZmIzY2IxMGMzID0gTC5jaXJjbGVNYXJrZXIoCiAgICAgICAgICAgICAgICBbNDMuNjYyNjk1NiwtNzkuNDAwMDQ5M10sCiAgICAgICAgICAgICAgICB7CiAgImJ1YmJsaW5nTW91c2VFdmVudHMiOiB0cnVlLAogICJjb2xvciI6ICJyZWQiLAogICJkYXNoQXJyYXkiOiBudWxsLAogICJkYXNoT2Zmc2V0IjogbnVsbCwKICAiZmlsbCI6IGZhbHNlLAogICJmaWxsQ29sb3IiOiAicmVkIiwKICAiZmlsbE9wYWNpdHkiOiAwLjIsCiAgImZpbGxSdWxlIjogImV2ZW5vZGQiLAogICJsaW5lQ2FwIjogInJvdW5kIiwKICAibGluZUpvaW4iOiAicm91bmQiLAogICJvcGFjaXR5IjogMS4wLAogICJyYWRpdXMiOiA1LAogICJzdHJva2UiOiB0cnVlLAogICJ3ZWlnaHQiOiAzCn0KICAgICAgICAgICAgICAgICkuYWRkVG8obWFwX2I0YTRhYTBjMmI4YjRkZTVhODNjYjFmMmU4YTU1MDdlKTsKICAgICAgICAgICAgCiAgICAKICAgICAgICAgICAgdmFyIHBvcHVwX2QzNDlmODE2ZTg3NzQ0NTg5Y2QzMTQ3NGZjZGZjNWYyID0gTC5wb3B1cCh7bWF4V2lkdGg6ICczMDAnfSk7CgogICAgICAgICAgICAKICAgICAgICAgICAgICAgIHZhciBodG1sXzMxZjE2YjExNTQ3MDQzZGQ4M2MxNWQ0NjIxMzc0ZjBmID0gJCgnPGRpdiBpZD0iaHRtbF8zMWYxNmIxMTU0NzA0M2RkODNjMTVkNDYyMTM3NGYwZiIgc3R5bGU9IndpZHRoOiAxMDAuMCU7IGhlaWdodDogMTAwLjAlOyI+VW5pdmVyc2l0eSBvZiBUb3JvbnRvLCBIYXJib3JkIENsdXN0ZXIgMTwvZGl2PicpWzBdOwogICAgICAgICAgICAgICAgcG9wdXBfZDM0OWY4MTZlODc3NDQ1ODljZDMxNDc0ZmNkZmM1ZjIuc2V0Q29udGVudChodG1sXzMxZjE2YjExNTQ3MDQzZGQ4M2MxNWQ0NjIxMzc0ZjBmKTsKICAgICAgICAgICAgCgogICAgICAgICAgICBjaXJjbGVfbWFya2VyXzU0ZjEzMzQ3NmU5YjQ1MzM4MjkwNzRmZmIzY2IxMGMzLmJpbmRQb3B1cChwb3B1cF9kMzQ5ZjgxNmU4Nzc0NDU4OWNkMzE0NzRmY2RmYzVmMik7CgogICAgICAgICAgICAKICAgICAgICAKICAgIAogICAgICAgICAgICB2YXIgY2lyY2xlX21hcmtlcl82YTg3NDI0ZDQwYmU0ZWRiYmRjOTQ4ZjhkNjM4MzNkMiA9IEwuY2lyY2xlTWFya2VyKAogICAgICAgICAgICAgICAgWzQzLjY1MTU3MDYsLTc5LjQ4NDQ0OTldLAogICAgICAgICAgICAgICAgewogICJidWJibGluZ01vdXNlRXZlbnRzIjogdHJ1ZSwKICAiY29sb3IiOiAicmVkIiwKICAiZGFzaEFycmF5IjogbnVsbCwKICAiZGFzaE9mZnNldCI6IG51bGwsCiAgImZpbGwiOiBmYWxzZSwKICAiZmlsbENvbG9yIjogInJlZCIsCiAgImZpbGxPcGFjaXR5IjogMC4yLAogICJmaWxsUnVsZSI6ICJldmVub2RkIiwKICAibGluZUNhcCI6ICJyb3VuZCIsCiAgImxpbmVKb2luIjogInJvdW5kIiwKICAib3BhY2l0eSI6IDEuMCwKICAicmFkaXVzIjogNSwKICAic3Ryb2tlIjogdHJ1ZSwKICAid2VpZ2h0IjogMwp9CiAgICAgICAgICAgICAgICApLmFkZFRvKG1hcF9iNGE0YWEwYzJiOGI0ZGU1YTgzY2IxZjJlOGE1NTA3ZSk7CiAgICAgICAgICAgIAogICAgCiAgICAgICAgICAgIHZhciBwb3B1cF85ODYzN2EzODdlNTY0Yjg1OTNlYTY0MGE2ZTFmZDgyZSA9IEwucG9wdXAoe21heFdpZHRoOiAnMzAwJ30pOwoKICAgICAgICAgICAgCiAgICAgICAgICAgICAgICB2YXIgaHRtbF84MzM0NzIwNDI2MTM0YmM1YmIyMWI3OWMzNTg1ZWY3ZSA9ICQoJzxkaXYgaWQ9Imh0bWxfODMzNDcyMDQyNjEzNGJjNWJiMjFiNzljMzU4NWVmN2UiIHN0eWxlPSJ3aWR0aDogMTAwLjAlOyBoZWlnaHQ6IDEwMC4wJTsiPlJ1bm55bWVkZSwgU3dhbnNlYSBDbHVzdGVyIDE8L2Rpdj4nKVswXTsKICAgICAgICAgICAgICAgIHBvcHVwXzk4NjM3YTM4N2U1NjRiODU5M2VhNjQwYTZlMWZkODJlLnNldENvbnRlbnQoaHRtbF84MzM0NzIwNDI2MTM0YmM1YmIyMWI3OWMzNTg1ZWY3ZSk7CiAgICAgICAgICAgIAoKICAgICAgICAgICAgY2lyY2xlX21hcmtlcl82YTg3NDI0ZDQwYmU0ZWRiYmRjOTQ4ZjhkNjM4MzNkMi5iaW5kUG9wdXAocG9wdXBfOTg2MzdhMzg3ZTU2NGI4NTkzZWE2NDBhNmUxZmQ4MmUpOwoKICAgICAgICAgICAgCiAgICAgICAgCiAgICAKICAgICAgICAgICAgdmFyIGNpcmNsZV9tYXJrZXJfMTNhNmI5YjBiMzQ4NGVjMDhhYWQ5MzNiODM5NjQyZjIgPSBMLmNpcmNsZU1hcmtlcigKICAgICAgICAgICAgICAgIFs0My42ODk1NzQzLC03OS4zODMxNTk5MDAwMDAwMV0sCiAgICAgICAgICAgICAgICB7CiAgImJ1YmJsaW5nTW91c2VFdmVudHMiOiB0cnVlLAogICJjb2xvciI6ICJibGFjayIsCiAgImRhc2hBcnJheSI6IG51bGwsCiAgImRhc2hPZmZzZXQiOiBudWxsLAogICJmaWxsIjogZmFsc2UsCiAgImZpbGxDb2xvciI6ICJibGFjayIsCiAgImZpbGxPcGFjaXR5IjogMC4yLAogICJmaWxsUnVsZSI6ICJldmVub2RkIiwKICAibGluZUNhcCI6ICJyb3VuZCIsCiAgImxpbmVKb2luIjogInJvdW5kIiwKICAib3BhY2l0eSI6IDEuMCwKICAicmFkaXVzIjogNSwKICAic3Ryb2tlIjogdHJ1ZSwKICAid2VpZ2h0IjogMwp9CiAgICAgICAgICAgICAgICApLmFkZFRvKG1hcF9iNGE0YWEwYzJiOGI0ZGU1YTgzY2IxZjJlOGE1NTA3ZSk7CiAgICAgICAgICAgIAogICAgCiAgICAgICAgICAgIHZhciBwb3B1cF9lMzM0NmMwOGI2MDM0M2Q1OWM5NTk0N2U5OWE4NTdiNyA9IEwucG9wdXAoe21heFdpZHRoOiAnMzAwJ30pOwoKICAgICAgICAgICAgCiAgICAgICAgICAgICAgICB2YXIgaHRtbF9kY2YyNjJmYjE4ZDk0NzEzYjEzOTI4OWRhZmU1NGRiNyA9ICQoJzxkaXYgaWQ9Imh0bWxfZGNmMjYyZmIxOGQ5NDcxM2IxMzkyODlkYWZlNTRkYjciIHN0eWxlPSJ3aWR0aDogMTAwLjAlOyBoZWlnaHQ6IDEwMC4wJTsiPk1vb3JlIFBhcmssIFN1bW1lcmhpbGwgRWFzdCBDbHVzdGVyIDA8L2Rpdj4nKVswXTsKICAgICAgICAgICAgICAgIHBvcHVwX2UzMzQ2YzA4YjYwMzQzZDU5Yzk1OTQ3ZTk5YTg1N2I3LnNldENvbnRlbnQoaHRtbF9kY2YyNjJmYjE4ZDk0NzEzYjEzOTI4OWRhZmU1NGRiNyk7CiAgICAgICAgICAgIAoKICAgICAgICAgICAgY2lyY2xlX21hcmtlcl8xM2E2YjliMGIzNDg0ZWMwOGFhZDkzM2I4Mzk2NDJmMi5iaW5kUG9wdXAocG9wdXBfZTMzNDZjMDhiNjAzNDNkNTljOTU5NDdlOTlhODU3YjcpOwoKICAgICAgICAgICAgCiAgICAgICAgCiAgICAKICAgICAgICAgICAgdmFyIGNpcmNsZV9tYXJrZXJfZmUzYzNlMDhhNzIwNDI5M2JlNzU1OWFjOTczZWVkNmMgPSBMLmNpcmNsZU1hcmtlcigKICAgICAgICAgICAgICAgIFs0My42NTMyMDU3LC03OS40MDAwNDkzXSwKICAgICAgICAgICAgICAgIHsKICAiYnViYmxpbmdNb3VzZUV2ZW50cyI6IHRydWUsCiAgImNvbG9yIjogInJlZCIsCiAgImRhc2hBcnJheSI6IG51bGwsCiAgImRhc2hPZmZzZXQiOiBudWxsLAogICJmaWxsIjogZmFsc2UsCiAgImZpbGxDb2xvciI6ICJyZWQiLAogICJmaWxsT3BhY2l0eSI6IDAuMiwKICAiZmlsbFJ1bGUiOiAiZXZlbm9kZCIsCiAgImxpbmVDYXAiOiAicm91bmQiLAogICJsaW5lSm9pbiI6ICJyb3VuZCIsCiAgIm9wYWNpdHkiOiAxLjAsCiAgInJhZGl1cyI6IDUsCiAgInN0cm9rZSI6IHRydWUsCiAgIndlaWdodCI6IDMKfQogICAgICAgICAgICAgICAgKS5hZGRUbyhtYXBfYjRhNGFhMGMyYjhiNGRlNWE4M2NiMWYyZThhNTUwN2UpOwogICAgICAgICAgICAKICAgIAogICAgICAgICAgICB2YXIgcG9wdXBfNzI1NDNiYmU4NjNiNDZmN2FiNDZiZTVmMWEyNjlhZTggPSBMLnBvcHVwKHttYXhXaWR0aDogJzMwMCd9KTsKCiAgICAgICAgICAgIAogICAgICAgICAgICAgICAgdmFyIGh0bWxfOGVkODBlMzA4ZjI1NGJkMzkxOGQwNWNlMDBkODExM2QgPSAkKCc8ZGl2IGlkPSJodG1sXzhlZDgwZTMwOGYyNTRiZDM5MThkMDVjZTAwZDgxMTNkIiBzdHlsZT0id2lkdGg6IDEwMC4wJTsgaGVpZ2h0OiAxMDAuMCU7Ij5LZW5zaW5ndG9uIE1hcmtldCwgQ2hpbmF0b3duLCBHcmFuZ2UgUGFyayBDbHVzdGVyIDE8L2Rpdj4nKVswXTsKICAgICAgICAgICAgICAgIHBvcHVwXzcyNTQzYmJlODYzYjQ2ZjdhYjQ2YmU1ZjFhMjY5YWU4LnNldENvbnRlbnQoaHRtbF84ZWQ4MGUzMDhmMjU0YmQzOTE4ZDA1Y2UwMGQ4MTEzZCk7CiAgICAgICAgICAgIAoKICAgICAgICAgICAgY2lyY2xlX21hcmtlcl9mZTNjM2UwOGE3MjA0MjkzYmU3NTU5YWM5NzNlZWQ2Yy5iaW5kUG9wdXAocG9wdXBfNzI1NDNiYmU4NjNiNDZmN2FiNDZiZTVmMWEyNjlhZTgpOwoKICAgICAgICAgICAgCiAgICAgICAgCiAgICAKICAgICAgICAgICAgdmFyIGNpcmNsZV9tYXJrZXJfMDUyOWIwNjJlOWU1NDYxM2EwYTgxN2VjNWExMmQzMmIgPSBMLmNpcmNsZU1hcmtlcigKICAgICAgICAgICAgICAgIFs0My42ODY0MTIyOTk5OTk5OSwtNzkuNDAwMDQ5M10sCiAgICAgICAgICAgICAgICB7CiAgImJ1YmJsaW5nTW91c2VFdmVudHMiOiB0cnVlLAogICJjb2xvciI6ICJncmVlbiIsCiAgImRhc2hBcnJheSI6IG51bGwsCiAgImRhc2hPZmZzZXQiOiBudWxsLAogICJmaWxsIjogZmFsc2UsCiAgImZpbGxDb2xvciI6ICJncmVlbiIsCiAgImZpbGxPcGFjaXR5IjogMC4yLAogICJmaWxsUnVsZSI6ICJldmVub2RkIiwKICAibGluZUNhcCI6ICJyb3VuZCIsCiAgImxpbmVKb2luIjogInJvdW5kIiwKICAib3BhY2l0eSI6IDEuMCwKICAicmFkaXVzIjogNSwKICAic3Ryb2tlIjogdHJ1ZSwKICAid2VpZ2h0IjogMwp9CiAgICAgICAgICAgICAgICApLmFkZFRvKG1hcF9iNGE0YWEwYzJiOGI0ZGU1YTgzY2IxZjJlOGE1NTA3ZSk7CiAgICAgICAgICAgIAogICAgCiAgICAgICAgICAgIHZhciBwb3B1cF9hOGFkOTQ0YTE5MzA0ZGIyYmM2YzFlOTEwMDI5YjUyYSA9IEwucG9wdXAoe21heFdpZHRoOiAnMzAwJ30pOwoKICAgICAgICAgICAgCiAgICAgICAgICAgICAgICB2YXIgaHRtbF9kMDBmNDc0NGIwZWU0ODIyODRhZGVmYzkyZjc3MTE2OSA9ICQoJzxkaXYgaWQ9Imh0bWxfZDAwZjQ3NDRiMGVlNDgyMjg0YWRlZmM5MmY3NzExNjkiIHN0eWxlPSJ3aWR0aDogMTAwLjAlOyBoZWlnaHQ6IDEwMC4wJTsiPlN1bW1lcmhpbGwgV2VzdCwgUmF0aG5lbGx5LCBTb3V0aCBIaWxsLCBGb3Jlc3QgSGlsbCBTRSwgRGVlciBQYXJrIENsdXN0ZXIgMjwvZGl2PicpWzBdOwogICAgICAgICAgICAgICAgcG9wdXBfYThhZDk0NGExOTMwNGRiMmJjNmMxZTkxMDAyOWI1MmEuc2V0Q29udGVudChodG1sX2QwMGY0NzQ0YjBlZTQ4MjI4NGFkZWZjOTJmNzcxMTY5KTsKICAgICAgICAgICAgCgogICAgICAgICAgICBjaXJjbGVfbWFya2VyXzA1MjliMDYyZTllNTQ2MTNhMGE4MTdlYzVhMTJkMzJiLmJpbmRQb3B1cChwb3B1cF9hOGFkOTQ0YTE5MzA0ZGIyYmM2YzFlOTEwMDI5YjUyYSk7CgogICAgICAgICAgICAKICAgICAgICAKICAgIAogICAgICAgICAgICB2YXIgY2lyY2xlX21hcmtlcl8xZDQyMTI0NDAwOGQ0NjdhOWYwYjQ5NTc5NGRmYTE5MSA9IEwuY2lyY2xlTWFya2VyKAogICAgICAgICAgICAgICAgWzQzLjYyODk0NjcsLTc5LjM5NDQxOTldLAogICAgICAgICAgICAgICAgewogICJidWJibGluZ01vdXNlRXZlbnRzIjogdHJ1ZSwKICAiY29sb3IiOiAiYmxhY2siLAogICJkYXNoQXJyYXkiOiBudWxsLAogICJkYXNoT2Zmc2V0IjogbnVsbCwKICAiZmlsbCI6IGZhbHNlLAogICJmaWxsQ29sb3IiOiAiYmxhY2siLAogICJmaWxsT3BhY2l0eSI6IDAuMiwKICAiZmlsbFJ1bGUiOiAiZXZlbm9kZCIsCiAgImxpbmVDYXAiOiAicm91bmQiLAogICJsaW5lSm9pbiI6ICJyb3VuZCIsCiAgIm9wYWNpdHkiOiAxLjAsCiAgInJhZGl1cyI6IDUsCiAgInN0cm9rZSI6IHRydWUsCiAgIndlaWdodCI6IDMKfQogICAgICAgICAgICAgICAgKS5hZGRUbyhtYXBfYjRhNGFhMGMyYjhiNGRlNWE4M2NiMWYyZThhNTUwN2UpOwogICAgICAgICAgICAKICAgIAogICAgICAgICAgICB2YXIgcG9wdXBfMmQxOTUyOTg0OTAxNDllNWI2ZWYxZDY4ZTdlZDg1ZmMgPSBMLnBvcHVwKHttYXhXaWR0aDogJzMwMCd9KTsKCiAgICAgICAgICAgIAogICAgICAgICAgICAgICAgdmFyIGh0bWxfMTRlMWEzZTUzZGE1NDgwZThhMTc5OWUwNjEyOTY0MzUgPSAkKCc8ZGl2IGlkPSJodG1sXzE0ZTFhM2U1M2RhNTQ4MGU4YTE3OTllMDYxMjk2NDM1IiBzdHlsZT0id2lkdGg6IDEwMC4wJTsgaGVpZ2h0OiAxMDAuMCU7Ij5DTiBUb3dlciwgS2luZyBhbmQgU3BhZGluYSwgUmFpbHdheSBMYW5kcywgSGFyYm91cmZyb250IFdlc3QsIEJhdGh1cnN0IFF1YXksIFNvdXRoIE5pYWdhcmEsIElzbGFuZCBhaXJwb3J0IENsdXN0ZXIgMDwvZGl2PicpWzBdOwogICAgICAgICAgICAgICAgcG9wdXBfMmQxOTUyOTg0OTAxNDllNWI2ZWYxZDY4ZTdlZDg1ZmMuc2V0Q29udGVudChodG1sXzE0ZTFhM2U1M2RhNTQ4MGU4YTE3OTllMDYxMjk2NDM1KTsKICAgICAgICAgICAgCgogICAgICAgICAgICBjaXJjbGVfbWFya2VyXzFkNDIxMjQ0MDA4ZDQ2N2E5ZjBiNDk1Nzk0ZGZhMTkxLmJpbmRQb3B1cChwb3B1cF8yZDE5NTI5ODQ5MDE0OWU1YjZlZjFkNjhlN2VkODVmYyk7CgogICAgICAgICAgICAKICAgICAgICAKICAgIAogICAgICAgICAgICB2YXIgY2lyY2xlX21hcmtlcl9kOTEzNjk1YTA5Yzg0N2QzODFiZDgwYmViNDQwYzJkZiA9IEwuY2lyY2xlTWFya2VyKAogICAgICAgICAgICAgICAgWzQzLjY3OTU2MjYsLTc5LjM3NzUyOTQwMDAwMDAxXSwKICAgICAgICAgICAgICAgIHsKICAiYnViYmxpbmdNb3VzZUV2ZW50cyI6IHRydWUsCiAgImNvbG9yIjogImJsdWUiLAogICJkYXNoQXJyYXkiOiBudWxsLAogICJkYXNoT2Zmc2V0IjogbnVsbCwKICAiZmlsbCI6IGZhbHNlLAogICJmaWxsQ29sb3IiOiAiYmx1ZSIsCiAgImZpbGxPcGFjaXR5IjogMC4yLAogICJmaWxsUnVsZSI6ICJldmVub2RkIiwKICAibGluZUNhcCI6ICJyb3VuZCIsCiAgImxpbmVKb2luIjogInJvdW5kIiwKICAib3BhY2l0eSI6IDEuMCwKICAicmFkaXVzIjogNSwKICAic3Ryb2tlIjogdHJ1ZSwKICAid2VpZ2h0IjogMwp9CiAgICAgICAgICAgICAgICApLmFkZFRvKG1hcF9iNGE0YWEwYzJiOGI0ZGU1YTgzY2IxZjJlOGE1NTA3ZSk7CiAgICAgICAgICAgIAogICAgCiAgICAgICAgICAgIHZhciBwb3B1cF82ZjUyMDU1OTVlZDI0OGY3OWZlNmI1ZjUwYjFlOWU2OSA9IEwucG9wdXAoe21heFdpZHRoOiAnMzAwJ30pOwoKICAgICAgICAgICAgCiAgICAgICAgICAgICAgICB2YXIgaHRtbF8yNTk0YjQ4MTAwNzg0NzdmYjQ3Yjk0MGYxNTA4ODE2OCA9ICQoJzxkaXYgaWQ9Imh0bWxfMjU5NGI0ODEwMDc4NDc3ZmI0N2I5NDBmMTUwODgxNjgiIHN0eWxlPSJ3aWR0aDogMTAwLjAlOyBoZWlnaHQ6IDEwMC4wJTsiPlJvc2VkYWxlIENsdXN0ZXIgMzwvZGl2PicpWzBdOwogICAgICAgICAgICAgICAgcG9wdXBfNmY1MjA1NTk1ZWQyNDhmNzlmZTZiNWY1MGIxZTllNjkuc2V0Q29udGVudChodG1sXzI1OTRiNDgxMDA3ODQ3N2ZiNDdiOTQwZjE1MDg4MTY4KTsKICAgICAgICAgICAgCgogICAgICAgICAgICBjaXJjbGVfbWFya2VyX2Q5MTM2OTVhMDljODQ3ZDM4MWJkODBiZWI0NDBjMmRmLmJpbmRQb3B1cChwb3B1cF82ZjUyMDU1OTVlZDI0OGY3OWZlNmI1ZjUwYjFlOWU2OSk7CgogICAgICAgICAgICAKICAgICAgICAKICAgIAogICAgICAgICAgICB2YXIgY2lyY2xlX21hcmtlcl84NWNmNTE5NTZhMjc0ZmExOTgxNmU3ZDg1NWNjNmQ2YSA9IEwuY2lyY2xlTWFya2VyKAogICAgICAgICAgICAgICAgWzQzLjY0NjQzNTIsLTc5LjM3NDg0NTk5OTk5OTk5XSwKICAgICAgICAgICAgICAgIHsKICAiYnViYmxpbmdNb3VzZUV2ZW50cyI6IHRydWUsCiAgImNvbG9yIjogImdyZWVuIiwKICAiZGFzaEFycmF5IjogbnVsbCwKICAiZGFzaE9mZnNldCI6IG51bGwsCiAgImZpbGwiOiBmYWxzZSwKICAiZmlsbENvbG9yIjogImdyZWVuIiwKICAiZmlsbE9wYWNpdHkiOiAwLjIsCiAgImZpbGxSdWxlIjogImV2ZW5vZGQiLAogICJsaW5lQ2FwIjogInJvdW5kIiwKICAibGluZUpvaW4iOiAicm91bmQiLAogICJvcGFjaXR5IjogMS4wLAogICJyYWRpdXMiOiA1LAogICJzdHJva2UiOiB0cnVlLAogICJ3ZWlnaHQiOiAzCn0KICAgICAgICAgICAgICAgICkuYWRkVG8obWFwX2I0YTRhYTBjMmI4YjRkZTVhODNjYjFmMmU4YTU1MDdlKTsKICAgICAgICAgICAgCiAgICAKICAgICAgICAgICAgdmFyIHBvcHVwX2M3N2E2MjY0ZjRmZDQxZDM4ZDhiYjU4NDk4N2FmYzdkID0gTC5wb3B1cCh7bWF4V2lkdGg6ICczMDAnfSk7CgogICAgICAgICAgICAKICAgICAgICAgICAgICAgIHZhciBodG1sXzIzOWEyMGFlMDVmODRmZDZiZTE2YTI4NzM5YzUzOTYyID0gJCgnPGRpdiBpZD0iaHRtbF8yMzlhMjBhZTA1Zjg0ZmQ2YmUxNmEyODczOWM1Mzk2MiIgc3R5bGU9IndpZHRoOiAxMDAuMCU7IGhlaWdodDogMTAwLjAlOyI+U3RuIEEgUE8gQm94ZXMgQ2x1c3RlciAyPC9kaXY+JylbMF07CiAgICAgICAgICAgICAgICBwb3B1cF9jNzdhNjI2NGY0ZmQ0MWQzOGQ4YmI1ODQ5ODdhZmM3ZC5zZXRDb250ZW50KGh0bWxfMjM5YTIwYWUwNWY4NGZkNmJlMTZhMjg3MzljNTM5NjIpOwogICAgICAgICAgICAKCiAgICAgICAgICAgIGNpcmNsZV9tYXJrZXJfODVjZjUxOTU2YTI3NGZhMTk4MTZlN2Q4NTVjYzZkNmEuYmluZFBvcHVwKHBvcHVwX2M3N2E2MjY0ZjRmZDQxZDM4ZDhiYjU4NDk4N2FmYzdkKTsKCiAgICAgICAgICAgIAogICAgICAgIAogICAgCiAgICAgICAgICAgIHZhciBjaXJjbGVfbWFya2VyX2E3ZDUzODc0MTI4NTRmMzliYjNhOTRlODQxOGI0OWMzID0gTC5jaXJjbGVNYXJrZXIoCiAgICAgICAgICAgICAgICBbNDMuNjY3OTY3LC03OS4zNjc2NzUzXSwKICAgICAgICAgICAgICAgIHsKICAiYnViYmxpbmdNb3VzZUV2ZW50cyI6IHRydWUsCiAgImNvbG9yIjogImJsYWNrIiwKICAiZGFzaEFycmF5IjogbnVsbCwKICAiZGFzaE9mZnNldCI6IG51bGwsCiAgImZpbGwiOiBmYWxzZSwKICAiZmlsbENvbG9yIjogImJsYWNrIiwKICAiZmlsbE9wYWNpdHkiOiAwLjIsCiAgImZpbGxSdWxlIjogImV2ZW5vZGQiLAogICJsaW5lQ2FwIjogInJvdW5kIiwKICAibGluZUpvaW4iOiAicm91bmQiLAogICJvcGFjaXR5IjogMS4wLAogICJyYWRpdXMiOiA1LAogICJzdHJva2UiOiB0cnVlLAogICJ3ZWlnaHQiOiAzCn0KICAgICAgICAgICAgICAgICkuYWRkVG8obWFwX2I0YTRhYTBjMmI4YjRkZTVhODNjYjFmMmU4YTU1MDdlKTsKICAgICAgICAgICAgCiAgICAKICAgICAgICAgICAgdmFyIHBvcHVwX2RiOTI5NDU1NWE4YTRkYmU4NjkwYWFkMGE4NTUzM2RjID0gTC5wb3B1cCh7bWF4V2lkdGg6ICczMDAnfSk7CgogICAgICAgICAgICAKICAgICAgICAgICAgICAgIHZhciBodG1sXzhlNjc2ZmQzODljZTQ1YjI5YzVhZDM2MjlkZDk2YzlkID0gJCgnPGRpdiBpZD0iaHRtbF84ZTY3NmZkMzg5Y2U0NWIyOWM1YWQzNjI5ZGQ5NmM5ZCIgc3R5bGU9IndpZHRoOiAxMDAuMCU7IGhlaWdodDogMTAwLjAlOyI+U3QuIEphbWVzIFRvd24sIENhYmJhZ2V0b3duIENsdXN0ZXIgMDwvZGl2PicpWzBdOwogICAgICAgICAgICAgICAgcG9wdXBfZGI5Mjk0NTU1YThhNGRiZTg2OTBhYWQwYTg1NTMzZGMuc2V0Q29udGVudChodG1sXzhlNjc2ZmQzODljZTQ1YjI5YzVhZDM2MjlkZDk2YzlkKTsKICAgICAgICAgICAgCgogICAgICAgICAgICBjaXJjbGVfbWFya2VyX2E3ZDUzODc0MTI4NTRmMzliYjNhOTRlODQxOGI0OWMzLmJpbmRQb3B1cChwb3B1cF9kYjkyOTQ1NTVhOGE0ZGJlODY5MGFhZDBhODU1MzNkYyk7CgogICAgICAgICAgICAKICAgICAgICAKICAgIAogICAgICAgICAgICB2YXIgY2lyY2xlX21hcmtlcl81YTE4MzQ1NzIyNGI0YWY1YTUyMTdlMjgyYTA1Nzc4MSA9IEwuY2lyY2xlTWFya2VyKAogICAgICAgICAgICAgICAgWzQzLjY0ODQyOTIsLTc5LjM4MjI4MDJdLAogICAgICAgICAgICAgICAgewogICJidWJibGluZ01vdXNlRXZlbnRzIjogdHJ1ZSwKICAiY29sb3IiOiAiZ3JlZW4iLAogICJkYXNoQXJyYXkiOiBudWxsLAogICJkYXNoT2Zmc2V0IjogbnVsbCwKICAiZmlsbCI6IGZhbHNlLAogICJmaWxsQ29sb3IiOiAiZ3JlZW4iLAogICJmaWxsT3BhY2l0eSI6IDAuMiwKICAiZmlsbFJ1bGUiOiAiZXZlbm9kZCIsCiAgImxpbmVDYXAiOiAicm91bmQiLAogICJsaW5lSm9pbiI6ICJyb3VuZCIsCiAgIm9wYWNpdHkiOiAxLjAsCiAgInJhZGl1cyI6IDUsCiAgInN0cm9rZSI6IHRydWUsCiAgIndlaWdodCI6IDMKfQogICAgICAgICAgICAgICAgKS5hZGRUbyhtYXBfYjRhNGFhMGMyYjhiNGRlNWE4M2NiMWYyZThhNTUwN2UpOwogICAgICAgICAgICAKICAgIAogICAgICAgICAgICB2YXIgcG9wdXBfMjUyNjk1MjkzM2U1NDNjN2E4NGVlYjc1NGRkOWUwNWMgPSBMLnBvcHVwKHttYXhXaWR0aDogJzMwMCd9KTsKCiAgICAgICAgICAgIAogICAgICAgICAgICAgICAgdmFyIGh0bWxfNTgwNzdiZDY2NTRiNDAxODkzMjhlMTZkNTVmMjBjZTcgPSAkKCc8ZGl2IGlkPSJodG1sXzU4MDc3YmQ2NjU0YjQwMTg5MzI4ZTE2ZDU1ZjIwY2U3IiBzdHlsZT0id2lkdGg6IDEwMC4wJTsgaGVpZ2h0OiAxMDAuMCU7Ij5GaXJzdCBDYW5hZGlhbiBQbGFjZSwgVW5kZXJncm91bmQgY2l0eSBDbHVzdGVyIDI8L2Rpdj4nKVswXTsKICAgICAgICAgICAgICAgIHBvcHVwXzI1MjY5NTI5MzNlNTQzYzdhODRlZWI3NTRkZDllMDVjLnNldENvbnRlbnQoaHRtbF81ODA3N2JkNjY1NGI0MDE4OTMyOGUxNmQ1NWYyMGNlNyk7CiAgICAgICAgICAgIAoKICAgICAgICAgICAgY2lyY2xlX21hcmtlcl81YTE4MzQ1NzIyNGI0YWY1YTUyMTdlMjgyYTA1Nzc4MS5iaW5kUG9wdXAocG9wdXBfMjUyNjk1MjkzM2U1NDNjN2E4NGVlYjc1NGRkOWUwNWMpOwoKICAgICAgICAgICAgCiAgICAgICAgCiAgICAKICAgICAgICAgICAgdmFyIGNpcmNsZV9tYXJrZXJfNzk3ZGFkZmExYmFjNDI1Mjg5ZjM4ODg2ZTg3ODM1OGQgPSBMLmNpcmNsZU1hcmtlcigKICAgICAgICAgICAgICAgIFs0My42NjU4NTk5LC03OS4zODMxNTk5MDAwMDAwMV0sCiAgICAgICAgICAgICAgICB7CiAgImJ1YmJsaW5nTW91c2VFdmVudHMiOiB0cnVlLAogICJjb2xvciI6ICJncmVlbiIsCiAgImRhc2hBcnJheSI6IG51bGwsCiAgImRhc2hPZmZzZXQiOiBudWxsLAogICJmaWxsIjogZmFsc2UsCiAgImZpbGxDb2xvciI6ICJncmVlbiIsCiAgImZpbGxPcGFjaXR5IjogMC4yLAogICJmaWxsUnVsZSI6ICJldmVub2RkIiwKICAibGluZUNhcCI6ICJyb3VuZCIsCiAgImxpbmVKb2luIjogInJvdW5kIiwKICAib3BhY2l0eSI6IDEuMCwKICAicmFkaXVzIjogNSwKICAic3Ryb2tlIjogdHJ1ZSwKICAid2VpZ2h0IjogMwp9CiAgICAgICAgICAgICAgICApLmFkZFRvKG1hcF9iNGE0YWEwYzJiOGI0ZGU1YTgzY2IxZjJlOGE1NTA3ZSk7CiAgICAgICAgICAgIAogICAgCiAgICAgICAgICAgIHZhciBwb3B1cF9hOGE0YTNiMWJmMDU0NjJiODdjMGFkOTVmZTcxZjMyOSA9IEwucG9wdXAoe21heFdpZHRoOiAnMzAwJ30pOwoKICAgICAgICAgICAgCiAgICAgICAgICAgICAgICB2YXIgaHRtbF8yZGIyMzVjODdlODU0ZjE4YjU2OTM4Y2Y2Y2M2YzBhNSA9ICQoJzxkaXYgaWQ9Imh0bWxfMmRiMjM1Yzg3ZTg1NGYxOGI1NjkzOGNmNmNjNmMwYTUiIHN0eWxlPSJ3aWR0aDogMTAwLjAlOyBoZWlnaHQ6IDEwMC4wJTsiPkNodXJjaCBhbmQgV2VsbGVzbGV5IENsdXN0ZXIgMjwvZGl2PicpWzBdOwogICAgICAgICAgICAgICAgcG9wdXBfYThhNGEzYjFiZjA1NDYyYjg3YzBhZDk1ZmU3MWYzMjkuc2V0Q29udGVudChodG1sXzJkYjIzNWM4N2U4NTRmMThiNTY5MzhjZjZjYzZjMGE1KTsKICAgICAgICAgICAgCgogICAgICAgICAgICBjaXJjbGVfbWFya2VyXzc5N2RhZGZhMWJhYzQyNTI4OWYzODg4NmU4NzgzNThkLmJpbmRQb3B1cChwb3B1cF9hOGE0YTNiMWJmMDU0NjJiODdjMGFkOTVmZTcxZjMyOSk7CgogICAgICAgICAgICAKICAgICAgICAKICAgIAogICAgICAgICAgICB2YXIgY2lyY2xlX21hcmtlcl8yOGEzNjg3NDUwMGI0YjViOWQwNjViNzI5MTZmNzA3YiA9IEwuY2lyY2xlTWFya2VyKAogICAgICAgICAgICAgICAgWzQzLjY2Mjc0MzksLTc5LjMyMTU1OF0sCiAgICAgICAgICAgICAgICB7CiAgImJ1YmJsaW5nTW91c2VFdmVudHMiOiB0cnVlLAogICJjb2xvciI6ICJibGFjayIsCiAgImRhc2hBcnJheSI6IG51bGwsCiAgImRhc2hPZmZzZXQiOiBudWxsLAogICJmaWxsIjogZmFsc2UsCiAgImZpbGxDb2xvciI6ICJibGFjayIsCiAgImZpbGxPcGFjaXR5IjogMC4yLAogICJmaWxsUnVsZSI6ICJldmVub2RkIiwKICAibGluZUNhcCI6ICJyb3VuZCIsCiAgImxpbmVKb2luIjogInJvdW5kIiwKICAib3BhY2l0eSI6IDEuMCwKICAicmFkaXVzIjogNSwKICAic3Ryb2tlIjogdHJ1ZSwKICAid2VpZ2h0IjogMwp9CiAgICAgICAgICAgICAgICApLmFkZFRvKG1hcF9iNGE0YWEwYzJiOGI0ZGU1YTgzY2IxZjJlOGE1NTA3ZSk7CiAgICAgICAgICAgIAogICAgCiAgICAgICAgICAgIHZhciBwb3B1cF82MDc2N2JhMTk3MDg0ZWYyYmQxODU0N2ZjMDJkMzk4MyA9IEwucG9wdXAoe21heFdpZHRoOiAnMzAwJ30pOwoKICAgICAgICAgICAgCiAgICAgICAgICAgICAgICB2YXIgaHRtbF82ZGZiYTg0ODkyZTY0OGY2OWFjNjUzYjJmNjg2OTg2NiA9ICQoJzxkaXYgaWQ9Imh0bWxfNmRmYmE4NDg5MmU2NDhmNjlhYzY1M2IyZjY4Njk4NjYiIHN0eWxlPSJ3aWR0aDogMTAwLjAlOyBoZWlnaHQ6IDEwMC4wJTsiPkJ1c2luZXNzIHJlcGx5IG1haWwgUHJvY2Vzc2luZyBDZW50cmUsIFNvdXRoIENlbnRyYWwgTGV0dGVyIFByb2Nlc3NpbmcgUGxhbnQgVG9yb250byBDbHVzdGVyIDA8L2Rpdj4nKVswXTsKICAgICAgICAgICAgICAgIHBvcHVwXzYwNzY3YmExOTcwODRlZjJiZDE4NTQ3ZmMwMmQzOTgzLnNldENvbnRlbnQoaHRtbF82ZGZiYTg0ODkyZTY0OGY2OWFjNjUzYjJmNjg2OTg2Nik7CiAgICAgICAgICAgIAoKICAgICAgICAgICAgY2lyY2xlX21hcmtlcl8yOGEzNjg3NDUwMGI0YjViOWQwNjViNzI5MTZmNzA3Yi5iaW5kUG9wdXAocG9wdXBfNjA3NjdiYTE5NzA4NGVmMmJkMTg1NDdmYzAyZDM5ODMpOwoKICAgICAgICAgICAgCiAgICAgICAgCjwvc2NyaXB0Pg== onload=\"this.contentDocument.open();this.contentDocument.write(atob(this.getAttribute('data-html')));this.contentDocument.close();\" allowfullscreen webkitallowfullscreen mozallowfullscreen></iframe></div></div>"
                    },
                    "metadata": {}
                }
            ]
        }
    ],
    "metadata": {
        "kernelspec": {
            "name": "python3",
            "display_name": "Python 3.6",
            "language": "python"
        },
        "language_info": {
            "name": "python",
            "version": "3.6.9",
            "mimetype": "text/x-python",
            "codemirror_mode": {
                "name": "ipython",
                "version": 3
            },
            "pygments_lexer": "ipython3",
            "nbconvert_exporter": "python",
            "file_extension": ".py"
        }
>>>>>>> f6c2b5bd902682c0f957d257c46d59ac4ed21c33
    },
    {
     "data": {
      "text/html": [
       "<div>\n",
       "<style scoped>\n",
       "    .dataframe tbody tr th:only-of-type {\n",
       "        vertical-align: middle;\n",
       "    }\n",
       "\n",
       "    .dataframe tbody tr th {\n",
       "        vertical-align: top;\n",
       "    }\n",
       "\n",
       "    .dataframe thead th {\n",
       "        text-align: right;\n",
       "    }\n",
       "</style>\n",
       "<table border=\"1\" class=\"dataframe\">\n",
       "  <thead>\n",
       "    <tr style=\"text-align: right;\">\n",
       "      <th>1st Most Common Venue</th>\n",
       "      <th>Airport Service</th>\n",
       "      <th>Bakery</th>\n",
       "      <th>Bar</th>\n",
       "      <th>Café</th>\n",
       "      <th>Clothing Store</th>\n",
       "      <th>Coffee Shop</th>\n",
       "      <th>Gift Shop</th>\n",
       "      <th>Greek Restaurant</th>\n",
       "      <th>Grocery Store</th>\n",
       "      <th>Health Food Store</th>\n",
       "      <th>Home Service</th>\n",
       "      <th>Light Rail Station</th>\n",
       "      <th>Mexican Restaurant</th>\n",
       "      <th>Park</th>\n",
       "      <th>Pharmacy</th>\n",
       "      <th>Restaurant</th>\n",
       "      <th>Sandwich Place</th>\n",
       "    </tr>\n",
       "    <tr>\n",
       "      <th>Neighborhood</th>\n",
       "      <th></th>\n",
       "      <th></th>\n",
       "      <th></th>\n",
       "      <th></th>\n",
       "      <th></th>\n",
       "      <th></th>\n",
       "      <th></th>\n",
       "      <th></th>\n",
       "      <th></th>\n",
       "      <th></th>\n",
       "      <th></th>\n",
       "      <th></th>\n",
       "      <th></th>\n",
       "      <th></th>\n",
       "      <th></th>\n",
       "      <th></th>\n",
       "      <th></th>\n",
       "    </tr>\n",
       "  </thead>\n",
       "  <tbody>\n",
       "    <tr>\n",
       "      <th>Berczy Park</th>\n",
       "      <td>0.0</td>\n",
       "      <td>0.0</td>\n",
       "      <td>0.0</td>\n",
       "      <td>0.0</td>\n",
       "      <td>0.0</td>\n",
       "      <td>1.0</td>\n",
       "      <td>0.0</td>\n",
       "      <td>0.0</td>\n",
       "      <td>0.0</td>\n",
       "      <td>0.0</td>\n",
       "      <td>0.0</td>\n",
       "      <td>0.0</td>\n",
       "      <td>0.0</td>\n",
       "      <td>0.0</td>\n",
       "      <td>0.0</td>\n",
       "      <td>0.0</td>\n",
       "      <td>0.0</td>\n",
       "    </tr>\n",
       "    <tr>\n",
       "      <th>Brockton, Parkdale Village, Exhibition Place</th>\n",
       "      <td>0.0</td>\n",
       "      <td>0.0</td>\n",
       "      <td>0.0</td>\n",
       "      <td>1.0</td>\n",
       "      <td>0.0</td>\n",
       "      <td>0.0</td>\n",
       "      <td>0.0</td>\n",
       "      <td>0.0</td>\n",
       "      <td>0.0</td>\n",
       "      <td>0.0</td>\n",
       "      <td>0.0</td>\n",
       "      <td>0.0</td>\n",
       "      <td>0.0</td>\n",
       "      <td>0.0</td>\n",
       "      <td>0.0</td>\n",
       "      <td>0.0</td>\n",
       "      <td>0.0</td>\n",
       "    </tr>\n",
       "    <tr>\n",
       "      <th>Business reply mail Processing Centre, South Central Letter Processing Plant Toronto</th>\n",
       "      <td>0.0</td>\n",
       "      <td>0.0</td>\n",
       "      <td>0.0</td>\n",
       "      <td>0.0</td>\n",
       "      <td>0.0</td>\n",
       "      <td>0.0</td>\n",
       "      <td>0.0</td>\n",
       "      <td>0.0</td>\n",
       "      <td>0.0</td>\n",
       "      <td>0.0</td>\n",
       "      <td>0.0</td>\n",
       "      <td>1.0</td>\n",
       "      <td>0.0</td>\n",
       "      <td>0.0</td>\n",
       "      <td>0.0</td>\n",
       "      <td>0.0</td>\n",
       "      <td>0.0</td>\n",
       "    </tr>\n",
       "    <tr>\n",
       "      <th>CN Tower, King and Spadina, Railway Lands, Harbourfront West, Bathurst Quay, South Niagara, Island airport</th>\n",
       "      <td>1.0</td>\n",
       "      <td>0.0</td>\n",
       "      <td>0.0</td>\n",
       "      <td>0.0</td>\n",
       "      <td>0.0</td>\n",
       "      <td>0.0</td>\n",
       "      <td>0.0</td>\n",
       "      <td>0.0</td>\n",
       "      <td>0.0</td>\n",
       "      <td>0.0</td>\n",
       "      <td>0.0</td>\n",
       "      <td>0.0</td>\n",
       "      <td>0.0</td>\n",
       "      <td>0.0</td>\n",
       "      <td>0.0</td>\n",
       "      <td>0.0</td>\n",
       "      <td>0.0</td>\n",
       "    </tr>\n",
       "    <tr>\n",
       "      <th>Central Bay Street</th>\n",
       "      <td>0.0</td>\n",
       "      <td>0.0</td>\n",
       "      <td>0.0</td>\n",
       "      <td>0.0</td>\n",
       "      <td>0.0</td>\n",
       "      <td>1.0</td>\n",
       "      <td>0.0</td>\n",
       "      <td>0.0</td>\n",
       "      <td>0.0</td>\n",
       "      <td>0.0</td>\n",
       "      <td>0.0</td>\n",
       "      <td>0.0</td>\n",
       "      <td>0.0</td>\n",
       "      <td>0.0</td>\n",
       "      <td>0.0</td>\n",
       "      <td>0.0</td>\n",
       "      <td>0.0</td>\n",
       "    </tr>\n",
       "  </tbody>\n",
       "</table>\n",
       "</div>"
      ],
      "text/plain": [
       "1st Most Common Venue                               Airport Service  Bakery  \\\n",
       "Neighborhood                                                                  \n",
       "Berczy Park                                                     0.0     0.0   \n",
       "Brockton, Parkdale Village, Exhibition Place                    0.0     0.0   \n",
       "Business reply mail Processing Centre, South Ce...              0.0     0.0   \n",
       "CN Tower, King and Spadina, Railway Lands, Harb...              1.0     0.0   \n",
       "Central Bay Street                                              0.0     0.0   \n",
       "\n",
       "1st Most Common Venue                               Bar  Café  Clothing Store  \\\n",
       "Neighborhood                                                                    \n",
       "Berczy Park                                         0.0   0.0             0.0   \n",
       "Brockton, Parkdale Village, Exhibition Place        0.0   1.0             0.0   \n",
       "Business reply mail Processing Centre, South Ce...  0.0   0.0             0.0   \n",
       "CN Tower, King and Spadina, Railway Lands, Harb...  0.0   0.0             0.0   \n",
       "Central Bay Street                                  0.0   0.0             0.0   \n",
       "\n",
       "1st Most Common Venue                               Coffee Shop  Gift Shop  \\\n",
       "Neighborhood                                                                 \n",
       "Berczy Park                                                 1.0        0.0   \n",
       "Brockton, Parkdale Village, Exhibition Place                0.0        0.0   \n",
       "Business reply mail Processing Centre, South Ce...          0.0        0.0   \n",
       "CN Tower, King and Spadina, Railway Lands, Harb...          0.0        0.0   \n",
       "Central Bay Street                                          1.0        0.0   \n",
       "\n",
       "1st Most Common Venue                               Greek Restaurant  \\\n",
       "Neighborhood                                                           \n",
       "Berczy Park                                                      0.0   \n",
       "Brockton, Parkdale Village, Exhibition Place                     0.0   \n",
       "Business reply mail Processing Centre, South Ce...               0.0   \n",
       "CN Tower, King and Spadina, Railway Lands, Harb...               0.0   \n",
       "Central Bay Street                                               0.0   \n",
       "\n",
       "1st Most Common Venue                               Grocery Store  \\\n",
       "Neighborhood                                                        \n",
       "Berczy Park                                                   0.0   \n",
       "Brockton, Parkdale Village, Exhibition Place                  0.0   \n",
       "Business reply mail Processing Centre, South Ce...            0.0   \n",
       "CN Tower, King and Spadina, Railway Lands, Harb...            0.0   \n",
       "Central Bay Street                                            0.0   \n",
       "\n",
       "1st Most Common Venue                               Health Food Store  \\\n",
       "Neighborhood                                                            \n",
       "Berczy Park                                                       0.0   \n",
       "Brockton, Parkdale Village, Exhibition Place                      0.0   \n",
       "Business reply mail Processing Centre, South Ce...                0.0   \n",
       "CN Tower, King and Spadina, Railway Lands, Harb...                0.0   \n",
       "Central Bay Street                                                0.0   \n",
       "\n",
       "1st Most Common Venue                               Home Service  \\\n",
       "Neighborhood                                                       \n",
       "Berczy Park                                                  0.0   \n",
       "Brockton, Parkdale Village, Exhibition Place                 0.0   \n",
       "Business reply mail Processing Centre, South Ce...           0.0   \n",
       "CN Tower, King and Spadina, Railway Lands, Harb...           0.0   \n",
       "Central Bay Street                                           0.0   \n",
       "\n",
       "1st Most Common Venue                               Light Rail Station  \\\n",
       "Neighborhood                                                             \n",
       "Berczy Park                                                        0.0   \n",
       "Brockton, Parkdale Village, Exhibition Place                       0.0   \n",
       "Business reply mail Processing Centre, South Ce...                 1.0   \n",
       "CN Tower, King and Spadina, Railway Lands, Harb...                 0.0   \n",
       "Central Bay Street                                                 0.0   \n",
       "\n",
       "1st Most Common Venue                               Mexican Restaurant  Park  \\\n",
       "Neighborhood                                                                   \n",
       "Berczy Park                                                        0.0   0.0   \n",
       "Brockton, Parkdale Village, Exhibition Place                       0.0   0.0   \n",
       "Business reply mail Processing Centre, South Ce...                 0.0   0.0   \n",
       "CN Tower, King and Spadina, Railway Lands, Harb...                 0.0   0.0   \n",
       "Central Bay Street                                                 0.0   0.0   \n",
       "\n",
       "1st Most Common Venue                               Pharmacy  Restaurant  \\\n",
       "Neighborhood                                                               \n",
       "Berczy Park                                              0.0         0.0   \n",
       "Brockton, Parkdale Village, Exhibition Place             0.0         0.0   \n",
       "Business reply mail Processing Centre, South Ce...       0.0         0.0   \n",
       "CN Tower, King and Spadina, Railway Lands, Harb...       0.0         0.0   \n",
       "Central Bay Street                                       0.0         0.0   \n",
       "\n",
       "1st Most Common Venue                               Sandwich Place  \n",
       "Neighborhood                                                        \n",
       "Berczy Park                                                    0.0  \n",
       "Brockton, Parkdale Village, Exhibition Place                   0.0  \n",
       "Business reply mail Processing Centre, South Ce...             0.0  \n",
       "CN Tower, King and Spadina, Railway Lands, Harb...             0.0  \n",
       "Central Bay Street                                             0.0  "
      ]
     },
     "execution_count": 146,
     "metadata": {},
     "output_type": "execute_result"
    }
   ],
   "source": [
    "# to prepare the dataframe for Kmean, we need to change the key fields into numeric \n",
    "top_venues = neighborhoods_venues_sorted[['Neighborhood','1st Most Common Venue']]\n",
    "top_venues['count'] = 1\n",
    "top_venues=top_venues.pivot(index='Neighborhood', columns='1st Most Common Venue',values='count')\n",
    "top_venues=top_venues.fillna(0)\n",
    "top_venues.head()"
   ]
  },
  {
   "cell_type": "markdown",
   "metadata": {},
   "source": [
    "#### Run k-means to cluster the neighborhood into 4 clusters based on the top venues in the neighborhood"
   ]
  },
  {
   "cell_type": "code",
   "execution_count": 148,
   "metadata": {},
   "outputs": [],
   "source": [
    "# set number of clusters\n",
    "kclusters = 4\n",
    "\n",
    "trt_grouped_clustering = top_venues.drop(top_venues.columns[0], axis=1)\n",
    "\n",
    "# run k-means clustering\n",
    "kmeans = KMeans(n_clusters=kclusters, random_state=0).fit(trt_grouped_clustering)\n",
    "\n",
    "# check cluster labels generated for each row in the dataframe\n",
    "kmeans.labels_[0:10] \n",
    "\n",
    "# add clustering labels\n",
    "neighborhoods_venues_sorted.insert(0, 'Cluster Labels', kmeans.labels_)"
   ]
  },
  {
   "cell_type": "markdown",
   "metadata": {},
   "source": [
    "#### Combine the top venues with the latitude/longitude for each neighborhood "
   ]
  },
  {
   "cell_type": "code",
   "execution_count": 149,
   "metadata": {
    "scrolled": true
   },
   "outputs": [
    {
     "data": {
      "text/html": [
       "<div>\n",
       "<style scoped>\n",
       "    .dataframe tbody tr th:only-of-type {\n",
       "        vertical-align: middle;\n",
       "    }\n",
       "\n",
       "    .dataframe tbody tr th {\n",
       "        vertical-align: top;\n",
       "    }\n",
       "\n",
       "    .dataframe thead th {\n",
       "        text-align: right;\n",
       "    }\n",
       "</style>\n",
       "<table border=\"1\" class=\"dataframe\">\n",
       "  <thead>\n",
       "    <tr style=\"text-align: right;\">\n",
       "      <th></th>\n",
       "      <th>Postal Code</th>\n",
       "      <th>Borough</th>\n",
       "      <th>Neighbourhood</th>\n",
       "      <th>Latitude</th>\n",
       "      <th>Longitude</th>\n",
       "      <th>Cluster</th>\n",
       "      <th>Cluster Labels</th>\n",
       "      <th>Neighborhood</th>\n",
       "      <th>1st Most Common Venue</th>\n",
       "      <th>2nd Most Common Venue</th>\n",
       "      <th>3rd Most Common Venue</th>\n",
       "      <th>4th Most Common Venue</th>\n",
       "      <th>5th Most Common Venue</th>\n",
       "    </tr>\n",
       "  </thead>\n",
       "  <tbody>\n",
       "    <tr>\n",
       "      <th>0</th>\n",
       "      <td>M5A</td>\n",
       "      <td>Downtown Toronto</td>\n",
       "      <td>Regent Park, Harbourfront</td>\n",
       "      <td>43.654260</td>\n",
       "      <td>-79.360636</td>\n",
       "      <td>1</td>\n",
       "      <td>2</td>\n",
       "      <td>Regent Park, Harbourfront</td>\n",
       "      <td>Coffee Shop</td>\n",
       "      <td>Bakery</td>\n",
       "      <td>Park</td>\n",
       "      <td>Pub</td>\n",
       "      <td>Breakfast Spot</td>\n",
       "    </tr>\n",
       "    <tr>\n",
       "      <th>1</th>\n",
       "      <td>M7A</td>\n",
       "      <td>Downtown Toronto</td>\n",
       "      <td>Queen's Park, Ontario Provincial Government</td>\n",
       "      <td>43.662301</td>\n",
       "      <td>-79.389494</td>\n",
       "      <td>1</td>\n",
       "      <td>2</td>\n",
       "      <td>Queen's Park, Ontario Provincial Government</td>\n",
       "      <td>Coffee Shop</td>\n",
       "      <td>Diner</td>\n",
       "      <td>Yoga Studio</td>\n",
       "      <td>Hobby Shop</td>\n",
       "      <td>Japanese Restaurant</td>\n",
       "    </tr>\n",
       "    <tr>\n",
       "      <th>2</th>\n",
       "      <td>M5B</td>\n",
       "      <td>Downtown Toronto</td>\n",
       "      <td>Garden District, Ryerson</td>\n",
       "      <td>43.657162</td>\n",
       "      <td>-79.378937</td>\n",
       "      <td>1</td>\n",
       "      <td>0</td>\n",
       "      <td>Garden District, Ryerson</td>\n",
       "      <td>Clothing Store</td>\n",
       "      <td>Coffee Shop</td>\n",
       "      <td>Café</td>\n",
       "      <td>Italian Restaurant</td>\n",
       "      <td>Cosmetics Shop</td>\n",
       "    </tr>\n",
       "    <tr>\n",
       "      <th>3</th>\n",
       "      <td>M5C</td>\n",
       "      <td>Downtown Toronto</td>\n",
       "      <td>St. James Town</td>\n",
       "      <td>43.651494</td>\n",
       "      <td>-79.375418</td>\n",
       "      <td>1</td>\n",
       "      <td>1</td>\n",
       "      <td>St. James Town</td>\n",
       "      <td>Café</td>\n",
       "      <td>Coffee Shop</td>\n",
       "      <td>Clothing Store</td>\n",
       "      <td>Restaurant</td>\n",
       "      <td>Cocktail Bar</td>\n",
       "    </tr>\n",
       "    <tr>\n",
       "      <th>4</th>\n",
       "      <td>M4E</td>\n",
       "      <td>East Toronto</td>\n",
       "      <td>The Beaches</td>\n",
       "      <td>43.676357</td>\n",
       "      <td>-79.293031</td>\n",
       "      <td>3</td>\n",
       "      <td>0</td>\n",
       "      <td>The Beaches</td>\n",
       "      <td>Health Food Store</td>\n",
       "      <td>Pub</td>\n",
       "      <td>Trail</td>\n",
       "      <td>Dog Run</td>\n",
       "      <td>Department Store</td>\n",
       "    </tr>\n",
       "  </tbody>\n",
       "</table>\n",
       "</div>"
      ],
      "text/plain": [
       "  Postal Code           Borough                                Neighbourhood  \\\n",
       "0         M5A  Downtown Toronto                    Regent Park, Harbourfront   \n",
       "1         M7A  Downtown Toronto  Queen's Park, Ontario Provincial Government   \n",
       "2         M5B  Downtown Toronto                     Garden District, Ryerson   \n",
       "3         M5C  Downtown Toronto                               St. James Town   \n",
       "4         M4E      East Toronto                                  The Beaches   \n",
       "\n",
       "    Latitude  Longitude  Cluster  Cluster Labels  \\\n",
       "0  43.654260 -79.360636        1               2   \n",
       "1  43.662301 -79.389494        1               2   \n",
       "2  43.657162 -79.378937        1               0   \n",
       "3  43.651494 -79.375418        1               1   \n",
       "4  43.676357 -79.293031        3               0   \n",
       "\n",
       "                                  Neighborhood 1st Most Common Venue  \\\n",
       "0                    Regent Park, Harbourfront           Coffee Shop   \n",
       "1  Queen's Park, Ontario Provincial Government           Coffee Shop   \n",
       "2                     Garden District, Ryerson        Clothing Store   \n",
       "3                               St. James Town                  Café   \n",
       "4                                  The Beaches     Health Food Store   \n",
       "\n",
       "  2nd Most Common Venue 3rd Most Common Venue 4th Most Common Venue  \\\n",
       "0                Bakery                  Park                   Pub   \n",
       "1                 Diner           Yoga Studio            Hobby Shop   \n",
       "2           Coffee Shop                  Café    Italian Restaurant   \n",
       "3           Coffee Shop        Clothing Store            Restaurant   \n",
       "4                   Pub                 Trail               Dog Run   \n",
       "\n",
       "  5th Most Common Venue  \n",
       "0        Breakfast Spot  \n",
       "1   Japanese Restaurant  \n",
       "2        Cosmetics Shop  \n",
       "3          Cocktail Bar  \n",
       "4      Department Store  "
      ]
     },
     "execution_count": 149,
     "metadata": {},
     "output_type": "execute_result"
    }
   ],
   "source": [
    "merged = df3.merge(neighborhoods_venues_sorted, left_on='Neighbourhood', right_on='Neighborhood')\n",
    "merged.head()"
   ]
  },
  {
   "cell_type": "markdown",
   "metadata": {},
   "source": [
    "### 5. Visualize the result"
   ]
  },
  {
   "cell_type": "code",
   "execution_count": 151,
   "metadata": {},
   "outputs": [],
   "source": [
    "address = 'Toronto, ON'\n",
    "geolocator = Nominatim(user_agent=\"ny_explorer\")\n",
    "location = geolocator.geocode(address)\n",
    "latitude = location.latitude\n",
    "longitude = location.longitude\n",
    "\n",
    "toronto_map = folium.Map(location=[latitude, longitude], zoom_start=12)\n",
    "# add markers to map on each neighborhood\n",
    "for lat, lng, Neighbourhood in zip(df3['Latitude'], df3['Longitude'], df3['Neighbourhood']):\n",
    "    label = Neighbourhood\n",
    "    label = folium.Popup(label, parse_html=True)\n",
    "    folium.CircleMarker(\n",
    "        [lat, lng],\n",
    "        radius=5,\n",
    "        popup=label,\n",
    "        color='blue',\n",
    "        fill=True,\n",
    "        fill_color='#3186cc',\n",
    "        fill_opacity=0.7,\n",
    "        parse_html=False).add_to(toronto_map)  \n",
    "    \n",
    "#toronto_map"
   ]
  },
  {
   "cell_type": "code",
   "execution_count": 157,
   "metadata": {},
   "outputs": [
    {
     "data": {
      "text/html": [
       "<div style=\"width:100%;\"><div style=\"position:relative;width:100%;height:0;padding-bottom:60%;\"><span style=\"color:#565656\">Make this Notebook Trusted to load map: File -> Trust Notebook</span><iframe src=\"about:blank\" style=\"position:absolute;width:100%;height:100%;left:0;top:0;border:none !important;\" data-html=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 onload=\"this.contentDocument.open();this.contentDocument.write(atob(this.getAttribute('data-html')));this.contentDocument.close();\" allowfullscreen webkitallowfullscreen mozallowfullscreen></iframe></div></div>"
      ],
      "text/plain": [
       "<folium.folium.Map at 0x7fd856106780>"
      ]
     },
     "execution_count": 157,
     "metadata": {},
     "output_type": "execute_result"
    }
   ],
   "source": [
    "# create map\n",
    "map_clusters = folium.Map(location=[latitude, longitude], zoom_start=12)\n",
    "\n",
    "# set color scheme for the clusters\n",
    "x = np.arange(kclusters)\n",
    "ys = [i + x + (i*x)**2 for i in range(kclusters)]\n",
    "colors_array = ['red', 'green', 'blue', 'black'] \n",
    "\n",
    "# add markers to the map\n",
    "markers_colors = []\n",
    "for lat, lon, poi, cluster in zip(merged['Latitude'], merged['Longitude'], merged['Neighborhood'], merged['Cluster Labels']):\n",
    "    label = folium.Popup(str(poi) + ' Cluster ' + str(cluster), parse_html=True)\n",
    "    folium.CircleMarker(\n",
    "        [lat, lon],\n",
    "        radius=5,\n",
    "        popup=label,\n",
    "        color=colors_array[cluster-1]).add_to(map_clusters)\n",
    "       \n",
    "map_clusters"
   ]
  }
 ],
 "metadata": {
  "kernelspec": {
   "display_name": "Python 3",
   "language": "python",
   "name": "python3"
  },
  "language_info": {
   "codemirror_mode": {
    "name": "ipython",
    "version": 3
   },
   "file_extension": ".py",
   "mimetype": "text/x-python",
   "name": "python",
   "nbconvert_exporter": "python",
   "pygments_lexer": "ipython3",
   "version": "3.8.3"
  }
 },
 "nbformat": 4,
 "nbformat_minor": 1
}
